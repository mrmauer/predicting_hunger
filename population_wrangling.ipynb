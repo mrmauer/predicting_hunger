{
 "cells": [
  {
   "cell_type": "markdown",
   "metadata": {},
   "source": [
    "# Wrangling data on subnational population"
   ]
  },
  {
   "cell_type": "markdown",
   "metadata": {},
   "source": [
    "Population data provided by [World Bank](https://databank.worldbank.org/reports.aspx?source=subnational-population#). Includes Ethiopia, Sudan, South Sudan, and Tanzania for the period 2009-2016. Kenya is also included, but most regional stats do not align with the boundaries of our target regions. A separate dataset for Kenya will be used below, provided by [OCHA](https://data.humdata.org/dataset/kenya-population-totals-per-county). Years outside of the range of available date will be coded with the nearest known value. For Kenyan, region, 2015 data is used for all years."
   ]
  },
  {
   "cell_type": "code",
   "execution_count": 1,
   "metadata": {},
   "outputs": [],
   "source": [
    "import pandas as pd\n",
    "import numpy as np\n",
    "import geopandas as gpd"
   ]
  },
  {
   "cell_type": "code",
   "execution_count": 2,
   "metadata": {},
   "outputs": [],
   "source": [
    "import matplotlib.pyplot as plt\n",
    "import seaborn as sns"
   ]
  },
  {
   "cell_type": "markdown",
   "metadata": {},
   "source": [
    "## 1 Load  Data\n",
    "Data downloaded as csv to local disc from above link."
   ]
  },
  {
   "cell_type": "code",
   "execution_count": 3,
   "metadata": {},
   "outputs": [
    {
     "name": "stdout",
     "output_type": "stream",
     "text": [
      "(84, 13)\n"
     ]
    },
    {
     "data": {
      "text/html": [
       "<div>\n",
       "<style scoped>\n",
       "    .dataframe tbody tr th:only-of-type {\n",
       "        vertical-align: middle;\n",
       "    }\n",
       "\n",
       "    .dataframe tbody tr th {\n",
       "        vertical-align: top;\n",
       "    }\n",
       "\n",
       "    .dataframe thead th {\n",
       "        text-align: right;\n",
       "    }\n",
       "</style>\n",
       "<table border=\"1\" class=\"dataframe\">\n",
       "  <thead>\n",
       "    <tr style=\"text-align: right;\">\n",
       "      <th></th>\n",
       "      <th>Series Name</th>\n",
       "      <th>Series Code</th>\n",
       "      <th>Level_attr</th>\n",
       "      <th>Country Name</th>\n",
       "      <th>Country Code</th>\n",
       "      <th>2009 [YR2009]</th>\n",
       "      <th>2010 [YR2010]</th>\n",
       "      <th>2011 [YR2011]</th>\n",
       "      <th>2012 [YR2012]</th>\n",
       "      <th>2013 [YR2013]</th>\n",
       "      <th>2014 [YR2014]</th>\n",
       "      <th>2015 [YR2015]</th>\n",
       "      <th>2016 [YR2016]</th>\n",
       "    </tr>\n",
       "  </thead>\n",
       "  <tbody>\n",
       "    <tr>\n",
       "      <th>26</th>\n",
       "      <td>Population, total</td>\n",
       "      <td>SP.POP.TOTL</td>\n",
       "      <td>Tanzania</td>\n",
       "      <td>Tanzania, Njombe</td>\n",
       "      <td>TZA_Njombe_TZ.NJ_115007_TZA031</td>\n",
       "      <td>741000.0</td>\n",
       "      <td>751000.0</td>\n",
       "      <td>760000.0</td>\n",
       "      <td>769000.0</td>\n",
       "      <td>778000.0</td>\n",
       "      <td>788000.0</td>\n",
       "      <td>797000.0</td>\n",
       "      <td>806000.0</td>\n",
       "    </tr>\n",
       "    <tr>\n",
       "      <th>22</th>\n",
       "      <td>Population, total</td>\n",
       "      <td>SP.POP.TOTL</td>\n",
       "      <td>Tanzania</td>\n",
       "      <td>Tanzania, Mjini Magharibi</td>\n",
       "      <td>TZA_Mjini_Magharibi_TZ.ZW_48382_TZA025</td>\n",
       "      <td>563000.0</td>\n",
       "      <td>590000.0</td>\n",
       "      <td>618000.0</td>\n",
       "      <td>647000.0</td>\n",
       "      <td>678000.0</td>\n",
       "      <td>709000.0</td>\n",
       "      <td>742000.0</td>\n",
       "      <td>777000.0</td>\n",
       "    </tr>\n",
       "    <tr>\n",
       "      <th>52</th>\n",
       "      <td>Population, total</td>\n",
       "      <td>SP.POP.TOTL</td>\n",
       "      <td>South Sudan</td>\n",
       "      <td>South Sudan, El Buheyrat</td>\n",
       "      <td>SSD_El_Buheyrat_SS.EB_2746_SSD003</td>\n",
       "      <td>815000.0</td>\n",
       "      <td>848000.0</td>\n",
       "      <td>880000.0</td>\n",
       "      <td>911000.0</td>\n",
       "      <td>941000.0</td>\n",
       "      <td>971000.0</td>\n",
       "      <td>1001000.0</td>\n",
       "      <td>1030000.0</td>\n",
       "    </tr>\n",
       "    <tr>\n",
       "      <th>28</th>\n",
       "      <td>Population, total</td>\n",
       "      <td>SP.POP.TOTL</td>\n",
       "      <td>Tanzania</td>\n",
       "      <td>Tanzania, Rukwa</td>\n",
       "      <td>TZA_Rukwa_TZ.RK_115008_TZA017</td>\n",
       "      <td>983000.0</td>\n",
       "      <td>1020000.0</td>\n",
       "      <td>1058000.0</td>\n",
       "      <td>1097000.0</td>\n",
       "      <td>1137000.0</td>\n",
       "      <td>1178000.0</td>\n",
       "      <td>1221000.0</td>\n",
       "      <td>1265000.0</td>\n",
       "    </tr>\n",
       "    <tr>\n",
       "      <th>18</th>\n",
       "      <td>Population, total</td>\n",
       "      <td>SP.POP.TOTL</td>\n",
       "      <td>Tanzania</td>\n",
       "      <td>Tanzania, Lindi</td>\n",
       "      <td>TZA_Lindi_TZ.LI_48364_TZA008</td>\n",
       "      <td>909000.0</td>\n",
       "      <td>922000.0</td>\n",
       "      <td>934000.0</td>\n",
       "      <td>947000.0</td>\n",
       "      <td>960000.0</td>\n",
       "      <td>972000.0</td>\n",
       "      <td>985000.0</td>\n",
       "      <td>998000.0</td>\n",
       "    </tr>\n",
       "    <tr>\n",
       "      <th>79</th>\n",
       "      <td>NaN</td>\n",
       "      <td>NaN</td>\n",
       "      <td>NaN</td>\n",
       "      <td>NaN</td>\n",
       "      <td>NaN</td>\n",
       "      <td>NaN</td>\n",
       "      <td>NaN</td>\n",
       "      <td>NaN</td>\n",
       "      <td>NaN</td>\n",
       "      <td>NaN</td>\n",
       "      <td>NaN</td>\n",
       "      <td>NaN</td>\n",
       "      <td>NaN</td>\n",
       "    </tr>\n",
       "    <tr>\n",
       "      <th>44</th>\n",
       "      <td>Population, total</td>\n",
       "      <td>SP.POP.TOTL</td>\n",
       "      <td>Sudan</td>\n",
       "      <td>Sudan, Red Sea</td>\n",
       "      <td>SDN_Red_Sea_SD.RS_40772_SDN013</td>\n",
       "      <td>1380000.0</td>\n",
       "      <td>1375000.0</td>\n",
       "      <td>1375000.0</td>\n",
       "      <td>1382000.0</td>\n",
       "      <td>1393000.0</td>\n",
       "      <td>1419000.0</td>\n",
       "      <td>1434000.0</td>\n",
       "      <td>1449000.0</td>\n",
       "    </tr>\n",
       "    <tr>\n",
       "      <th>2</th>\n",
       "      <td>Population, total</td>\n",
       "      <td>SP.POP.TOTL</td>\n",
       "      <td>NaN</td>\n",
       "      <td>Sudan</td>\n",
       "      <td>SDN</td>\n",
       "      <td>33651000.0</td>\n",
       "      <td>34386000.0</td>\n",
       "      <td>35167000.0</td>\n",
       "      <td>35990000.0</td>\n",
       "      <td>36850000.0</td>\n",
       "      <td>37738000.0</td>\n",
       "      <td>38648000.0</td>\n",
       "      <td>39579000.0</td>\n",
       "    </tr>\n",
       "    <tr>\n",
       "      <th>30</th>\n",
       "      <td>Population, total</td>\n",
       "      <td>SP.POP.TOTL</td>\n",
       "      <td>Tanzania</td>\n",
       "      <td>Tanzania, Shinyanga</td>\n",
       "      <td>TZA_Shinyanga_TZ.SH_115009_TZA019</td>\n",
       "      <td>1557000.0</td>\n",
       "      <td>1597000.0</td>\n",
       "      <td>1637000.0</td>\n",
       "      <td>1678000.0</td>\n",
       "      <td>1720000.0</td>\n",
       "      <td>1762000.0</td>\n",
       "      <td>1805000.0</td>\n",
       "      <td>1849000.0</td>\n",
       "    </tr>\n",
       "    <tr>\n",
       "      <th>63</th>\n",
       "      <td>Population, total</td>\n",
       "      <td>SP.POP.TOTL</td>\n",
       "      <td>Kenya</td>\n",
       "      <td>Kenya, Nairobi</td>\n",
       "      <td>KEN_Nairobi_Province_KE.NP_51328_KEN004</td>\n",
       "      <td>3267000.0</td>\n",
       "      <td>3381000.0</td>\n",
       "      <td>3499000.0</td>\n",
       "      <td>3618000.0</td>\n",
       "      <td>3739000.0</td>\n",
       "      <td>3863000.0</td>\n",
       "      <td>3987000.0</td>\n",
       "      <td>4113000.0</td>\n",
       "    </tr>\n",
       "  </tbody>\n",
       "</table>\n",
       "</div>"
      ],
      "text/plain": [
       "          Series Name  Series Code   Level_attr               Country Name  \\\n",
       "26  Population, total  SP.POP.TOTL     Tanzania           Tanzania, Njombe   \n",
       "22  Population, total  SP.POP.TOTL     Tanzania  Tanzania, Mjini Magharibi   \n",
       "52  Population, total  SP.POP.TOTL  South Sudan   South Sudan, El Buheyrat   \n",
       "28  Population, total  SP.POP.TOTL     Tanzania            Tanzania, Rukwa   \n",
       "18  Population, total  SP.POP.TOTL     Tanzania            Tanzania, Lindi   \n",
       "79                NaN          NaN          NaN                        NaN   \n",
       "44  Population, total  SP.POP.TOTL        Sudan             Sudan, Red Sea   \n",
       "2   Population, total  SP.POP.TOTL          NaN                      Sudan   \n",
       "30  Population, total  SP.POP.TOTL     Tanzania        Tanzania, Shinyanga   \n",
       "63  Population, total  SP.POP.TOTL        Kenya             Kenya, Nairobi   \n",
       "\n",
       "                               Country Code  2009 [YR2009]  2010 [YR2010]  \\\n",
       "26           TZA_Njombe_TZ.NJ_115007_TZA031       741000.0       751000.0   \n",
       "22   TZA_Mjini_Magharibi_TZ.ZW_48382_TZA025       563000.0       590000.0   \n",
       "52        SSD_El_Buheyrat_SS.EB_2746_SSD003       815000.0       848000.0   \n",
       "28            TZA_Rukwa_TZ.RK_115008_TZA017       983000.0      1020000.0   \n",
       "18             TZA_Lindi_TZ.LI_48364_TZA008       909000.0       922000.0   \n",
       "79                                      NaN            NaN            NaN   \n",
       "44           SDN_Red_Sea_SD.RS_40772_SDN013      1380000.0      1375000.0   \n",
       "2                                       SDN     33651000.0     34386000.0   \n",
       "30        TZA_Shinyanga_TZ.SH_115009_TZA019      1557000.0      1597000.0   \n",
       "63  KEN_Nairobi_Province_KE.NP_51328_KEN004      3267000.0      3381000.0   \n",
       "\n",
       "    2011 [YR2011]  2012 [YR2012]  2013 [YR2013]  2014 [YR2014]  2015 [YR2015]  \\\n",
       "26       760000.0       769000.0       778000.0       788000.0       797000.0   \n",
       "22       618000.0       647000.0       678000.0       709000.0       742000.0   \n",
       "52       880000.0       911000.0       941000.0       971000.0      1001000.0   \n",
       "28      1058000.0      1097000.0      1137000.0      1178000.0      1221000.0   \n",
       "18       934000.0       947000.0       960000.0       972000.0       985000.0   \n",
       "79            NaN            NaN            NaN            NaN            NaN   \n",
       "44      1375000.0      1382000.0      1393000.0      1419000.0      1434000.0   \n",
       "2      35167000.0     35990000.0     36850000.0     37738000.0     38648000.0   \n",
       "30      1637000.0      1678000.0      1720000.0      1762000.0      1805000.0   \n",
       "63      3499000.0      3618000.0      3739000.0      3863000.0      3987000.0   \n",
       "\n",
       "    2016 [YR2016]  \n",
       "26       806000.0  \n",
       "22       777000.0  \n",
       "52      1030000.0  \n",
       "28      1265000.0  \n",
       "18       998000.0  \n",
       "79            NaN  \n",
       "44      1449000.0  \n",
       "2      39579000.0  \n",
       "30      1849000.0  \n",
       "63      4113000.0  "
      ]
     },
     "execution_count": 3,
     "metadata": {},
     "output_type": "execute_result"
    }
   ],
   "source": [
    "pop = pd.read_csv('e5267ea5-0dea-4e0f-84b7-e0007b0a1c00_Data.csv')\n",
    "\n",
    "print(pop.shape)\n",
    "pop.sample(10)"
   ]
  },
  {
   "cell_type": "markdown",
   "metadata": {},
   "source": [
    "## 2 Reshape Data\n",
    "- Drop rows for national level data.\n",
    "- Extract admin1 name from the 'Country Name' column.\n",
    "- Rename columns for future ease of use.\n",
    "- __Use 2016 population statistics to fill for 2017-2019.__\n",
    "- Melt data down to county-admin1-year level and losing excess data."
   ]
  },
  {
   "cell_type": "code",
   "execution_count": 4,
   "metadata": {},
   "outputs": [
    {
     "data": {
      "text/html": [
       "<div>\n",
       "<style scoped>\n",
       "    .dataframe tbody tr th:only-of-type {\n",
       "        vertical-align: middle;\n",
       "    }\n",
       "\n",
       "    .dataframe tbody tr th {\n",
       "        vertical-align: top;\n",
       "    }\n",
       "\n",
       "    .dataframe thead th {\n",
       "        text-align: right;\n",
       "    }\n",
       "</style>\n",
       "<table border=\"1\" class=\"dataframe\">\n",
       "  <thead>\n",
       "    <tr style=\"text-align: right;\">\n",
       "      <th></th>\n",
       "      <th>Series Name</th>\n",
       "      <th>Series Code</th>\n",
       "      <th>Level_attr</th>\n",
       "      <th>Country Name</th>\n",
       "      <th>Country Code</th>\n",
       "      <th>2009 [YR2009]</th>\n",
       "      <th>2010 [YR2010]</th>\n",
       "      <th>2011 [YR2011]</th>\n",
       "      <th>2012 [YR2012]</th>\n",
       "      <th>2013 [YR2013]</th>\n",
       "      <th>2014 [YR2014]</th>\n",
       "      <th>2015 [YR2015]</th>\n",
       "      <th>2016 [YR2016]</th>\n",
       "    </tr>\n",
       "  </thead>\n",
       "  <tbody>\n",
       "    <tr>\n",
       "      <th>5</th>\n",
       "      <td>Population, total</td>\n",
       "      <td>SP.POP.TOTL</td>\n",
       "      <td>Tanzania</td>\n",
       "      <td>Tanzania, Arusha</td>\n",
       "      <td>TZA_Arusha_City_115082</td>\n",
       "      <td>1682000.0</td>\n",
       "      <td>1737000.0</td>\n",
       "      <td>1793000.0</td>\n",
       "      <td>1851000.0</td>\n",
       "      <td>1910000.0</td>\n",
       "      <td>1970000.0</td>\n",
       "      <td>2032000.0</td>\n",
       "      <td>2095000.0</td>\n",
       "    </tr>\n",
       "    <tr>\n",
       "      <th>6</th>\n",
       "      <td>Population, total</td>\n",
       "      <td>SP.POP.TOTL</td>\n",
       "      <td>Tanzania</td>\n",
       "      <td>Tanzania, Dar-es-salaam</td>\n",
       "      <td>TZA_Dar-es-salaam_TZ.DS_48358_TZA002</td>\n",
       "      <td>3957000.0</td>\n",
       "      <td>4206000.0</td>\n",
       "      <td>4469000.0</td>\n",
       "      <td>4747000.0</td>\n",
       "      <td>5041000.0</td>\n",
       "      <td>5353000.0</td>\n",
       "      <td>5682000.0</td>\n",
       "      <td>6031000.0</td>\n",
       "    </tr>\n",
       "  </tbody>\n",
       "</table>\n",
       "</div>"
      ],
      "text/plain": [
       "         Series Name  Series Code Level_attr             Country Name  \\\n",
       "5  Population, total  SP.POP.TOTL   Tanzania         Tanzania, Arusha   \n",
       "6  Population, total  SP.POP.TOTL   Tanzania  Tanzania, Dar-es-salaam   \n",
       "\n",
       "                           Country Code  2009 [YR2009]  2010 [YR2010]  \\\n",
       "5                TZA_Arusha_City_115082      1682000.0      1737000.0   \n",
       "6  TZA_Dar-es-salaam_TZ.DS_48358_TZA002      3957000.0      4206000.0   \n",
       "\n",
       "   2011 [YR2011]  2012 [YR2012]  2013 [YR2013]  2014 [YR2014]  2015 [YR2015]  \\\n",
       "5      1793000.0      1851000.0      1910000.0      1970000.0      2032000.0   \n",
       "6      4469000.0      4747000.0      5041000.0      5353000.0      5682000.0   \n",
       "\n",
       "   2016 [YR2016]  \n",
       "5      2095000.0  \n",
       "6      6031000.0  "
      ]
     },
     "execution_count": 4,
     "metadata": {},
     "output_type": "execute_result"
    }
   ],
   "source": [
    "pop = pop[~pop['Level_attr'].isna()]\n",
    "\n",
    "pop.head(2)"
   ]
  },
  {
   "cell_type": "code",
   "execution_count": 5,
   "metadata": {},
   "outputs": [
    {
     "data": {
      "text/html": [
       "<div>\n",
       "<style scoped>\n",
       "    .dataframe tbody tr th:only-of-type {\n",
       "        vertical-align: middle;\n",
       "    }\n",
       "\n",
       "    .dataframe tbody tr th {\n",
       "        vertical-align: top;\n",
       "    }\n",
       "\n",
       "    .dataframe thead th {\n",
       "        text-align: right;\n",
       "    }\n",
       "</style>\n",
       "<table border=\"1\" class=\"dataframe\">\n",
       "  <thead>\n",
       "    <tr style=\"text-align: right;\">\n",
       "      <th></th>\n",
       "      <th>Series Name</th>\n",
       "      <th>Series Code</th>\n",
       "      <th>Level_attr</th>\n",
       "      <th>Country Name</th>\n",
       "      <th>Country Code</th>\n",
       "      <th>2009 [YR2009]</th>\n",
       "      <th>2010 [YR2010]</th>\n",
       "      <th>2011 [YR2011]</th>\n",
       "      <th>2012 [YR2012]</th>\n",
       "      <th>2013 [YR2013]</th>\n",
       "      <th>2014 [YR2014]</th>\n",
       "      <th>2015 [YR2015]</th>\n",
       "      <th>2016 [YR2016]</th>\n",
       "      <th>admin1</th>\n",
       "    </tr>\n",
       "  </thead>\n",
       "  <tbody>\n",
       "    <tr>\n",
       "      <th>5</th>\n",
       "      <td>Population, total</td>\n",
       "      <td>SP.POP.TOTL</td>\n",
       "      <td>Tanzania</td>\n",
       "      <td>Tanzania, Arusha</td>\n",
       "      <td>TZA_Arusha_City_115082</td>\n",
       "      <td>1682000.0</td>\n",
       "      <td>1737000.0</td>\n",
       "      <td>1793000.0</td>\n",
       "      <td>1851000.0</td>\n",
       "      <td>1910000.0</td>\n",
       "      <td>1970000.0</td>\n",
       "      <td>2032000.0</td>\n",
       "      <td>2095000.0</td>\n",
       "      <td>Arusha</td>\n",
       "    </tr>\n",
       "    <tr>\n",
       "      <th>6</th>\n",
       "      <td>Population, total</td>\n",
       "      <td>SP.POP.TOTL</td>\n",
       "      <td>Tanzania</td>\n",
       "      <td>Tanzania, Dar-es-salaam</td>\n",
       "      <td>TZA_Dar-es-salaam_TZ.DS_48358_TZA002</td>\n",
       "      <td>3957000.0</td>\n",
       "      <td>4206000.0</td>\n",
       "      <td>4469000.0</td>\n",
       "      <td>4747000.0</td>\n",
       "      <td>5041000.0</td>\n",
       "      <td>5353000.0</td>\n",
       "      <td>5682000.0</td>\n",
       "      <td>6031000.0</td>\n",
       "      <td>Dar-es-salaam</td>\n",
       "    </tr>\n",
       "  </tbody>\n",
       "</table>\n",
       "</div>"
      ],
      "text/plain": [
       "         Series Name  Series Code Level_attr             Country Name  \\\n",
       "5  Population, total  SP.POP.TOTL   Tanzania         Tanzania, Arusha   \n",
       "6  Population, total  SP.POP.TOTL   Tanzania  Tanzania, Dar-es-salaam   \n",
       "\n",
       "                           Country Code  2009 [YR2009]  2010 [YR2010]  \\\n",
       "5                TZA_Arusha_City_115082      1682000.0      1737000.0   \n",
       "6  TZA_Dar-es-salaam_TZ.DS_48358_TZA002      3957000.0      4206000.0   \n",
       "\n",
       "   2011 [YR2011]  2012 [YR2012]  2013 [YR2013]  2014 [YR2014]  2015 [YR2015]  \\\n",
       "5      1793000.0      1851000.0      1910000.0      1970000.0      2032000.0   \n",
       "6      4469000.0      4747000.0      5041000.0      5353000.0      5682000.0   \n",
       "\n",
       "   2016 [YR2016]         admin1  \n",
       "5      2095000.0         Arusha  \n",
       "6      6031000.0  Dar-es-salaam  "
      ]
     },
     "execution_count": 5,
     "metadata": {},
     "output_type": "execute_result"
    }
   ],
   "source": [
    "pop['admin1'] = pop['Country Name'].map(lambda x: x.split(', ')[1])\n",
    "\n",
    "pop.head(2)"
   ]
  },
  {
   "cell_type": "code",
   "execution_count": 6,
   "metadata": {},
   "outputs": [
    {
     "data": {
      "text/html": [
       "<div>\n",
       "<style scoped>\n",
       "    .dataframe tbody tr th:only-of-type {\n",
       "        vertical-align: middle;\n",
       "    }\n",
       "\n",
       "    .dataframe tbody tr th {\n",
       "        vertical-align: top;\n",
       "    }\n",
       "\n",
       "    .dataframe thead th {\n",
       "        text-align: right;\n",
       "    }\n",
       "</style>\n",
       "<table border=\"1\" class=\"dataframe\">\n",
       "  <thead>\n",
       "    <tr style=\"text-align: right;\">\n",
       "      <th></th>\n",
       "      <th>Series Name</th>\n",
       "      <th>Series Code</th>\n",
       "      <th>country</th>\n",
       "      <th>Country Name</th>\n",
       "      <th>Country Code</th>\n",
       "      <th>2009</th>\n",
       "      <th>2010</th>\n",
       "      <th>2011</th>\n",
       "      <th>2012</th>\n",
       "      <th>2013</th>\n",
       "      <th>2014</th>\n",
       "      <th>2015</th>\n",
       "      <th>2016</th>\n",
       "      <th>admin1</th>\n",
       "    </tr>\n",
       "  </thead>\n",
       "  <tbody>\n",
       "    <tr>\n",
       "      <th>44</th>\n",
       "      <td>Population, total</td>\n",
       "      <td>SP.POP.TOTL</td>\n",
       "      <td>Sudan</td>\n",
       "      <td>Sudan, Red Sea</td>\n",
       "      <td>SDN_Red_Sea_SD.RS_40772_SDN013</td>\n",
       "      <td>1380000.0</td>\n",
       "      <td>1375000.0</td>\n",
       "      <td>1375000.0</td>\n",
       "      <td>1382000.0</td>\n",
       "      <td>1393000.0</td>\n",
       "      <td>1419000.0</td>\n",
       "      <td>1434000.0</td>\n",
       "      <td>1449000.0</td>\n",
       "      <td>Red Sea</td>\n",
       "    </tr>\n",
       "    <tr>\n",
       "      <th>34</th>\n",
       "      <td>Population, total</td>\n",
       "      <td>SP.POP.TOTL</td>\n",
       "      <td>Tanzania</td>\n",
       "      <td>Tanzania, Tanga</td>\n",
       "      <td>TZA_Tanga_District_48506</td>\n",
       "      <td>2063000.0</td>\n",
       "      <td>2120000.0</td>\n",
       "      <td>2177000.0</td>\n",
       "      <td>2236000.0</td>\n",
       "      <td>2295000.0</td>\n",
       "      <td>2356000.0</td>\n",
       "      <td>2418000.0</td>\n",
       "      <td>2480000.0</td>\n",
       "      <td>Tanga</td>\n",
       "    </tr>\n",
       "  </tbody>\n",
       "</table>\n",
       "</div>"
      ],
      "text/plain": [
       "          Series Name  Series Code   country     Country Name  \\\n",
       "44  Population, total  SP.POP.TOTL     Sudan   Sudan, Red Sea   \n",
       "34  Population, total  SP.POP.TOTL  Tanzania  Tanzania, Tanga   \n",
       "\n",
       "                      Country Code       2009       2010       2011  \\\n",
       "44  SDN_Red_Sea_SD.RS_40772_SDN013  1380000.0  1375000.0  1375000.0   \n",
       "34        TZA_Tanga_District_48506  2063000.0  2120000.0  2177000.0   \n",
       "\n",
       "         2012       2013       2014       2015       2016   admin1  \n",
       "44  1382000.0  1393000.0  1419000.0  1434000.0  1449000.0  Red Sea  \n",
       "34  2236000.0  2295000.0  2356000.0  2418000.0  2480000.0    Tanga  "
      ]
     },
     "execution_count": 6,
     "metadata": {},
     "output_type": "execute_result"
    }
   ],
   "source": [
    "naming = {\n",
    "    '2009 [YR2009]': '2009',\n",
    "    '2010 [YR2010]': '2010',\n",
    "    '2011 [YR2011]': '2011',\n",
    "    '2012 [YR2012]': '2012',\n",
    "    '2013 [YR2013]': '2013',\n",
    "    '2014 [YR2014]': '2014',\n",
    "    '2015 [YR2015]': '2015',\n",
    "    '2016 [YR2016]': '2016',\n",
    "    'Level_attr': 'country'\n",
    "}\n",
    "\n",
    "pop.rename(columns=naming, inplace=True)\n",
    "\n",
    "pop.sample(2)"
   ]
  },
  {
   "cell_type": "code",
   "execution_count": 7,
   "metadata": {},
   "outputs": [],
   "source": [
    "for i in range(1,4):\n",
    "    pop[str(2016+i)] = pop['2016']"
   ]
  },
  {
   "cell_type": "code",
   "execution_count": 8,
   "metadata": {},
   "outputs": [
    {
     "data": {
      "text/html": [
       "<div>\n",
       "<style scoped>\n",
       "    .dataframe tbody tr th:only-of-type {\n",
       "        vertical-align: middle;\n",
       "    }\n",
       "\n",
       "    .dataframe tbody tr th {\n",
       "        vertical-align: top;\n",
       "    }\n",
       "\n",
       "    .dataframe thead th {\n",
       "        text-align: right;\n",
       "    }\n",
       "</style>\n",
       "<table border=\"1\" class=\"dataframe\">\n",
       "  <thead>\n",
       "    <tr style=\"text-align: right;\">\n",
       "      <th></th>\n",
       "      <th>country</th>\n",
       "      <th>admin1</th>\n",
       "      <th>year</th>\n",
       "      <th>pop</th>\n",
       "    </tr>\n",
       "  </thead>\n",
       "  <tbody>\n",
       "    <tr>\n",
       "      <th>680</th>\n",
       "      <td>Tanzania</td>\n",
       "      <td>Manyara</td>\n",
       "      <td>2018</td>\n",
       "      <td>1792000.0</td>\n",
       "    </tr>\n",
       "    <tr>\n",
       "      <th>178</th>\n",
       "      <td>Sudan</td>\n",
       "      <td>Al Jazeera</td>\n",
       "      <td>2011</td>\n",
       "      <td>4129000.0</td>\n",
       "    </tr>\n",
       "    <tr>\n",
       "      <th>232</th>\n",
       "      <td>Tanzania</td>\n",
       "      <td>Kilimanjaro</td>\n",
       "      <td>2012</td>\n",
       "      <td>1794000.0</td>\n",
       "    </tr>\n",
       "  </tbody>\n",
       "</table>\n",
       "</div>"
      ],
      "text/plain": [
       "      country       admin1  year        pop\n",
       "680  Tanzania      Manyara  2018  1792000.0\n",
       "178     Sudan   Al Jazeera  2011  4129000.0\n",
       "232  Tanzania  Kilimanjaro  2012  1794000.0"
      ]
     },
     "execution_count": 8,
     "metadata": {},
     "output_type": "execute_result"
    }
   ],
   "source": [
    "pop_long = pop.melt(id_vars = ['country', 'admin1'],\n",
    "                   value_vars = ['2009', '2010', '2011', '2012', \n",
    "                                 '2013', '2014', '2015', '2016',\n",
    "                                 '2017', '2018', '2019'],\n",
    "                   var_name = 'year',\n",
    "                   value_name = 'pop')\n",
    "\n",
    "pop_long.sample(3)"
   ]
  },
  {
   "cell_type": "code",
   "execution_count": 9,
   "metadata": {},
   "outputs": [
    {
     "data": {
      "text/plain": [
       "(814, 4)"
      ]
     },
     "execution_count": 9,
     "metadata": {},
     "output_type": "execute_result"
    }
   ],
   "source": [
    "pop_long.shape"
   ]
  },
  {
   "cell_type": "markdown",
   "metadata": {},
   "source": [
    "## 3 Merge with our baseline data set\n",
    "- Load the geojson of region-month level hunger score data into a table.\n",
    "- __Remove duplicates in the region_scores data__\n",
    "- Link admin1 names  \n",
    "    - difference the two sets\n",
    "    - use levenshtein distance to build a map for converting admin1 names from population data\n",
    "    - convert\n",
    "- Merge the two data — outer join preserving all hunger scores and broad casting population stats to all months of that year."
   ]
  },
  {
   "cell_type": "markdown",
   "metadata": {},
   "source": [
    "### 3.1 Load"
   ]
  },
  {
   "cell_type": "code",
   "execution_count": 10,
   "metadata": {},
   "outputs": [
    {
     "name": "stdout",
     "output_type": "stream",
     "text": [
      "(4312, 6)\n"
     ]
    },
    {
     "data": {
      "text/html": [
       "<div>\n",
       "<style scoped>\n",
       "    .dataframe tbody tr th:only-of-type {\n",
       "        vertical-align: middle;\n",
       "    }\n",
       "\n",
       "    .dataframe tbody tr th {\n",
       "        vertical-align: top;\n",
       "    }\n",
       "\n",
       "    .dataframe thead th {\n",
       "        text-align: right;\n",
       "    }\n",
       "</style>\n",
       "<table border=\"1\" class=\"dataframe\">\n",
       "  <thead>\n",
       "    <tr style=\"text-align: right;\">\n",
       "      <th></th>\n",
       "      <th>ADMIN0</th>\n",
       "      <th>ADMIN1</th>\n",
       "      <th>month</th>\n",
       "      <th>year</th>\n",
       "      <th>CS</th>\n",
       "      <th>geometry</th>\n",
       "    </tr>\n",
       "  </thead>\n",
       "  <tbody>\n",
       "    <tr>\n",
       "      <th>2880</th>\n",
       "      <td>Kenya</td>\n",
       "      <td>Samburu</td>\n",
       "      <td>12.0</td>\n",
       "      <td>2018.0</td>\n",
       "      <td>1.500000</td>\n",
       "      <td>POLYGON ((36.75991 2.51235, 36.76614 2.49117, ...</td>\n",
       "    </tr>\n",
       "    <tr>\n",
       "      <th>1377</th>\n",
       "      <td>South Sudan</td>\n",
       "      <td>Western Bahr el Ghazal</td>\n",
       "      <td>10.0</td>\n",
       "      <td>2011.0</td>\n",
       "      <td>1.500000</td>\n",
       "      <td>POLYGON ((25.81703 10.43416, 25.81988 10.43083...</td>\n",
       "    </tr>\n",
       "    <tr>\n",
       "      <th>3558</th>\n",
       "      <td>Somalia</td>\n",
       "      <td>Gedo</td>\n",
       "      <td>7.0</td>\n",
       "      <td>2009.0</td>\n",
       "      <td>3.000000</td>\n",
       "      <td>POLYGON ((42.89000 4.29000, 43.09052 3.94625, ...</td>\n",
       "    </tr>\n",
       "    <tr>\n",
       "      <th>310</th>\n",
       "      <td>Ethiopia</td>\n",
       "      <td>Tigray</td>\n",
       "      <td>4.0</td>\n",
       "      <td>2011.0</td>\n",
       "      <td>2.000000</td>\n",
       "      <td>POLYGON ((39.99758 14.45305, 39.98742 14.43717...</td>\n",
       "    </tr>\n",
       "    <tr>\n",
       "      <th>1735</th>\n",
       "      <td>Kenya</td>\n",
       "      <td>Elgeyo-Marakwet</td>\n",
       "      <td>6.0</td>\n",
       "      <td>2018.0</td>\n",
       "      <td>1.000000</td>\n",
       "      <td>POLYGON ((35.69886 1.27917, 35.69833 1.27657, ...</td>\n",
       "    </tr>\n",
       "    <tr>\n",
       "      <th>3434</th>\n",
       "      <td>Somalia</td>\n",
       "      <td>Bari</td>\n",
       "      <td>7.0</td>\n",
       "      <td>2014.0</td>\n",
       "      <td>2.500000</td>\n",
       "      <td>POLYGON ((50.79877 11.98356, 50.80576 11.97939...</td>\n",
       "    </tr>\n",
       "    <tr>\n",
       "      <th>1173</th>\n",
       "      <td>South Sudan</td>\n",
       "      <td>Lakes</td>\n",
       "      <td>10.0</td>\n",
       "      <td>2014.0</td>\n",
       "      <td>1.666667</td>\n",
       "      <td>POLYGON ((30.37129 7.08209, 30.53654 7.06721, ...</td>\n",
       "    </tr>\n",
       "    <tr>\n",
       "      <th>1166</th>\n",
       "      <td>South Sudan</td>\n",
       "      <td>Lakes</td>\n",
       "      <td>1.0</td>\n",
       "      <td>2010.0</td>\n",
       "      <td>1.500000</td>\n",
       "      <td>POLYGON ((30.37129 7.08209, 30.53654 7.06721, ...</td>\n",
       "    </tr>\n",
       "    <tr>\n",
       "      <th>1251</th>\n",
       "      <td>South Sudan</td>\n",
       "      <td>Unity</td>\n",
       "      <td>7.0</td>\n",
       "      <td>2014.0</td>\n",
       "      <td>2.500000</td>\n",
       "      <td>POLYGON ((30.78923 9.75142, 30.79288 9.74854, ...</td>\n",
       "    </tr>\n",
       "    <tr>\n",
       "      <th>537</th>\n",
       "      <td>Sudan</td>\n",
       "      <td>East Darfur</td>\n",
       "      <td>7.0</td>\n",
       "      <td>2010.0</td>\n",
       "      <td>2.000000</td>\n",
       "      <td>POLYGON ((25.50750 12.96663, 25.56105 12.95551...</td>\n",
       "    </tr>\n",
       "  </tbody>\n",
       "</table>\n",
       "</div>"
      ],
      "text/plain": [
       "           ADMIN0                  ADMIN1  month    year        CS  \\\n",
       "2880        Kenya                 Samburu   12.0  2018.0  1.500000   \n",
       "1377  South Sudan  Western Bahr el Ghazal   10.0  2011.0  1.500000   \n",
       "3558      Somalia                    Gedo    7.0  2009.0  3.000000   \n",
       "310      Ethiopia                  Tigray    4.0  2011.0  2.000000   \n",
       "1735        Kenya         Elgeyo-Marakwet    6.0  2018.0  1.000000   \n",
       "3434      Somalia                    Bari    7.0  2014.0  2.500000   \n",
       "1173  South Sudan                   Lakes   10.0  2014.0  1.666667   \n",
       "1166  South Sudan                   Lakes    1.0  2010.0  1.500000   \n",
       "1251  South Sudan                   Unity    7.0  2014.0  2.500000   \n",
       "537         Sudan             East Darfur    7.0  2010.0  2.000000   \n",
       "\n",
       "                                               geometry  \n",
       "2880  POLYGON ((36.75991 2.51235, 36.76614 2.49117, ...  \n",
       "1377  POLYGON ((25.81703 10.43416, 25.81988 10.43083...  \n",
       "3558  POLYGON ((42.89000 4.29000, 43.09052 3.94625, ...  \n",
       "310   POLYGON ((39.99758 14.45305, 39.98742 14.43717...  \n",
       "1735  POLYGON ((35.69886 1.27917, 35.69833 1.27657, ...  \n",
       "3434  POLYGON ((50.79877 11.98356, 50.80576 11.97939...  \n",
       "1173  POLYGON ((30.37129 7.08209, 30.53654 7.06721, ...  \n",
       "1166  POLYGON ((30.37129 7.08209, 30.53654 7.06721, ...  \n",
       "1251  POLYGON ((30.78923 9.75142, 30.79288 9.74854, ...  \n",
       "537   POLYGON ((25.50750 12.96663, 25.56105 12.95551...  "
      ]
     },
     "execution_count": 10,
     "metadata": {},
     "output_type": "execute_result"
    }
   ],
   "source": [
    "scores = gpd.read_file('region_scores.geojson')\n",
    "\n",
    "print(scores.shape)\n",
    "scores.sample(10)"
   ]
  },
  {
   "cell_type": "code",
   "execution_count": 11,
   "metadata": {},
   "outputs": [
    {
     "data": {
      "text/html": [
       "<div>\n",
       "<style scoped>\n",
       "    .dataframe tbody tr th:only-of-type {\n",
       "        vertical-align: middle;\n",
       "    }\n",
       "\n",
       "    .dataframe tbody tr th {\n",
       "        vertical-align: top;\n",
       "    }\n",
       "\n",
       "    .dataframe thead th {\n",
       "        text-align: right;\n",
       "    }\n",
       "</style>\n",
       "<table border=\"1\" class=\"dataframe\">\n",
       "  <thead>\n",
       "    <tr style=\"text-align: right;\">\n",
       "      <th></th>\n",
       "      <th>country</th>\n",
       "      <th>admin1</th>\n",
       "      <th>month</th>\n",
       "      <th>year</th>\n",
       "      <th>CS</th>\n",
       "      <th>geometry</th>\n",
       "    </tr>\n",
       "  </thead>\n",
       "  <tbody>\n",
       "    <tr>\n",
       "      <th>0</th>\n",
       "      <td>Ethiopia</td>\n",
       "      <td>Addis Ababa</td>\n",
       "      <td>10.0</td>\n",
       "      <td>2018.0</td>\n",
       "      <td>1.0</td>\n",
       "      <td>POLYGON ((38.78052 9.09681, 38.79296 9.08120, ...</td>\n",
       "    </tr>\n",
       "  </tbody>\n",
       "</table>\n",
       "</div>"
      ],
      "text/plain": [
       "    country       admin1  month    year   CS  \\\n",
       "0  Ethiopia  Addis Ababa   10.0  2018.0  1.0   \n",
       "\n",
       "                                            geometry  \n",
       "0  POLYGON ((38.78052 9.09681, 38.79296 9.08120, ...  "
      ]
     },
     "execution_count": 11,
     "metadata": {},
     "output_type": "execute_result"
    }
   ],
   "source": [
    "naming = {\n",
    "    'ADMIN0': 'country',\n",
    "    'ADMIN1': 'admin1'\n",
    "}\n",
    "\n",
    "scores.rename(columns=naming, inplace=True)\n",
    "\n",
    "scores.head(1)"
   ]
  },
  {
   "cell_type": "code",
   "execution_count": 12,
   "metadata": {},
   "outputs": [
    {
     "data": {
      "text/plain": [
       "(4312, 6)"
      ]
     },
     "execution_count": 12,
     "metadata": {},
     "output_type": "execute_result"
    }
   ],
   "source": [
    "scores.drop_duplicates(inplace=True)\n",
    "scores.shape"
   ]
  },
  {
   "cell_type": "markdown",
   "metadata": {},
   "source": [
    "### 3.2 Link admin1"
   ]
  },
  {
   "cell_type": "code",
   "execution_count": 13,
   "metadata": {},
   "outputs": [],
   "source": [
    "# convert year column of population dataframe from string to int before join\n",
    "pop_long['year'] = pd.to_numeric(pop_long['year'], downcast='integer')"
   ]
  },
  {
   "cell_type": "code",
   "execution_count": 14,
   "metadata": {},
   "outputs": [],
   "source": [
    "import Levenshtein as lev"
   ]
  },
  {
   "cell_type": "markdown",
   "metadata": {},
   "source": [
    "__Grab those regions in the population data that don't match with the hunger scores data.__"
   ]
  },
  {
   "cell_type": "code",
   "execution_count": 15,
   "metadata": {},
   "outputs": [],
   "source": [
    "zones_m = scores['admin1'].unique()\n",
    "zones_j = pop_long['admin1'].unique()\n",
    "wrong_zones = set(zones_j) - set(zones_m)"
   ]
  },
  {
   "cell_type": "code",
   "execution_count": 16,
   "metadata": {},
   "outputs": [
    {
     "data": {
      "text/plain": [
       "0.5"
      ]
     },
     "execution_count": 16,
     "metadata": {},
     "output_type": "execute_result"
    }
   ],
   "source": [
    "lev.ratio('aa', 'ab')"
   ]
  },
  {
   "cell_type": "markdown",
   "metadata": {},
   "source": [
    "__Find the almost same region names and store them into a hash table for conversion.__"
   ]
  },
  {
   "cell_type": "code",
   "execution_count": 17,
   "metadata": {},
   "outputs": [
    {
     "name": "stdout",
     "output_type": "stream",
     "text": [
      "Harari ---- Hareri\n",
      "Benshangul Gumuz ---- Beneshangul Gumu\n",
      "Gedaref ---- Gadaref\n",
      "North Darfur ---- Northern Darfur\n",
      "North Kordofan ---- Northern Kordofan\n",
      "Sinnar ---- Sennar\n",
      "South Darfur ---- Southern Darfur\n",
      "South Kordofan ---- Southern Kordofan\n",
      "West Darfur ---- Western Darfur\n",
      "Northern Bahr el Ghazal ---- Northern Bahr El Ghazal\n",
      "Western Bahr el Ghazal ---- Western Bahr El Ghazal\n"
     ]
    }
   ],
   "source": [
    "def find_matches(correct_zones, wrong_zones):\n",
    "\n",
    "    zone_matches = {}\n",
    "\n",
    "    for z1 in zones_m:\n",
    "        for z2 in wrong_zones:\n",
    "            if lev.ratio(z1, z2) > 0.8:\n",
    "                print(z1, '----', z2)\n",
    "                zone_matches[z2] = z1\n",
    "                \n",
    "    return zone_matches\n",
    "\n",
    "zone_matches = find_matches(zones_m, wrong_zones)"
   ]
  },
  {
   "cell_type": "code",
   "execution_count": 18,
   "metadata": {},
   "outputs": [],
   "source": [
    "# function for converting admin1\n",
    "def link(zone, zone_matches):\n",
    "    if zone in zone_matches:\n",
    "        correct_zone = zone_matches[zone]\n",
    "        return correct_zone\n",
    "    else:\n",
    "        return zone"
   ]
  },
  {
   "cell_type": "code",
   "execution_count": 19,
   "metadata": {},
   "outputs": [],
   "source": [
    "pop_long['admin1'] = pop_long['admin1'].map(lambda x: link(x, zone_matches))"
   ]
  },
  {
   "cell_type": "markdown",
   "metadata": {},
   "source": [
    "### 3.3 Merge data"
   ]
  },
  {
   "cell_type": "code",
   "execution_count": 20,
   "metadata": {},
   "outputs": [
    {
     "name": "stdout",
     "output_type": "stream",
     "text": [
      "(4312, 7)\n"
     ]
    },
    {
     "data": {
      "text/html": [
       "<div>\n",
       "<style scoped>\n",
       "    .dataframe tbody tr th:only-of-type {\n",
       "        vertical-align: middle;\n",
       "    }\n",
       "\n",
       "    .dataframe tbody tr th {\n",
       "        vertical-align: top;\n",
       "    }\n",
       "\n",
       "    .dataframe thead th {\n",
       "        text-align: right;\n",
       "    }\n",
       "</style>\n",
       "<table border=\"1\" class=\"dataframe\">\n",
       "  <thead>\n",
       "    <tr style=\"text-align: right;\">\n",
       "      <th></th>\n",
       "      <th>country</th>\n",
       "      <th>admin1</th>\n",
       "      <th>month</th>\n",
       "      <th>year</th>\n",
       "      <th>CS</th>\n",
       "      <th>geometry</th>\n",
       "      <th>pop</th>\n",
       "    </tr>\n",
       "  </thead>\n",
       "  <tbody>\n",
       "    <tr>\n",
       "      <th>1319</th>\n",
       "      <td>South Sudan</td>\n",
       "      <td>Warrap</td>\n",
       "      <td>7.0</td>\n",
       "      <td>2014.0</td>\n",
       "      <td>2.0</td>\n",
       "      <td>POLYGON ((28.78620 9.10511, 28.69472 9.02796, ...</td>\n",
       "      <td>NaN</td>\n",
       "    </tr>\n",
       "    <tr>\n",
       "      <th>2062</th>\n",
       "      <td>Kenya</td>\n",
       "      <td>Kirinyaga</td>\n",
       "      <td>10.0</td>\n",
       "      <td>2013.0</td>\n",
       "      <td>1.5</td>\n",
       "      <td>POLYGON ((37.42392 -0.44206, 37.42373 -0.44597...</td>\n",
       "      <td>NaN</td>\n",
       "    </tr>\n",
       "    <tr>\n",
       "      <th>393</th>\n",
       "      <td>Ethiopia</td>\n",
       "      <td>Benshangul Gumuz</td>\n",
       "      <td>10.0</td>\n",
       "      <td>2019.0</td>\n",
       "      <td>2.6</td>\n",
       "      <td>POLYGON ((36.68964 10.32096, 36.69057 10.32043...</td>\n",
       "      <td>1089000.0</td>\n",
       "    </tr>\n",
       "  </tbody>\n",
       "</table>\n",
       "</div>"
      ],
      "text/plain": [
       "          country            admin1  month    year   CS  \\\n",
       "1319  South Sudan            Warrap    7.0  2014.0  2.0   \n",
       "2062        Kenya         Kirinyaga   10.0  2013.0  1.5   \n",
       "393      Ethiopia  Benshangul Gumuz   10.0  2019.0  2.6   \n",
       "\n",
       "                                               geometry        pop  \n",
       "1319  POLYGON ((28.78620 9.10511, 28.69472 9.02796, ...        NaN  \n",
       "2062  POLYGON ((37.42392 -0.44206, 37.42373 -0.44597...        NaN  \n",
       "393   POLYGON ((36.68964 10.32096, 36.69057 10.32043...  1089000.0  "
      ]
     },
     "execution_count": 20,
     "metadata": {},
     "output_type": "execute_result"
    }
   ],
   "source": [
    "pop_j = scores.merge(pop_long, \n",
    "            on = ['country', 'admin1', 'year'],\n",
    "            how = 'left')\n",
    "\n",
    "print(pop_j.shape)\n",
    "pop_j.sample(3)"
   ]
  },
  {
   "cell_type": "code",
   "execution_count": 21,
   "metadata": {},
   "outputs": [],
   "source": [
    "pop_j['year'] = pop_j['year'].map(lambda x: int(x))"
   ]
  },
  {
   "cell_type": "code",
   "execution_count": 22,
   "metadata": {},
   "outputs": [],
   "source": [
    "pop2009 = pop_j[(pop_j.year==2009) & (pop_j.month==7)]"
   ]
  },
  {
   "cell_type": "code",
   "execution_count": 23,
   "metadata": {},
   "outputs": [
    {
     "data": {
      "image/png": "[encoded data removed]",
      "text/plain": [
       "<Figure size 720x720 with 2 Axes>"
      ]
     },
     "metadata": {
      "needs_background": "light"
     },
     "output_type": "display_data"
    }
   ],
   "source": [
    "# Set plot size\n",
    "fig, ax = plt.subplots(1, figsize=(10, 10))\n",
    "\n",
    "# clear plot borders\n",
    "ax.axis('off')\n",
    "\n",
    "# customize plot title\n",
    "ax.set_title(\"Population by Admin1 Regions in East Africa 2009\", \n",
    "             fontdict={'fontsize': '25', 'fontweight' : '3'})\n",
    "\n",
    "# plot choropleth\n",
    "pop2009.plot(column='pop', cmap='Blues', linewidth=0.8, edgecolor='0.8', ax=ax)\n",
    "\n",
    "# Create colorbar as a legend, set the mni and max \n",
    "sm = plt.cm.ScalarMappable(cmap='Blues',\n",
    "                          norm=plt.Normalize(\n",
    "                              vmin=pop2009['pop'].min(), \n",
    "                              vmax=pop2009['pop'].max()))\n",
    "# add the colorbar to the figure, and shrink it\n",
    "cbar = fig.colorbar(sm, shrink=0.5)"
   ]
  },
  {
   "cell_type": "markdown",
   "metadata": {},
   "source": [
    "## 4 Kenya data\n",
    "### 4.1 load"
   ]
  },
  {
   "cell_type": "code",
   "execution_count": 56,
   "metadata": {
    "scrolled": true
   },
   "outputs": [
    {
     "name": "stdout",
     "output_type": "stream",
     "text": [
      "(49, 3)\n"
     ]
    },
    {
     "data": {
      "text/html": [
       "<div>\n",
       "<style scoped>\n",
       "    .dataframe tbody tr th:only-of-type {\n",
       "        vertical-align: middle;\n",
       "    }\n",
       "\n",
       "    .dataframe tbody tr th {\n",
       "        vertical-align: top;\n",
       "    }\n",
       "\n",
       "    .dataframe thead th {\n",
       "        text-align: right;\n",
       "    }\n",
       "</style>\n",
       "<table border=\"1\" class=\"dataframe\">\n",
       "  <thead>\n",
       "    <tr style=\"text-align: right;\">\n",
       "      <th></th>\n",
       "      <th>Country</th>\n",
       "      <th>Counties</th>\n",
       "      <th>Population</th>\n",
       "    </tr>\n",
       "  </thead>\n",
       "  <tbody>\n",
       "    <tr>\n",
       "      <th>44</th>\n",
       "      <td>Kenya</td>\n",
       "      <td>Uasin Gishu</td>\n",
       "      <td>894,179</td>\n",
       "    </tr>\n",
       "    <tr>\n",
       "      <th>40</th>\n",
       "      <td>Kenya</td>\n",
       "      <td>Tana River</td>\n",
       "      <td>240,075</td>\n",
       "    </tr>\n",
       "    <tr>\n",
       "      <th>26</th>\n",
       "      <td>Kenya</td>\n",
       "      <td>Meru</td>\n",
       "      <td>1,356,301</td>\n",
       "    </tr>\n",
       "    <tr>\n",
       "      <th>4</th>\n",
       "      <td>Kenya</td>\n",
       "      <td>Busia</td>\n",
       "      <td>743,946</td>\n",
       "    </tr>\n",
       "    <tr>\n",
       "      <th>7</th>\n",
       "      <td>Kenya</td>\n",
       "      <td>Garissa</td>\n",
       "      <td>623,060</td>\n",
       "    </tr>\n",
       "  </tbody>\n",
       "</table>\n",
       "</div>"
      ],
      "text/plain": [
       "   Country     Counties   Population\n",
       "44   Kenya  Uasin Gishu     894,179 \n",
       "40   Kenya   Tana River     240,075 \n",
       "26   Kenya         Meru   1,356,301 \n",
       "4    Kenya        Busia     743,946 \n",
       "7    Kenya      Garissa     623,060 "
      ]
     },
     "execution_count": 56,
     "metadata": {},
     "output_type": "execute_result"
    }
   ],
   "source": [
    "kenya = pd.read_csv('kenya-population-per-county.csv')\n",
    "\n",
    "print(kenya.shape)\n",
    "kenya.sample(5)"
   ]
  },
  {
   "cell_type": "markdown",
   "metadata": {},
   "source": [
    "### 4.15 Clean\n",
    "Remove commas and convert population to numeric."
   ]
  },
  {
   "cell_type": "code",
   "execution_count": 61,
   "metadata": {},
   "outputs": [],
   "source": [
    "def remove_comma(num):\n",
    "    if isinstance(num, float):\n",
    "        return num\n",
    "    else:\n",
    "        return num.replace(',', '')"
   ]
  },
  {
   "cell_type": "code",
   "execution_count": 62,
   "metadata": {},
   "outputs": [
    {
     "data": {
      "text/html": [
       "<div>\n",
       "<style scoped>\n",
       "    .dataframe tbody tr th:only-of-type {\n",
       "        vertical-align: middle;\n",
       "    }\n",
       "\n",
       "    .dataframe tbody tr th {\n",
       "        vertical-align: top;\n",
       "    }\n",
       "\n",
       "    .dataframe thead th {\n",
       "        text-align: right;\n",
       "    }\n",
       "</style>\n",
       "<table border=\"1\" class=\"dataframe\">\n",
       "  <thead>\n",
       "    <tr style=\"text-align: right;\">\n",
       "      <th></th>\n",
       "      <th>Country</th>\n",
       "      <th>Counties</th>\n",
       "      <th>Population</th>\n",
       "    </tr>\n",
       "  </thead>\n",
       "  <tbody>\n",
       "    <tr>\n",
       "      <th>2</th>\n",
       "      <td>Kenya</td>\n",
       "      <td>Bomet</td>\n",
       "      <td>724186.0</td>\n",
       "    </tr>\n",
       "    <tr>\n",
       "      <th>35</th>\n",
       "      <td>Kenya</td>\n",
       "      <td>Nyandarua</td>\n",
       "      <td>596268.0</td>\n",
       "    </tr>\n",
       "  </tbody>\n",
       "</table>\n",
       "</div>"
      ],
      "text/plain": [
       "   Country   Counties   Population\n",
       "2    Kenya      Bomet     724186.0\n",
       "35   Kenya  Nyandarua     596268.0"
      ]
     },
     "execution_count": 62,
     "metadata": {},
     "output_type": "execute_result"
    }
   ],
   "source": [
    "kenya[' Population'] = pd.to_numeric(kenya[' Population'].map(remove_comma))\n",
    "kenya.sample(2)"
   ]
  },
  {
   "cell_type": "markdown",
   "metadata": {},
   "source": [
    "### 4.2 record matching"
   ]
  },
  {
   "cell_type": "code",
   "execution_count": 63,
   "metadata": {},
   "outputs": [
    {
     "data": {
      "text/plain": [
       "{'Elgeiyo-Marakwet', 'National Average', 'Tharaka - Nithi', nan}"
      ]
     },
     "execution_count": 63,
     "metadata": {},
     "output_type": "execute_result"
    }
   ],
   "source": [
    "kenya_zones_n = set(kenya.Counties.unique())\n",
    "kenya_zones_o = set(pop_j[pop_j.country=='Kenya'].admin1.unique())\n",
    "kenya_zones_diff = kenya_zones_n - kenya_zones_o\n",
    "\n",
    "kenya_zones_diff"
   ]
  },
  {
   "cell_type": "code",
   "execution_count": 64,
   "metadata": {},
   "outputs": [
    {
     "name": "stdout",
     "output_type": "stream",
     "text": [
      "Elgeyo-Marakwet ---- Elgeiyo-Marakwet\n",
      "Tharaka Nithi ---- Tharaka - Nithi\n"
     ]
    }
   ],
   "source": [
    "# remove nan's from the set\n",
    "kenya_zones_diff = set(filter(lambda x: x==x, kenya_zones_diff))\n",
    "\n",
    "# get matches\n",
    "ken_matches = find_matches(kenya_zones_o, kenya_zones_diff)"
   ]
  },
  {
   "cell_type": "code",
   "execution_count": 65,
   "metadata": {},
   "outputs": [],
   "source": [
    "kenya['Counties'] = kenya.Counties.map(lambda x: link(x, ken_matches))"
   ]
  },
  {
   "cell_type": "markdown",
   "metadata": {},
   "source": [
    "### 4.3 merging"
   ]
  },
  {
   "cell_type": "code",
   "execution_count": 66,
   "metadata": {},
   "outputs": [
    {
     "data": {
      "text/html": [
       "<div>\n",
       "<style scoped>\n",
       "    .dataframe tbody tr th:only-of-type {\n",
       "        vertical-align: middle;\n",
       "    }\n",
       "\n",
       "    .dataframe tbody tr th {\n",
       "        vertical-align: top;\n",
       "    }\n",
       "\n",
       "    .dataframe thead th {\n",
       "        text-align: right;\n",
       "    }\n",
       "</style>\n",
       "<table border=\"1\" class=\"dataframe\">\n",
       "  <thead>\n",
       "    <tr style=\"text-align: right;\">\n",
       "      <th></th>\n",
       "      <th>country</th>\n",
       "      <th>admin1</th>\n",
       "      <th>pop</th>\n",
       "    </tr>\n",
       "  </thead>\n",
       "  <tbody>\n",
       "    <tr>\n",
       "      <th>0</th>\n",
       "      <td>NaN</td>\n",
       "      <td>National Average</td>\n",
       "      <td>38653555.0</td>\n",
       "    </tr>\n",
       "  </tbody>\n",
       "</table>\n",
       "</div>"
      ],
      "text/plain": [
       "  country            admin1         pop\n",
       "0     NaN  National Average  38653555.0"
      ]
     },
     "execution_count": 66,
     "metadata": {},
     "output_type": "execute_result"
    }
   ],
   "source": [
    "# name kenya data columns to match main df\n",
    "naming = {\n",
    "    'Country': 'country',\n",
    "    'Counties': 'admin1',\n",
    "    ' Population': 'pop'\n",
    "}\n",
    "\n",
    "kenya.rename(columns=naming, inplace=True)\n",
    "kenya.head(1)"
   ]
  },
  {
   "cell_type": "code",
   "execution_count": 67,
   "metadata": {},
   "outputs": [
    {
     "data": {
      "text/html": [
       "<div>\n",
       "<style scoped>\n",
       "    .dataframe tbody tr th:only-of-type {\n",
       "        vertical-align: middle;\n",
       "    }\n",
       "\n",
       "    .dataframe tbody tr th {\n",
       "        vertical-align: top;\n",
       "    }\n",
       "\n",
       "    .dataframe thead th {\n",
       "        text-align: right;\n",
       "    }\n",
       "</style>\n",
       "<table border=\"1\" class=\"dataframe\">\n",
       "  <thead>\n",
       "    <tr style=\"text-align: right;\">\n",
       "      <th></th>\n",
       "      <th>country</th>\n",
       "      <th>admin1</th>\n",
       "      <th>month</th>\n",
       "      <th>year</th>\n",
       "      <th>CS</th>\n",
       "      <th>geometry</th>\n",
       "      <th>pop_x</th>\n",
       "      <th>pop_y</th>\n",
       "    </tr>\n",
       "  </thead>\n",
       "  <tbody>\n",
       "    <tr>\n",
       "      <th>1475</th>\n",
       "      <td>Uganda</td>\n",
       "      <td>Eastern</td>\n",
       "      <td>1.0</td>\n",
       "      <td>2014</td>\n",
       "      <td>1.5</td>\n",
       "      <td>POLYGON ((33.73357 2.41622, 33.76437 2.39696, ...</td>\n",
       "      <td>NaN</td>\n",
       "      <td>NaN</td>\n",
       "    </tr>\n",
       "    <tr>\n",
       "      <th>2910</th>\n",
       "      <td>Kenya</td>\n",
       "      <td>Siaya</td>\n",
       "      <td>6.0</td>\n",
       "      <td>2016</td>\n",
       "      <td>1.0</td>\n",
       "      <td>POLYGON ((34.26474 0.30593, 34.26657 0.30556, ...</td>\n",
       "      <td>NaN</td>\n",
       "      <td>885762.0</td>\n",
       "    </tr>\n",
       "    <tr>\n",
       "      <th>1223</th>\n",
       "      <td>South Sudan</td>\n",
       "      <td>Northern Bahr el Ghazal</td>\n",
       "      <td>4.0</td>\n",
       "      <td>2013</td>\n",
       "      <td>2.0</td>\n",
       "      <td>POLYGON ((26.66542 9.49546, 26.66970 9.49499, ...</td>\n",
       "      <td>975000.0</td>\n",
       "      <td>NaN</td>\n",
       "    </tr>\n",
       "    <tr>\n",
       "      <th>3259</th>\n",
       "      <td>Kenya</td>\n",
       "      <td>West Pokot</td>\n",
       "      <td>10.0</td>\n",
       "      <td>2013</td>\n",
       "      <td>1.5</td>\n",
       "      <td>POLYGON ((35.23233 2.44496, 35.23452 2.44454, ...</td>\n",
       "      <td>NaN</td>\n",
       "      <td>512690.0</td>\n",
       "    </tr>\n",
       "    <tr>\n",
       "      <th>393</th>\n",
       "      <td>Ethiopia</td>\n",
       "      <td>Benshangul Gumuz</td>\n",
       "      <td>10.0</td>\n",
       "      <td>2019</td>\n",
       "      <td>2.6</td>\n",
       "      <td>POLYGON ((36.68964 10.32096, 36.69057 10.32043...</td>\n",
       "      <td>1089000.0</td>\n",
       "      <td>NaN</td>\n",
       "    </tr>\n",
       "  </tbody>\n",
       "</table>\n",
       "</div>"
      ],
      "text/plain": [
       "          country                   admin1  month  year   CS  \\\n",
       "1475       Uganda                  Eastern    1.0  2014  1.5   \n",
       "2910        Kenya                    Siaya    6.0  2016  1.0   \n",
       "1223  South Sudan  Northern Bahr el Ghazal    4.0  2013  2.0   \n",
       "3259        Kenya               West Pokot   10.0  2013  1.5   \n",
       "393      Ethiopia         Benshangul Gumuz   10.0  2019  2.6   \n",
       "\n",
       "                                               geometry      pop_x     pop_y  \n",
       "1475  POLYGON ((33.73357 2.41622, 33.76437 2.39696, ...        NaN       NaN  \n",
       "2910  POLYGON ((34.26474 0.30593, 34.26657 0.30556, ...        NaN  885762.0  \n",
       "1223  POLYGON ((26.66542 9.49546, 26.66970 9.49499, ...   975000.0       NaN  \n",
       "3259  POLYGON ((35.23233 2.44496, 35.23452 2.44454, ...        NaN  512690.0  \n",
       "393   POLYGON ((36.68964 10.32096, 36.69057 10.32043...  1089000.0       NaN  "
      ]
     },
     "execution_count": 67,
     "metadata": {},
     "output_type": "execute_result"
    }
   ],
   "source": [
    "pop_final = pop_j.merge(kenya, \n",
    "                        on = ['country', 'admin1'],\n",
    "                        how = 'left')\n",
    "\n",
    "pop_final.sample(5)"
   ]
  },
  {
   "cell_type": "code",
   "execution_count": 68,
   "metadata": {},
   "outputs": [
    {
     "data": {
      "text/html": [
       "<div>\n",
       "<style scoped>\n",
       "    .dataframe tbody tr th:only-of-type {\n",
       "        vertical-align: middle;\n",
       "    }\n",
       "\n",
       "    .dataframe tbody tr th {\n",
       "        vertical-align: top;\n",
       "    }\n",
       "\n",
       "    .dataframe thead th {\n",
       "        text-align: right;\n",
       "    }\n",
       "</style>\n",
       "<table border=\"1\" class=\"dataframe\">\n",
       "  <thead>\n",
       "    <tr style=\"text-align: right;\">\n",
       "      <th></th>\n",
       "      <th>country</th>\n",
       "      <th>admin1</th>\n",
       "      <th>month</th>\n",
       "      <th>year</th>\n",
       "      <th>CS</th>\n",
       "      <th>geometry</th>\n",
       "      <th>pop</th>\n",
       "    </tr>\n",
       "  </thead>\n",
       "  <tbody>\n",
       "    <tr>\n",
       "      <th>3185</th>\n",
       "      <td>Kenya</td>\n",
       "      <td>Vihiga</td>\n",
       "      <td>4.0</td>\n",
       "      <td>2012</td>\n",
       "      <td>1.0</td>\n",
       "      <td>POLYGON ((34.90278 0.19705, 34.90316 0.19655, ...</td>\n",
       "      <td>554622.0</td>\n",
       "    </tr>\n",
       "    <tr>\n",
       "      <th>1711</th>\n",
       "      <td>Kenya</td>\n",
       "      <td>Elgeyo-Marakwet</td>\n",
       "      <td>1.0</td>\n",
       "      <td>2010</td>\n",
       "      <td>2.0</td>\n",
       "      <td>POLYGON ((35.69886 1.27917, 35.69833 1.27657, ...</td>\n",
       "      <td>369998.0</td>\n",
       "    </tr>\n",
       "    <tr>\n",
       "      <th>1251</th>\n",
       "      <td>South Sudan</td>\n",
       "      <td>Unity</td>\n",
       "      <td>7.0</td>\n",
       "      <td>2014</td>\n",
       "      <td>2.5</td>\n",
       "      <td>POLYGON ((30.78923 9.75142, 30.79288 9.74854, ...</td>\n",
       "      <td>818000.0</td>\n",
       "    </tr>\n",
       "    <tr>\n",
       "      <th>110</th>\n",
       "      <td>Ethiopia</td>\n",
       "      <td>Amhara</td>\n",
       "      <td>1.0</td>\n",
       "      <td>2012</td>\n",
       "      <td>2.0</td>\n",
       "      <td>POLYGON ((36.48092 13.72510, 36.48057 13.72457...</td>\n",
       "      <td>21587000.0</td>\n",
       "    </tr>\n",
       "    <tr>\n",
       "      <th>2604</th>\n",
       "      <td>Kenya</td>\n",
       "      <td>Nairobi</td>\n",
       "      <td>6.0</td>\n",
       "      <td>2017</td>\n",
       "      <td>1.5</td>\n",
       "      <td>POLYGON ((36.90578 -1.16138, 36.90657 -1.16160...</td>\n",
       "      <td>4113000.0</td>\n",
       "    </tr>\n",
       "  </tbody>\n",
       "</table>\n",
       "</div>"
      ],
      "text/plain": [
       "          country           admin1  month  year   CS  \\\n",
       "3185        Kenya           Vihiga    4.0  2012  1.0   \n",
       "1711        Kenya  Elgeyo-Marakwet    1.0  2010  2.0   \n",
       "1251  South Sudan            Unity    7.0  2014  2.5   \n",
       "110      Ethiopia           Amhara    1.0  2012  2.0   \n",
       "2604        Kenya          Nairobi    6.0  2017  1.5   \n",
       "\n",
       "                                               geometry         pop  \n",
       "3185  POLYGON ((34.90278 0.19705, 34.90316 0.19655, ...    554622.0  \n",
       "1711  POLYGON ((35.69886 1.27917, 35.69833 1.27657, ...    369998.0  \n",
       "1251  POLYGON ((30.78923 9.75142, 30.79288 9.74854, ...    818000.0  \n",
       "110   POLYGON ((36.48092 13.72510, 36.48057 13.72457...  21587000.0  \n",
       "2604  POLYGON ((36.90578 -1.16138, 36.90657 -1.16160...   4113000.0  "
      ]
     },
     "execution_count": 68,
     "metadata": {},
     "output_type": "execute_result"
    }
   ],
   "source": [
    "pop_final['pop'] = pop_final['pop_x'].fillna(pop_final['pop_y'])\n",
    "\n",
    "pop_final.drop(columns=['pop_x', 'pop_y'], inplace=True)\n",
    "\n",
    "pop_final.sample(5)"
   ]
  },
  {
   "cell_type": "code",
   "execution_count": 69,
   "metadata": {},
   "outputs": [],
   "source": [
    "\n",
    "pop_final['pop'] = pd.to_numeric(pop_final['pop'])"
   ]
  },
  {
   "cell_type": "code",
   "execution_count": 70,
   "metadata": {},
   "outputs": [
    {
     "data": {
      "image/png": "[encoded data removed]",
      "text/plain": [
       "<Figure size 720x720 with 2 Axes>"
      ]
     },
     "metadata": {
      "needs_background": "light"
     },
     "output_type": "display_data"
    }
   ],
   "source": [
    "pop2009 = pop_final[(pop_final.year==2009) & (pop_final.month==7)].dropna()\n",
    "\n",
    "# Set plot size\n",
    "fig, ax = plt.subplots(1, figsize=(10, 10))\n",
    "\n",
    "# clear plot borders\n",
    "ax.axis('off')\n",
    "\n",
    "# customize plot title\n",
    "ax.set_title(\"Population by Admin1 Regions in East Africa 2009\", \n",
    "             fontdict={'fontsize': '25', 'fontweight' : '3'})\n",
    "\n",
    "# plot choropleth\n",
    "pop2009.plot(column='pop', cmap='Blues', linewidth=0.8, edgecolor='0.8', ax=ax)\n",
    "\n",
    "# Create colorbar as a legend, set the mni and max \n",
    "sm = plt.cm.ScalarMappable(cmap='Blues',\n",
    "                          norm=plt.Normalize(\n",
    "                              vmin=pop2009['pop'].min(), \n",
    "                              vmax=pop2009['pop'].max()))\n",
    "# add the colorbar to the figure, and shrink it\n",
    "cbar = fig.colorbar(sm, shrink=0.5)"
   ]
  },
  {
   "cell_type": "markdown",
   "metadata": {},
   "source": [
    "## 5 Write to disc\n",
    "Downcast population gdf to df without geometry and write to a csv."
   ]
  },
  {
   "cell_type": "code",
   "execution_count": 71,
   "metadata": {},
   "outputs": [],
   "source": [
    "pop_out = pop_final.drop(columns='geometry')"
   ]
  },
  {
   "cell_type": "code",
   "execution_count": 73,
   "metadata": {},
   "outputs": [],
   "source": [
    "pop_out.to_csv('population.csv')"
   ]
  }
 ],
 "metadata": {
  "kernelspec": {
   "display_name": "ml30254",
   "language": "python",
   "name": "ml30254"
  },
  "language_info": {
   "codemirror_mode": {
    "name": "ipython",
    "version": 3
   },
   "file_extension": ".py",
   "mimetype": "text/x-python",
   "name": "python",
   "nbconvert_exporter": "python",
   "pygments_lexer": "ipython3",
   "version": "3.8.3"
  }
 },
 "nbformat": 4,
 "nbformat_minor": 2
}
