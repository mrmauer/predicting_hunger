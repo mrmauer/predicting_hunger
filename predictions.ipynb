{
 "cells": [
  {
   "cell_type": "markdown",
   "metadata": {},
   "source": [
    "# Making Hunger Score Predictions\n",
    "### Approach:\n",
    "* Models: Lasso, Random Forest Regressor (RF), Support Vector Regression (SVR)\n",
    "* Perfomr a grid search for 1-month and 3-month predictions of all models\n",
    "* Used Lasso (and RF) to measure feature importance  \n",
    "\n",
    "### Results:\n",
    "* Lasso: An empty model — ie all coefficients converged to zero.\n",
    "* RF: Battle count was the only feature used to only slightly improve upon a baseline prediction of the sample average hunger score.\n",
    "* SVR: Performed far worse than the baseline prediction by sample average. Possibly due to skewed data."
   ]
  },
  {
   "cell_type": "markdown",
   "metadata": {},
   "source": [
    "## 1 Load and Clean Data\n",
    "* load and drop redundant columns\n",
    "* NaNs of event data should be converted to 0s\n",
    "* make Admin1 names unique"
   ]
  },
  {
   "cell_type": "code",
   "execution_count": 1,
   "metadata": {},
   "outputs": [],
   "source": [
    "import pandas as pd\n",
    "import pipeline\n",
    "import importlib\n",
    "import numpy as np\n",
    "import matplotlib.pyplot as plt"
   ]
  },
  {
   "cell_type": "code",
   "execution_count": 2,
   "metadata": {},
   "outputs": [],
   "source": [
    "from sklearn.model_selection import train_test_split, GridSearchCV, GroupKFold\n",
    "from sklearn.metrics import mean_squared_error, mean_absolute_error, make_scorer\n",
    "from sklearn.kernel_ridge import KernelRidge\n",
    "from sklearn.ensemble import RandomForestRegressor\n",
    "from sklearn.pipeline import Pipeline\n",
    "from sklearn.impute import SimpleImputer"
   ]
  },
  {
   "cell_type": "code",
   "execution_count": 41,
   "metadata": {},
   "outputs": [],
   "source": [
    "import warnings\n",
    "warnings.filterwarnings(action='once')"
   ]
  },
  {
   "cell_type": "code",
   "execution_count": 69,
   "metadata": {},
   "outputs": [
    {
     "data": {
      "text/plain": [
       "<module 'pipeline' from '/Users/matthewmauer/ML/project/pipeline.py'>"
      ]
     },
     "execution_count": 69,
     "metadata": {},
     "output_type": "execute_result"
    }
   ],
   "source": [
    "# for reloading the pipeline if neccesary...\n",
    "importlib.reload(pipeline)"
   ]
  },
  {
   "cell_type": "code",
   "execution_count": 7,
   "metadata": {
    "scrolled": true
   },
   "outputs": [
    {
     "name": "stdout",
     "output_type": "stream",
     "text": [
      "There are 14068 rows and 24 columns in the data set.\n"
     ]
    },
    {
     "data": {
      "text/html": [
       "<div>\n",
       "<style scoped>\n",
       "    .dataframe tbody tr th:only-of-type {\n",
       "        vertical-align: middle;\n",
       "    }\n",
       "\n",
       "    .dataframe tbody tr th {\n",
       "        vertical-align: top;\n",
       "    }\n",
       "\n",
       "    .dataframe thead th {\n",
       "        text-align: right;\n",
       "    }\n",
       "</style>\n",
       "<table border=\"1\" class=\"dataframe\">\n",
       "  <thead>\n",
       "    <tr style=\"text-align: right;\">\n",
       "      <th></th>\n",
       "      <th>ADMIN0</th>\n",
       "      <th>ADMIN1</th>\n",
       "      <th>month</th>\n",
       "      <th>year</th>\n",
       "      <th>CS</th>\n",
       "      <th>tmin_mm</th>\n",
       "      <th>tmax_mm</th>\n",
       "      <th>tavg_mm</th>\n",
       "      <th>prcp_mm</th>\n",
       "      <th>battle_cnt</th>\n",
       "      <th>...</th>\n",
       "      <th>battle_fatal</th>\n",
       "      <th>protest_fatal</th>\n",
       "      <th>riot_fatal</th>\n",
       "      <th>explosion_fatal</th>\n",
       "      <th>violence_on_civs_fatal</th>\n",
       "      <th>Retail</th>\n",
       "      <th>pop</th>\n",
       "      <th>CS_in_1_month</th>\n",
       "      <th>CS_in_2_months</th>\n",
       "      <th>CS_in_3_months</th>\n",
       "    </tr>\n",
       "  </thead>\n",
       "  <tbody>\n",
       "    <tr>\n",
       "      <th>8964</th>\n",
       "      <td>Sudan</td>\n",
       "      <td>Blue Nile</td>\n",
       "      <td>4.0</td>\n",
       "      <td>2010.0</td>\n",
       "      <td>1.5</td>\n",
       "      <td>252.000000</td>\n",
       "      <td>430.250000</td>\n",
       "      <td>350.421053</td>\n",
       "      <td>NaN</td>\n",
       "      <td>NaN</td>\n",
       "      <td>...</td>\n",
       "      <td>NaN</td>\n",
       "      <td>NaN</td>\n",
       "      <td>NaN</td>\n",
       "      <td>NaN</td>\n",
       "      <td>NaN</td>\n",
       "      <td>0.739706</td>\n",
       "      <td>922000.0</td>\n",
       "      <td>NaN</td>\n",
       "      <td>NaN</td>\n",
       "      <td>2.0</td>\n",
       "    </tr>\n",
       "    <tr>\n",
       "      <th>10510</th>\n",
       "      <td>Sudan</td>\n",
       "      <td>Sinnar</td>\n",
       "      <td>11.0</td>\n",
       "      <td>2011.0</td>\n",
       "      <td>NaN</td>\n",
       "      <td>155.500000</td>\n",
       "      <td>357.657143</td>\n",
       "      <td>253.035714</td>\n",
       "      <td>NaN</td>\n",
       "      <td>NaN</td>\n",
       "      <td>...</td>\n",
       "      <td>NaN</td>\n",
       "      <td>NaN</td>\n",
       "      <td>NaN</td>\n",
       "      <td>NaN</td>\n",
       "      <td>NaN</td>\n",
       "      <td>NaN</td>\n",
       "      <td>1505000.0</td>\n",
       "      <td>NaN</td>\n",
       "      <td>1.500000</td>\n",
       "      <td>NaN</td>\n",
       "    </tr>\n",
       "    <tr>\n",
       "      <th>12102</th>\n",
       "      <td>Tanzania</td>\n",
       "      <td>Mwanza</td>\n",
       "      <td>5.0</td>\n",
       "      <td>2011.0</td>\n",
       "      <td>NaN</td>\n",
       "      <td>185.347826</td>\n",
       "      <td>286.954545</td>\n",
       "      <td>235.333333</td>\n",
       "      <td>56.916667</td>\n",
       "      <td>0.0</td>\n",
       "      <td>...</td>\n",
       "      <td>0.0</td>\n",
       "      <td>0.0</td>\n",
       "      <td>0.0</td>\n",
       "      <td>0.0</td>\n",
       "      <td>0.0</td>\n",
       "      <td>NaN</td>\n",
       "      <td>2927000.0</td>\n",
       "      <td>NaN</td>\n",
       "      <td>NaN</td>\n",
       "      <td>NaN</td>\n",
       "    </tr>\n",
       "    <tr>\n",
       "      <th>10964</th>\n",
       "      <td>Sudan</td>\n",
       "      <td>West Darfur</td>\n",
       "      <td>8.0</td>\n",
       "      <td>2015.0</td>\n",
       "      <td>NaN</td>\n",
       "      <td>NaN</td>\n",
       "      <td>NaN</td>\n",
       "      <td>NaN</td>\n",
       "      <td>NaN</td>\n",
       "      <td>0.0</td>\n",
       "      <td>...</td>\n",
       "      <td>0.0</td>\n",
       "      <td>0.0</td>\n",
       "      <td>0.0</td>\n",
       "      <td>0.0</td>\n",
       "      <td>0.0</td>\n",
       "      <td>0.037245</td>\n",
       "      <td>1634000.0</td>\n",
       "      <td>NaN</td>\n",
       "      <td>1.666667</td>\n",
       "      <td>NaN</td>\n",
       "    </tr>\n",
       "    <tr>\n",
       "      <th>1283</th>\n",
       "      <td>Kenya</td>\n",
       "      <td>Bomet</td>\n",
       "      <td>1.0</td>\n",
       "      <td>2015.0</td>\n",
       "      <td>1.5</td>\n",
       "      <td>NaN</td>\n",
       "      <td>NaN</td>\n",
       "      <td>NaN</td>\n",
       "      <td>NaN</td>\n",
       "      <td>0.0</td>\n",
       "      <td>...</td>\n",
       "      <td>0.0</td>\n",
       "      <td>0.0</td>\n",
       "      <td>0.0</td>\n",
       "      <td>0.0</td>\n",
       "      <td>0.0</td>\n",
       "      <td>NaN</td>\n",
       "      <td>724186.0</td>\n",
       "      <td>NaN</td>\n",
       "      <td>NaN</td>\n",
       "      <td>1.0</td>\n",
       "    </tr>\n",
       "  </tbody>\n",
       "</table>\n",
       "<p>5 rows × 24 columns</p>\n",
       "</div>"
      ],
      "text/plain": [
       "         ADMIN0       ADMIN1  month    year   CS     tmin_mm     tmax_mm  \\\n",
       "8964      Sudan    Blue Nile    4.0  2010.0  1.5  252.000000  430.250000   \n",
       "10510     Sudan       Sinnar   11.0  2011.0  NaN  155.500000  357.657143   \n",
       "12102  Tanzania       Mwanza    5.0  2011.0  NaN  185.347826  286.954545   \n",
       "10964     Sudan  West Darfur    8.0  2015.0  NaN         NaN         NaN   \n",
       "1283      Kenya        Bomet    1.0  2015.0  1.5         NaN         NaN   \n",
       "\n",
       "          tavg_mm    prcp_mm  battle_cnt  ...  battle_fatal  protest_fatal  \\\n",
       "8964   350.421053        NaN         NaN  ...           NaN            NaN   \n",
       "10510  253.035714        NaN         NaN  ...           NaN            NaN   \n",
       "12102  235.333333  56.916667         0.0  ...           0.0            0.0   \n",
       "10964         NaN        NaN         0.0  ...           0.0            0.0   \n",
       "1283          NaN        NaN         0.0  ...           0.0            0.0   \n",
       "\n",
       "       riot_fatal  explosion_fatal  violence_on_civs_fatal    Retail  \\\n",
       "8964          NaN              NaN                     NaN  0.739706   \n",
       "10510         NaN              NaN                     NaN       NaN   \n",
       "12102         0.0              0.0                     0.0       NaN   \n",
       "10964         0.0              0.0                     0.0  0.037245   \n",
       "1283          0.0              0.0                     0.0       NaN   \n",
       "\n",
       "             pop  CS_in_1_month  CS_in_2_months  CS_in_3_months  \n",
       "8964    922000.0            NaN             NaN             2.0  \n",
       "10510  1505000.0            NaN        1.500000             NaN  \n",
       "12102  2927000.0            NaN             NaN             NaN  \n",
       "10964  1634000.0            NaN        1.666667             NaN  \n",
       "1283    724186.0            NaN             NaN             1.0  \n",
       "\n",
       "[5 rows x 24 columns]"
      ]
     },
     "execution_count": 7,
     "metadata": {},
     "output_type": "execute_result"
    }
   ],
   "source": [
    "data = pipeline.read('create_targets/total_data_with_targets.csv')\n",
    "data.sample(5)"
   ]
  },
  {
   "cell_type": "code",
   "execution_count": 8,
   "metadata": {},
   "outputs": [],
   "source": [
    "data = pipeline.clean_events(data)"
   ]
  },
  {
   "cell_type": "code",
   "execution_count": 9,
   "metadata": {},
   "outputs": [
    {
     "data": {
      "text/html": [
       "<div>\n",
       "<style scoped>\n",
       "    .dataframe tbody tr th:only-of-type {\n",
       "        vertical-align: middle;\n",
       "    }\n",
       "\n",
       "    .dataframe tbody tr th {\n",
       "        vertical-align: top;\n",
       "    }\n",
       "\n",
       "    .dataframe thead th {\n",
       "        text-align: right;\n",
       "    }\n",
       "</style>\n",
       "<table border=\"1\" class=\"dataframe\">\n",
       "  <thead>\n",
       "    <tr style=\"text-align: right;\">\n",
       "      <th></th>\n",
       "      <th>ADMIN0</th>\n",
       "      <th>ADMIN1</th>\n",
       "      <th>month</th>\n",
       "      <th>year</th>\n",
       "      <th>CS</th>\n",
       "      <th>tmin_mm</th>\n",
       "      <th>tmax_mm</th>\n",
       "      <th>tavg_mm</th>\n",
       "      <th>prcp_mm</th>\n",
       "      <th>battle_cnt</th>\n",
       "      <th>...</th>\n",
       "      <th>battle_fatal</th>\n",
       "      <th>protest_fatal</th>\n",
       "      <th>riot_fatal</th>\n",
       "      <th>explosion_fatal</th>\n",
       "      <th>violence_on_civs_fatal</th>\n",
       "      <th>Retail</th>\n",
       "      <th>pop</th>\n",
       "      <th>CS_in_1_month</th>\n",
       "      <th>CS_in_2_months</th>\n",
       "      <th>CS_in_3_months</th>\n",
       "    </tr>\n",
       "  </thead>\n",
       "  <tbody>\n",
       "    <tr>\n",
       "      <th>8506</th>\n",
       "      <td>South Sudan</td>\n",
       "      <td>Upper Nile</td>\n",
       "      <td>4.0</td>\n",
       "      <td>2014.0</td>\n",
       "      <td>2.4</td>\n",
       "      <td>NaN</td>\n",
       "      <td>NaN</td>\n",
       "      <td>NaN</td>\n",
       "      <td>NaN</td>\n",
       "      <td>21.0</td>\n",
       "      <td>...</td>\n",
       "      <td>56.0</td>\n",
       "      <td>0.0</td>\n",
       "      <td>0.0</td>\n",
       "      <td>0.0</td>\n",
       "      <td>0.0</td>\n",
       "      <td>NaN</td>\n",
       "      <td>1346000.0</td>\n",
       "      <td>NaN</td>\n",
       "      <td>NaN</td>\n",
       "      <td>2.4</td>\n",
       "    </tr>\n",
       "    <tr>\n",
       "      <th>6199</th>\n",
       "      <td>Somalia</td>\n",
       "      <td>Gedo</td>\n",
       "      <td>8.0</td>\n",
       "      <td>2011.0</td>\n",
       "      <td>NaN</td>\n",
       "      <td>NaN</td>\n",
       "      <td>NaN</td>\n",
       "      <td>NaN</td>\n",
       "      <td>NaN</td>\n",
       "      <td>10.0</td>\n",
       "      <td>...</td>\n",
       "      <td>24.0</td>\n",
       "      <td>0.0</td>\n",
       "      <td>0.0</td>\n",
       "      <td>1.0</td>\n",
       "      <td>0.0</td>\n",
       "      <td>NaN</td>\n",
       "      <td>NaN</td>\n",
       "      <td>NaN</td>\n",
       "      <td>4.0</td>\n",
       "      <td>NaN</td>\n",
       "    </tr>\n",
       "  </tbody>\n",
       "</table>\n",
       "<p>2 rows × 24 columns</p>\n",
       "</div>"
      ],
      "text/plain": [
       "           ADMIN0      ADMIN1  month    year   CS  tmin_mm  tmax_mm  tavg_mm  \\\n",
       "8506  South Sudan  Upper Nile    4.0  2014.0  2.4      NaN      NaN      NaN   \n",
       "6199      Somalia        Gedo    8.0  2011.0  NaN      NaN      NaN      NaN   \n",
       "\n",
       "      prcp_mm  battle_cnt  ...  battle_fatal  protest_fatal  riot_fatal  \\\n",
       "8506      NaN        21.0  ...          56.0            0.0         0.0   \n",
       "6199      NaN        10.0  ...          24.0            0.0         0.0   \n",
       "\n",
       "      explosion_fatal  violence_on_civs_fatal  Retail        pop  \\\n",
       "8506              0.0                     0.0     NaN  1346000.0   \n",
       "6199              1.0                     0.0     NaN        NaN   \n",
       "\n",
       "      CS_in_1_month  CS_in_2_months  CS_in_3_months  \n",
       "8506            NaN             NaN             2.4  \n",
       "6199            NaN             4.0             NaN  \n",
       "\n",
       "[2 rows x 24 columns]"
      ]
     },
     "execution_count": 9,
     "metadata": {},
     "output_type": "execute_result"
    }
   ],
   "source": [
    "data.sample(2)"
   ]
  },
  {
   "cell_type": "code",
   "execution_count": 26,
   "metadata": {},
   "outputs": [],
   "source": [
    "data = pipeline.unique_regions(data)"
   ]
  },
  {
   "cell_type": "markdown",
   "metadata": {},
   "source": [
    "## 2.1 LASSO Regression for 3-month Predictions\n",
    "* perform a small grid search tuning the alpha from the loss function\n",
    "* use group k-fold cross validation to prevent data leakage\n",
    "* discover feature importance"
   ]
  },
  {
   "cell_type": "code",
   "execution_count": 15,
   "metadata": {},
   "outputs": [],
   "source": [
    "from sklearn.linear_model import Lasso\n",
    "from sklearn.preprocessing import StandardScaler"
   ]
  },
  {
   "cell_type": "code",
   "execution_count": 38,
   "metadata": {
    "scrolled": true
   },
   "outputs": [],
   "source": [
    "features = ['tmin_mm', 'tmax_mm', 'tavg_mm', 'prcp_mm',\n",
    "       'battle_cnt', 'protest_cnt', 'riot_cnt', 'explosion_cnt',\n",
    "       'violence_on_civs_cnt', 'battle_fatal', 'protest_fatal',\n",
    "       'riot_fatal', 'explosion_fatal', 'violence_on_civs_fatal',\n",
    "       'Retail', 'pop']\n",
    "\n",
    "Xtrain, Xtest, Ytrain, Ytest, groups = pipeline.five_way_split(data,\n",
    "                                                       year=2018,\n",
    "                                                       features=features,\n",
    "                                                       target='CS_in_3_months',\n",
    "                                                       grouping='ADMIN1')"
   ]
  },
  {
   "cell_type": "code",
   "execution_count": 39,
   "metadata": {},
   "outputs": [
    {
     "name": "stderr",
     "output_type": "stream",
     "text": [
      "/Users/matthewmauer/anaconda3/envs/ml30254/lib/python3.8/site-packages/sklearn/model_selection/_search.py:821: FutureWarning: The parameter 'iid' is deprecated in 0.22 and will be removed in 0.24.\n",
      "  warnings.warn(\n"
     ]
    }
   ],
   "source": [
    "lasso_pipe = Pipeline([\n",
    "    ('impute', SimpleImputer(strategy='median')),\n",
    "    ('scale', StandardScaler()),\n",
    "    ('lasso', Lasso())\n",
    "])\n",
    "\n",
    "params = {\n",
    "    'lasso__alpha': (0.01, 0.1, 1, 10, 100) \n",
    "} \n",
    "\n",
    "scores = {\n",
    "          'mse': make_scorer(mean_squared_error),\n",
    "          'mae': make_scorer(mean_absolute_error),\n",
    "         }\n",
    "\n",
    "gcv = GroupKFold()\n",
    "\n",
    "lasso_grid_model = GridSearchCV(estimator=lasso_pipe, \n",
    "                          param_grid=params, \n",
    "                          cv=gcv,\n",
    "                          return_train_score=True,\n",
    "                          scoring=scores,\n",
    "                          refit='mse',\n",
    "                          iid=True)\n",
    "\n",
    "lasso_grid_results = lasso_grid_model.fit(Xtrain, Ytrain, groups=groups)"
   ]
  },
  {
   "cell_type": "code",
   "execution_count": 40,
   "metadata": {},
   "outputs": [
    {
     "data": {
      "text/html": [
       "<div>\n",
       "<style scoped>\n",
       "    .dataframe tbody tr th:only-of-type {\n",
       "        vertical-align: middle;\n",
       "    }\n",
       "\n",
       "    .dataframe tbody tr th {\n",
       "        vertical-align: top;\n",
       "    }\n",
       "\n",
       "    .dataframe thead th {\n",
       "        text-align: right;\n",
       "    }\n",
       "</style>\n",
       "<table border=\"1\" class=\"dataframe\">\n",
       "  <thead>\n",
       "    <tr style=\"text-align: right;\">\n",
       "      <th></th>\n",
       "      <th>param_lasso__alpha</th>\n",
       "      <th>mean_test_mse</th>\n",
       "      <th>mean_test_mae</th>\n",
       "    </tr>\n",
       "  </thead>\n",
       "  <tbody>\n",
       "    <tr>\n",
       "      <th>0</th>\n",
       "      <td>0.01</td>\n",
       "      <td>0.390199</td>\n",
       "      <td>0.502830</td>\n",
       "    </tr>\n",
       "    <tr>\n",
       "      <th>1</th>\n",
       "      <td>0.1</td>\n",
       "      <td>0.383287</td>\n",
       "      <td>0.500304</td>\n",
       "    </tr>\n",
       "    <tr>\n",
       "      <th>2</th>\n",
       "      <td>1</td>\n",
       "      <td>0.392533</td>\n",
       "      <td>0.506669</td>\n",
       "    </tr>\n",
       "    <tr>\n",
       "      <th>3</th>\n",
       "      <td>10</td>\n",
       "      <td>0.392533</td>\n",
       "      <td>0.506669</td>\n",
       "    </tr>\n",
       "    <tr>\n",
       "      <th>4</th>\n",
       "      <td>100</td>\n",
       "      <td>0.392533</td>\n",
       "      <td>0.506669</td>\n",
       "    </tr>\n",
       "  </tbody>\n",
       "</table>\n",
       "</div>"
      ],
      "text/plain": [
       "  param_lasso__alpha  mean_test_mse  mean_test_mae\n",
       "0               0.01       0.390199       0.502830\n",
       "1                0.1       0.383287       0.500304\n",
       "2                  1       0.392533       0.506669\n",
       "3                 10       0.392533       0.506669\n",
       "4                100       0.392533       0.506669"
      ]
     },
     "execution_count": 40,
     "metadata": {},
     "output_type": "execute_result"
    }
   ],
   "source": [
    "lasso_scores = pd.DataFrame(lasso_grid_results.cv_results_)\n",
    "results = lasso_scores[['param_lasso__alpha', 'mean_test_mse', 'mean_test_mae']]\n",
    "results"
   ]
  },
  {
   "cell_type": "code",
   "execution_count": 50,
   "metadata": {},
   "outputs": [
    {
     "name": "stdout",
     "output_type": "stream",
     "text": [
      "\n",
      "        MSE: 0.3192245273316907\n",
      "        MAE: 0.48551725449232375\n",
      "        For a target variable with Standar Deviation: 0.5516070453911287\n",
      "        \n"
     ]
    }
   ],
   "source": [
    "best_lasso = lasso_grid_results.best_estimator_\n",
    "pipeline.model_eval(best_lasso, Xtest, Ytest)"
   ]
  },
  {
   "cell_type": "code",
   "execution_count": 54,
   "metadata": {},
   "outputs": [
    {
     "data": {
      "image/png": "[encoded data removed]",
      "text/plain": [
       "<Figure size 720x432 with 1 Axes>"
      ]
     },
     "metadata": {
      "needs_background": "light"
     },
     "output_type": "display_data"
    }
   ],
   "source": [
    "pipeline.feature_importance(best_lasso['lasso'],\n",
    "                            labels=Xtrain.columns.values)"
   ]
  },
  {
   "cell_type": "markdown",
   "metadata": {},
   "source": [
    "### Results\n",
    "Even after normalizing, we have essentially an empty model."
   ]
  },
  {
   "cell_type": "markdown",
   "metadata": {},
   "source": [
    "## 2.2 LASSO Regression for 1-month Predictions\n",
    "Repeat the above process."
   ]
  },
  {
   "cell_type": "code",
   "execution_count": 55,
   "metadata": {},
   "outputs": [
    {
     "name": "stderr",
     "output_type": "stream",
     "text": [
      "/Users/matthewmauer/anaconda3/envs/ml30254/lib/python3.8/site-packages/sklearn/model_selection/_search.py:821: FutureWarning: The parameter 'iid' is deprecated in 0.22 and will be removed in 0.24.\n",
      "  warnings.warn(\n"
     ]
    },
    {
     "data": {
      "text/html": [
       "<div>\n",
       "<style scoped>\n",
       "    .dataframe tbody tr th:only-of-type {\n",
       "        vertical-align: middle;\n",
       "    }\n",
       "\n",
       "    .dataframe tbody tr th {\n",
       "        vertical-align: top;\n",
       "    }\n",
       "\n",
       "    .dataframe thead th {\n",
       "        text-align: right;\n",
       "    }\n",
       "</style>\n",
       "<table border=\"1\" class=\"dataframe\">\n",
       "  <thead>\n",
       "    <tr style=\"text-align: right;\">\n",
       "      <th></th>\n",
       "      <th>param_lasso__alpha</th>\n",
       "      <th>mean_test_mse</th>\n",
       "      <th>mean_test_mae</th>\n",
       "    </tr>\n",
       "  </thead>\n",
       "  <tbody>\n",
       "    <tr>\n",
       "      <th>0</th>\n",
       "      <td>0.01</td>\n",
       "      <td>0.386488</td>\n",
       "      <td>0.488189</td>\n",
       "    </tr>\n",
       "    <tr>\n",
       "      <th>1</th>\n",
       "      <td>0.1</td>\n",
       "      <td>0.397562</td>\n",
       "      <td>0.494604</td>\n",
       "    </tr>\n",
       "    <tr>\n",
       "      <th>2</th>\n",
       "      <td>1</td>\n",
       "      <td>0.402372</td>\n",
       "      <td>0.498083</td>\n",
       "    </tr>\n",
       "    <tr>\n",
       "      <th>3</th>\n",
       "      <td>10</td>\n",
       "      <td>0.402372</td>\n",
       "      <td>0.498083</td>\n",
       "    </tr>\n",
       "    <tr>\n",
       "      <th>4</th>\n",
       "      <td>100</td>\n",
       "      <td>0.402372</td>\n",
       "      <td>0.498083</td>\n",
       "    </tr>\n",
       "  </tbody>\n",
       "</table>\n",
       "</div>"
      ],
      "text/plain": [
       "  param_lasso__alpha  mean_test_mse  mean_test_mae\n",
       "0               0.01       0.386488       0.488189\n",
       "1                0.1       0.397562       0.494604\n",
       "2                  1       0.402372       0.498083\n",
       "3                 10       0.402372       0.498083\n",
       "4                100       0.402372       0.498083"
      ]
     },
     "execution_count": 55,
     "metadata": {},
     "output_type": "execute_result"
    }
   ],
   "source": [
    "Xtrain, Xtest, Ytrain, Ytest, groups = pipeline.five_way_split(data,\n",
    "                                                       year=2018,\n",
    "                                                       features=features,\n",
    "                                                       target='CS_in_1_month',\n",
    "                                                       grouping='ADMIN1')\n",
    "\n",
    "lasso2_grid_model = GridSearchCV(estimator=lasso_pipe, \n",
    "                          param_grid=params, \n",
    "                          cv=gcv,\n",
    "                          return_train_score=True,\n",
    "                          scoring=scores,\n",
    "                          refit='mse',\n",
    "                          iid=True)\n",
    "\n",
    "lasso2_grid_results = lasso2_grid_model.fit(Xtrain, Ytrain, groups=groups)\n",
    "\n",
    "lasso2_scores = pd.DataFrame(lasso2_grid_results.cv_results_)\n",
    "results2 = lasso2_scores[['param_lasso__alpha', 'mean_test_mse', 'mean_test_mae']]\n",
    "results2"
   ]
  },
  {
   "cell_type": "code",
   "execution_count": 57,
   "metadata": {},
   "outputs": [
    {
     "name": "stdout",
     "output_type": "stream",
     "text": [
      "\n",
      "        MSE: 0.3161452279542899\n",
      "        MAE: 0.4683750070010606\n",
      "        For a target variable with Standard Deviation: 0.5622118107922547\n",
      "        \n"
     ]
    }
   ],
   "source": [
    "best_lasso2 = lasso2_grid_results.best_estimator_\n",
    "pipeline.model_eval(best_lasso2, Xtest, Ytest)"
   ]
  },
  {
   "cell_type": "markdown",
   "metadata": {},
   "source": [
    "## Results\n",
    "Again, we have an empty model."
   ]
  },
  {
   "cell_type": "markdown",
   "metadata": {},
   "source": [
    "## 3.1 Random Forest Regressor for 3-month Predictions"
   ]
  },
  {
   "cell_type": "code",
   "execution_count": 65,
   "metadata": {},
   "outputs": [
    {
     "name": "stderr",
     "output_type": "stream",
     "text": [
      "/Users/matthewmauer/anaconda3/envs/ml30254/lib/python3.8/site-packages/sklearn/model_selection/_search.py:821: FutureWarning: The parameter 'iid' is deprecated in 0.22 and will be removed in 0.24.\n",
      "  warnings.warn(\n"
     ]
    }
   ],
   "source": [
    "Xtrain, Xtest, Ytrain, Ytest, groups = pipeline.five_way_split(data,\n",
    "                                                       year=2018,\n",
    "                                                       features=features,\n",
    "                                                       target='CS_in_3_months',\n",
    "                                                       grouping='ADMIN1')\n",
    "\n",
    "forest_pipe = Pipeline([\n",
    "    ('impute', SimpleImputer(strategy='median')),\n",
    "    ('forest', RandomForestRegressor(random_state=30254))\n",
    "])\n",
    "\n",
    "params = {\n",
    "    'forest__max_depth': (1, 3, 10), \n",
    "    'forest__n_estimators': (5, 25, 100)\n",
    "}\n",
    "\n",
    "scores = {\n",
    "          'mse': make_scorer(mean_squared_error),\n",
    "          'mae': make_scorer(mean_absolute_error),\n",
    "         }\n",
    "\n",
    "gcv = GroupKFold()\n",
    "\n",
    "forest_grid_model = GridSearchCV(estimator=forest_pipe, \n",
    "                          param_grid=params, \n",
    "                          cv=gcv,\n",
    "                          return_train_score=True,\n",
    "                          scoring=scores,\n",
    "                          refit='mse',\n",
    "                          iid=True)\n",
    "\n",
    "forest_grid_results = forest_grid_model.fit(Xtrain, Ytrain, groups=groups)"
   ]
  },
  {
   "cell_type": "code",
   "execution_count": 66,
   "metadata": {},
   "outputs": [
    {
     "data": {
      "text/html": [
       "<div>\n",
       "<style scoped>\n",
       "    .dataframe tbody tr th:only-of-type {\n",
       "        vertical-align: middle;\n",
       "    }\n",
       "\n",
       "    .dataframe tbody tr th {\n",
       "        vertical-align: top;\n",
       "    }\n",
       "\n",
       "    .dataframe thead th {\n",
       "        text-align: right;\n",
       "    }\n",
       "</style>\n",
       "<table border=\"1\" class=\"dataframe\">\n",
       "  <thead>\n",
       "    <tr style=\"text-align: right;\">\n",
       "      <th></th>\n",
       "      <th>param_forest__max_depth</th>\n",
       "      <th>param_forest__n_estimators</th>\n",
       "      <th>mean_test_mse</th>\n",
       "      <th>mean_test_mae</th>\n",
       "    </tr>\n",
       "  </thead>\n",
       "  <tbody>\n",
       "    <tr>\n",
       "      <th>0</th>\n",
       "      <td>1</td>\n",
       "      <td>5</td>\n",
       "      <td>0.350432</td>\n",
       "      <td>0.470790</td>\n",
       "    </tr>\n",
       "    <tr>\n",
       "      <th>1</th>\n",
       "      <td>1</td>\n",
       "      <td>25</td>\n",
       "      <td>0.350432</td>\n",
       "      <td>0.471258</td>\n",
       "    </tr>\n",
       "    <tr>\n",
       "      <th>2</th>\n",
       "      <td>1</td>\n",
       "      <td>100</td>\n",
       "      <td>0.350519</td>\n",
       "      <td>0.471096</td>\n",
       "    </tr>\n",
       "    <tr>\n",
       "      <th>3</th>\n",
       "      <td>3</td>\n",
       "      <td>5</td>\n",
       "      <td>0.336837</td>\n",
       "      <td>0.453113</td>\n",
       "    </tr>\n",
       "    <tr>\n",
       "      <th>4</th>\n",
       "      <td>3</td>\n",
       "      <td>25</td>\n",
       "      <td>0.333115</td>\n",
       "      <td>0.450266</td>\n",
       "    </tr>\n",
       "    <tr>\n",
       "      <th>5</th>\n",
       "      <td>3</td>\n",
       "      <td>100</td>\n",
       "      <td>0.331290</td>\n",
       "      <td>0.448282</td>\n",
       "    </tr>\n",
       "    <tr>\n",
       "      <th>6</th>\n",
       "      <td>10</td>\n",
       "      <td>5</td>\n",
       "      <td>0.343840</td>\n",
       "      <td>0.451421</td>\n",
       "    </tr>\n",
       "    <tr>\n",
       "      <th>7</th>\n",
       "      <td>10</td>\n",
       "      <td>25</td>\n",
       "      <td>0.327787</td>\n",
       "      <td>0.442506</td>\n",
       "    </tr>\n",
       "    <tr>\n",
       "      <th>8</th>\n",
       "      <td>10</td>\n",
       "      <td>100</td>\n",
       "      <td>0.324042</td>\n",
       "      <td>0.439449</td>\n",
       "    </tr>\n",
       "  </tbody>\n",
       "</table>\n",
       "</div>"
      ],
      "text/plain": [
       "  param_forest__max_depth param_forest__n_estimators  mean_test_mse  \\\n",
       "0                       1                          5       0.350432   \n",
       "1                       1                         25       0.350432   \n",
       "2                       1                        100       0.350519   \n",
       "3                       3                          5       0.336837   \n",
       "4                       3                         25       0.333115   \n",
       "5                       3                        100       0.331290   \n",
       "6                      10                          5       0.343840   \n",
       "7                      10                         25       0.327787   \n",
       "8                      10                        100       0.324042   \n",
       "\n",
       "   mean_test_mae  \n",
       "0       0.470790  \n",
       "1       0.471258  \n",
       "2       0.471096  \n",
       "3       0.453113  \n",
       "4       0.450266  \n",
       "5       0.448282  \n",
       "6       0.451421  \n",
       "7       0.442506  \n",
       "8       0.439449  "
      ]
     },
     "execution_count": 66,
     "metadata": {},
     "output_type": "execute_result"
    }
   ],
   "source": [
    "forest_scores = pd.DataFrame(forest_grid_results.cv_results_)\n",
    "results = forest_scores[['param_forest__max_depth', \n",
    "                         'param_forest__n_estimators',\n",
    "                        'mean_test_mse', 'mean_test_mae']]\n",
    "results"
   ]
  },
  {
   "cell_type": "code",
   "execution_count": 70,
   "metadata": {},
   "outputs": [
    {
     "name": "stdout",
     "output_type": "stream",
     "text": [
      "\n",
      "        MSE: 0.3003485081626862\n",
      "        MAE: 0.46859682681106646\n",
      "        For a target variable with Variance: 0.30427033252513075\n",
      "        \n"
     ]
    }
   ],
   "source": [
    "best_forest = forest_grid_results.best_estimator_\n",
    "pipeline.model_eval(best_forest, Xtest, Ytest)"
   ]
  },
  {
   "cell_type": "code",
   "execution_count": 68,
   "metadata": {},
   "outputs": [
    {
     "data": {
      "image/png": "[encoded data removed]",
      "text/plain": [
       "<Figure size 720x432 with 1 Axes>"
      ]
     },
     "metadata": {
      "needs_background": "light"
     },
     "output_type": "display_data"
    }
   ],
   "source": [
    "pipeline.feature_importance(best_forest['forest'],\n",
    "                            labels=Xtrain.columns.values,\n",
    "                            type='tree')"
   ]
  },
  {
   "cell_type": "markdown",
   "metadata": {},
   "source": [
    "## 3.2 Random Forest Regressor for 1-month Predictions"
   ]
  },
  {
   "cell_type": "code",
   "execution_count": 71,
   "metadata": {},
   "outputs": [
    {
     "name": "stderr",
     "output_type": "stream",
     "text": [
      "/Users/matthewmauer/anaconda3/envs/ml30254/lib/python3.8/site-packages/sklearn/model_selection/_search.py:821: FutureWarning: The parameter 'iid' is deprecated in 0.22 and will be removed in 0.24.\n",
      "  warnings.warn(\n"
     ]
    },
    {
     "data": {
      "text/html": [
       "<div>\n",
       "<style scoped>\n",
       "    .dataframe tbody tr th:only-of-type {\n",
       "        vertical-align: middle;\n",
       "    }\n",
       "\n",
       "    .dataframe tbody tr th {\n",
       "        vertical-align: top;\n",
       "    }\n",
       "\n",
       "    .dataframe thead th {\n",
       "        text-align: right;\n",
       "    }\n",
       "</style>\n",
       "<table border=\"1\" class=\"dataframe\">\n",
       "  <thead>\n",
       "    <tr style=\"text-align: right;\">\n",
       "      <th></th>\n",
       "      <th>param_forest__max_depth</th>\n",
       "      <th>param_forest__n_estimators</th>\n",
       "      <th>mean_test_mse</th>\n",
       "      <th>mean_test_mae</th>\n",
       "    </tr>\n",
       "  </thead>\n",
       "  <tbody>\n",
       "    <tr>\n",
       "      <th>0</th>\n",
       "      <td>1</td>\n",
       "      <td>5</td>\n",
       "      <td>0.361838</td>\n",
       "      <td>0.475267</td>\n",
       "    </tr>\n",
       "    <tr>\n",
       "      <th>1</th>\n",
       "      <td>1</td>\n",
       "      <td>25</td>\n",
       "      <td>0.363675</td>\n",
       "      <td>0.477133</td>\n",
       "    </tr>\n",
       "    <tr>\n",
       "      <th>2</th>\n",
       "      <td>1</td>\n",
       "      <td>100</td>\n",
       "      <td>0.364180</td>\n",
       "      <td>0.478484</td>\n",
       "    </tr>\n",
       "    <tr>\n",
       "      <th>3</th>\n",
       "      <td>3</td>\n",
       "      <td>5</td>\n",
       "      <td>0.347303</td>\n",
       "      <td>0.454450</td>\n",
       "    </tr>\n",
       "    <tr>\n",
       "      <th>4</th>\n",
       "      <td>3</td>\n",
       "      <td>25</td>\n",
       "      <td>0.339393</td>\n",
       "      <td>0.448243</td>\n",
       "    </tr>\n",
       "    <tr>\n",
       "      <th>5</th>\n",
       "      <td>3</td>\n",
       "      <td>100</td>\n",
       "      <td>0.339293</td>\n",
       "      <td>0.450088</td>\n",
       "    </tr>\n",
       "    <tr>\n",
       "      <th>6</th>\n",
       "      <td>10</td>\n",
       "      <td>5</td>\n",
       "      <td>0.330473</td>\n",
       "      <td>0.447739</td>\n",
       "    </tr>\n",
       "    <tr>\n",
       "      <th>7</th>\n",
       "      <td>10</td>\n",
       "      <td>25</td>\n",
       "      <td>0.308212</td>\n",
       "      <td>0.430331</td>\n",
       "    </tr>\n",
       "    <tr>\n",
       "      <th>8</th>\n",
       "      <td>10</td>\n",
       "      <td>100</td>\n",
       "      <td>0.306918</td>\n",
       "      <td>0.429918</td>\n",
       "    </tr>\n",
       "  </tbody>\n",
       "</table>\n",
       "</div>"
      ],
      "text/plain": [
       "  param_forest__max_depth param_forest__n_estimators  mean_test_mse  \\\n",
       "0                       1                          5       0.361838   \n",
       "1                       1                         25       0.363675   \n",
       "2                       1                        100       0.364180   \n",
       "3                       3                          5       0.347303   \n",
       "4                       3                         25       0.339393   \n",
       "5                       3                        100       0.339293   \n",
       "6                      10                          5       0.330473   \n",
       "7                      10                         25       0.308212   \n",
       "8                      10                        100       0.306918   \n",
       "\n",
       "   mean_test_mae  \n",
       "0       0.475267  \n",
       "1       0.477133  \n",
       "2       0.478484  \n",
       "3       0.454450  \n",
       "4       0.448243  \n",
       "5       0.450088  \n",
       "6       0.447739  \n",
       "7       0.430331  \n",
       "8       0.429918  "
      ]
     },
     "execution_count": 71,
     "metadata": {},
     "output_type": "execute_result"
    }
   ],
   "source": [
    "Xtrain, Xtest, Ytrain, Ytest, groups = pipeline.five_way_split(data,\n",
    "                                                       year=2018,\n",
    "                                                       features=features,\n",
    "                                                       target='CS_in_1_month',\n",
    "                                                       grouping='ADMIN1')\n",
    "\n",
    "forest2_grid_results = forest_grid_model.fit(Xtrain, Ytrain, groups=groups)\n",
    "\n",
    "pd.DataFrame(forest2_grid_results.cv_results_)[['param_forest__max_depth', \n",
    "                                               'param_forest__n_estimators',\n",
    "                                               'mean_test_mse', 'mean_test_mae']]"
   ]
  },
  {
   "cell_type": "code",
   "execution_count": 72,
   "metadata": {},
   "outputs": [
    {
     "name": "stdout",
     "output_type": "stream",
     "text": [
      "\n",
      "        MSE: 0.2833771722145417\n",
      "        MAE: 0.4513196483371268\n",
      "        For a target variable with Variance: 0.316082120194306\n",
      "        \n"
     ]
    }
   ],
   "source": [
    "best_forest2 = forest2_grid_results.best_estimator_\n",
    "pipeline.model_eval(best_forest2, Xtest, Ytest)"
   ]
  },
  {
   "cell_type": "code",
   "execution_count": 73,
   "metadata": {},
   "outputs": [
    {
     "data": {
      "image/png": "[encoded data removed]",
      "text/plain": [
       "<Figure size 720x432 with 1 Axes>"
      ]
     },
     "metadata": {
      "needs_background": "light"
     },
     "output_type": "display_data"
    }
   ],
   "source": [
    "pipeline.feature_importance(best_forest2['forest'],\n",
    "                            labels=Xtrain.columns.values,\n",
    "                            type='tree')"
   ]
  },
  {
   "cell_type": "markdown",
   "metadata": {},
   "source": [
    "## 4 Support Vector Regressor for 3-month Predictions"
   ]
  },
  {
   "cell_type": "code",
   "execution_count": 74,
   "metadata": {},
   "outputs": [],
   "source": [
    "from sklearn.svm import SVR"
   ]
  },
  {
   "cell_type": "code",
   "execution_count": 76,
   "metadata": {},
   "outputs": [
    {
     "name": "stderr",
     "output_type": "stream",
     "text": [
      "/Users/matthewmauer/anaconda3/envs/ml30254/lib/python3.8/site-packages/sklearn/model_selection/_search.py:821: FutureWarning: The parameter 'iid' is deprecated in 0.22 and will be removed in 0.24.\n",
      "  warnings.warn(\n"
     ]
    }
   ],
   "source": [
    "Xtrain, Xtest, Ytrain, Ytest, groups = pipeline.five_way_split(data,\n",
    "                                                       year=2018,\n",
    "                                                       features=features,\n",
    "                                                       target='CS_in_1_month',\n",
    "                                                       grouping='ADMIN1')\n",
    "\n",
    "svr_pipe = Pipeline([\n",
    "    ('impute', SimpleImputer(strategy='median')),\n",
    "    ('scale', StandardScaler()),\n",
    "    ('svr', SVR())\n",
    "])\n",
    "\n",
    "params = {\n",
    "    'svr__kernel': ('poly', 'rbf'),\n",
    "    'svr__C': (0.1, 1, 10),\n",
    "    'svr__degree': (2,)\n",
    "    \n",
    "} \n",
    "\n",
    "scores = {\n",
    "          'mse': make_scorer(mean_squared_error),\n",
    "          'mae': make_scorer(mean_absolute_error),\n",
    "         }\n",
    "\n",
    "svr_grid_model = GridSearchCV(estimator=svr_pipe, \n",
    "                          param_grid=params, \n",
    "                          cv=gcv,\n",
    "                          return_train_score=True,\n",
    "                          scoring=scores,\n",
    "                          refit='mse',\n",
    "                          iid=True)\n",
    "\n",
    "svr_grid_results = svr_grid_model.fit(Xtrain, Ytrain, groups=groups)"
   ]
  },
  {
   "cell_type": "code",
   "execution_count": 78,
   "metadata": {},
   "outputs": [
    {
     "data": {
      "text/html": [
       "<div>\n",
       "<style scoped>\n",
       "    .dataframe tbody tr th:only-of-type {\n",
       "        vertical-align: middle;\n",
       "    }\n",
       "\n",
       "    .dataframe tbody tr th {\n",
       "        vertical-align: top;\n",
       "    }\n",
       "\n",
       "    .dataframe thead th {\n",
       "        text-align: right;\n",
       "    }\n",
       "</style>\n",
       "<table border=\"1\" class=\"dataframe\">\n",
       "  <thead>\n",
       "    <tr style=\"text-align: right;\">\n",
       "      <th></th>\n",
       "      <th>param_svr__kernel</th>\n",
       "      <th>param_svr__C</th>\n",
       "      <th>mean_test_mse</th>\n",
       "      <th>mean_test_mae</th>\n",
       "    </tr>\n",
       "  </thead>\n",
       "  <tbody>\n",
       "    <tr>\n",
       "      <th>0</th>\n",
       "      <td>poly</td>\n",
       "      <td>0.1</td>\n",
       "      <td>4.153146</td>\n",
       "      <td>0.535242</td>\n",
       "    </tr>\n",
       "    <tr>\n",
       "      <th>1</th>\n",
       "      <td>rbf</td>\n",
       "      <td>0.1</td>\n",
       "      <td>0.325606</td>\n",
       "      <td>0.434120</td>\n",
       "    </tr>\n",
       "    <tr>\n",
       "      <th>2</th>\n",
       "      <td>poly</td>\n",
       "      <td>1</td>\n",
       "      <td>15.052615</td>\n",
       "      <td>0.623711</td>\n",
       "    </tr>\n",
       "    <tr>\n",
       "      <th>3</th>\n",
       "      <td>rbf</td>\n",
       "      <td>1</td>\n",
       "      <td>0.329774</td>\n",
       "      <td>0.435621</td>\n",
       "    </tr>\n",
       "    <tr>\n",
       "      <th>4</th>\n",
       "      <td>poly</td>\n",
       "      <td>10</td>\n",
       "      <td>27.830619</td>\n",
       "      <td>0.710957</td>\n",
       "    </tr>\n",
       "    <tr>\n",
       "      <th>5</th>\n",
       "      <td>rbf</td>\n",
       "      <td>10</td>\n",
       "      <td>0.422064</td>\n",
       "      <td>0.473430</td>\n",
       "    </tr>\n",
       "  </tbody>\n",
       "</table>\n",
       "</div>"
      ],
      "text/plain": [
       "  param_svr__kernel param_svr__C  mean_test_mse  mean_test_mae\n",
       "0              poly          0.1       4.153146       0.535242\n",
       "1               rbf          0.1       0.325606       0.434120\n",
       "2              poly            1      15.052615       0.623711\n",
       "3               rbf            1       0.329774       0.435621\n",
       "4              poly           10      27.830619       0.710957\n",
       "5               rbf           10       0.422064       0.473430"
      ]
     },
     "execution_count": 78,
     "metadata": {},
     "output_type": "execute_result"
    }
   ],
   "source": [
    "pd.DataFrame(svr_grid_results.cv_results_)[['param_svr__kernel', 'param_svr__C',\n",
    "                                               'mean_test_mse', 'mean_test_mae']]"
   ]
  },
  {
   "cell_type": "code",
   "execution_count": 79,
   "metadata": {},
   "outputs": [
    {
     "name": "stdout",
     "output_type": "stream",
     "text": [
      "\n",
      "        MSE: 2.601444825147343\n",
      "        MAE: 0.6139182581473235\n",
      "        For a target variable with Variance: 0.316082120194306\n",
      "        \n"
     ]
    }
   ],
   "source": [
    "best_svr = svr_grid_results.best_estimator_\n",
    "pipeline.model_eval(best_svr, Xtest, Ytest)"
   ]
  }
 ],
 "metadata": {
  "kernelspec": {
   "display_name": "ml30254",
   "language": "python",
   "name": "ml30254"
  },
  "language_info": {
   "codemirror_mode": {
    "name": "ipython",
    "version": 3
   },
   "file_extension": ".py",
   "mimetype": "text/x-python",
   "name": "python",
   "nbconvert_exporter": "python",
   "pygments_lexer": "ipython3",
   "version": "3.8.3"
  }
 },
 "nbformat": 4,
 "nbformat_minor": 2
}
