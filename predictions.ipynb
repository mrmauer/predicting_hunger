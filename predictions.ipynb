{
 "cells": [
  {
   "cell_type": "markdown",
   "metadata": {},
   "source": [
    "# Making Hunger Score Predictions\n",
    "### Approach:\n",
    "* Models: Lasso, Random Forest Regressor (RF), Support Vector Regression (SVR)\n",
    "* Perfomr a grid search for 1-month and 3-month predictions of all models\n",
    "* Used Lasso (and RF) to measure feature importance  \n",
    "\n",
    "### Results:\n",
    "* Lasso: An empty model — ie all coefficients converged to zero.\n",
    "* RF: Battle count was the only feature used to only slightly improve upon a baseline prediction of the sample average hunger score.\n",
    "* SVR: Performed far worse than the baseline prediction by sample average. Possibly due to skewed data."
   ]
  },
  {
   "cell_type": "markdown",
   "metadata": {},
   "source": [
    "## 1 Load and Clean Data\n",
    "* load and drop redundant columns\n",
    "* NaNs of event data should be converted to 0s\n",
    "* event data convert to log scale to reduce skew\n",
    "* make Admin1 names unique\n",
    "* look at statistics for features and the hunger score"
   ]
  },
  {
   "cell_type": "code",
   "execution_count": 1,
   "metadata": {},
   "outputs": [],
   "source": [
    "import pandas as pd\n",
    "import pipeline\n",
    "import importlib\n",
    "import numpy as np\n",
    "import matplotlib.pyplot as plt"
   ]
  },
  {
   "cell_type": "code",
   "execution_count": 2,
   "metadata": {},
   "outputs": [],
   "source": [
    "from sklearn.model_selection import train_test_split, GridSearchCV, GroupKFold\n",
    "from sklearn.metrics import mean_squared_error, mean_absolute_error, make_scorer\n",
    "from sklearn.kernel_ridge import KernelRidge\n",
    "from sklearn.ensemble import RandomForestRegressor\n",
    "from sklearn.pipeline import Pipeline\n",
    "from sklearn.impute import SimpleImputer"
   ]
  },
  {
   "cell_type": "code",
   "execution_count": 3,
   "metadata": {},
   "outputs": [],
   "source": [
    "import warnings\n",
    "warnings.filterwarnings(action='once')"
   ]
  },
  {
   "cell_type": "code",
   "execution_count": 13,
   "metadata": {},
   "outputs": [
    {
     "data": {
      "text/plain": [
       "<module 'pipeline' from '/Users/matthewmauer/ML/project/pipeline.py'>"
      ]
     },
     "execution_count": 13,
     "metadata": {},
     "output_type": "execute_result"
    }
   ],
   "source": [
    "# for reloading the pipeline if neccesary...\n",
    "importlib.reload(pipeline)"
   ]
  },
  {
   "cell_type": "code",
   "execution_count": 5,
   "metadata": {
    "scrolled": true
   },
   "outputs": [
    {
     "name": "stdout",
     "output_type": "stream",
     "text": [
      "There are 14068 rows and 24 columns in the data set.\n"
     ]
    },
    {
     "data": {
      "text/html": [
       "<div>\n",
       "<style scoped>\n",
       "    .dataframe tbody tr th:only-of-type {\n",
       "        vertical-align: middle;\n",
       "    }\n",
       "\n",
       "    .dataframe tbody tr th {\n",
       "        vertical-align: top;\n",
       "    }\n",
       "\n",
       "    .dataframe thead th {\n",
       "        text-align: right;\n",
       "    }\n",
       "</style>\n",
       "<table border=\"1\" class=\"dataframe\">\n",
       "  <thead>\n",
       "    <tr style=\"text-align: right;\">\n",
       "      <th></th>\n",
       "      <th>ADMIN0</th>\n",
       "      <th>ADMIN1</th>\n",
       "      <th>month</th>\n",
       "      <th>year</th>\n",
       "      <th>CS</th>\n",
       "      <th>tmin_mm</th>\n",
       "      <th>tmax_mm</th>\n",
       "      <th>tavg_mm</th>\n",
       "      <th>prcp_mm</th>\n",
       "      <th>battle_cnt</th>\n",
       "      <th>...</th>\n",
       "      <th>battle_fatal</th>\n",
       "      <th>protest_fatal</th>\n",
       "      <th>riot_fatal</th>\n",
       "      <th>explosion_fatal</th>\n",
       "      <th>violence_on_civs_fatal</th>\n",
       "      <th>Retail</th>\n",
       "      <th>pop</th>\n",
       "      <th>CS_in_1_month</th>\n",
       "      <th>CS_in_2_months</th>\n",
       "      <th>CS_in_3_months</th>\n",
       "    </tr>\n",
       "  </thead>\n",
       "  <tbody>\n",
       "    <tr>\n",
       "      <th>10506</th>\n",
       "      <td>Sudan</td>\n",
       "      <td>Sinnar</td>\n",
       "      <td>7.0</td>\n",
       "      <td>2011.0</td>\n",
       "      <td>1.5</td>\n",
       "      <td>238.325000</td>\n",
       "      <td>377.571429</td>\n",
       "      <td>295.750000</td>\n",
       "      <td>7.500000</td>\n",
       "      <td>NaN</td>\n",
       "      <td>...</td>\n",
       "      <td>NaN</td>\n",
       "      <td>NaN</td>\n",
       "      <td>NaN</td>\n",
       "      <td>NaN</td>\n",
       "      <td>NaN</td>\n",
       "      <td>NaN</td>\n",
       "      <td>1505000.0</td>\n",
       "      <td>NaN</td>\n",
       "      <td>NaN</td>\n",
       "      <td>2.0</td>\n",
       "    </tr>\n",
       "    <tr>\n",
       "      <th>4906</th>\n",
       "      <td>Kenya</td>\n",
       "      <td>Trans Nzoia</td>\n",
       "      <td>12.0</td>\n",
       "      <td>2019.0</td>\n",
       "      <td>NaN</td>\n",
       "      <td>131.629630</td>\n",
       "      <td>253.142857</td>\n",
       "      <td>184.838710</td>\n",
       "      <td>53.764706</td>\n",
       "      <td>NaN</td>\n",
       "      <td>...</td>\n",
       "      <td>NaN</td>\n",
       "      <td>NaN</td>\n",
       "      <td>NaN</td>\n",
       "      <td>NaN</td>\n",
       "      <td>NaN</td>\n",
       "      <td>NaN</td>\n",
       "      <td>818757.0</td>\n",
       "      <td>NaN</td>\n",
       "      <td>NaN</td>\n",
       "      <td>NaN</td>\n",
       "    </tr>\n",
       "    <tr>\n",
       "      <th>5346</th>\n",
       "      <td>Kenya</td>\n",
       "      <td>West Pokot</td>\n",
       "      <td>3.0</td>\n",
       "      <td>2015.0</td>\n",
       "      <td>NaN</td>\n",
       "      <td>NaN</td>\n",
       "      <td>NaN</td>\n",
       "      <td>NaN</td>\n",
       "      <td>NaN</td>\n",
       "      <td>0.0</td>\n",
       "      <td>...</td>\n",
       "      <td>0.0</td>\n",
       "      <td>0.0</td>\n",
       "      <td>0.0</td>\n",
       "      <td>0.0</td>\n",
       "      <td>0.0</td>\n",
       "      <td>NaN</td>\n",
       "      <td>512690.0</td>\n",
       "      <td>1.5</td>\n",
       "      <td>NaN</td>\n",
       "      <td>NaN</td>\n",
       "    </tr>\n",
       "    <tr>\n",
       "      <th>11412</th>\n",
       "      <td>Tanzania</td>\n",
       "      <td>Dar es Salaam</td>\n",
       "      <td>4.0</td>\n",
       "      <td>2013.0</td>\n",
       "      <td>NaN</td>\n",
       "      <td>233.391304</td>\n",
       "      <td>324.041667</td>\n",
       "      <td>268.689655</td>\n",
       "      <td>93.950000</td>\n",
       "      <td>0.0</td>\n",
       "      <td>...</td>\n",
       "      <td>0.0</td>\n",
       "      <td>0.0</td>\n",
       "      <td>0.0</td>\n",
       "      <td>0.0</td>\n",
       "      <td>0.0</td>\n",
       "      <td>NaN</td>\n",
       "      <td>NaN</td>\n",
       "      <td>NaN</td>\n",
       "      <td>NaN</td>\n",
       "      <td>NaN</td>\n",
       "    </tr>\n",
       "    <tr>\n",
       "      <th>3105</th>\n",
       "      <td>Kenya</td>\n",
       "      <td>Mandera</td>\n",
       "      <td>9.0</td>\n",
       "      <td>2016.0</td>\n",
       "      <td>NaN</td>\n",
       "      <td>NaN</td>\n",
       "      <td>NaN</td>\n",
       "      <td>NaN</td>\n",
       "      <td>NaN</td>\n",
       "      <td>0.0</td>\n",
       "      <td>...</td>\n",
       "      <td>0.0</td>\n",
       "      <td>0.0</td>\n",
       "      <td>0.0</td>\n",
       "      <td>4.0</td>\n",
       "      <td>0.0</td>\n",
       "      <td>NaN</td>\n",
       "      <td>1025756.0</td>\n",
       "      <td>2.0</td>\n",
       "      <td>NaN</td>\n",
       "      <td>NaN</td>\n",
       "    </tr>\n",
       "  </tbody>\n",
       "</table>\n",
       "<p>5 rows × 24 columns</p>\n",
       "</div>"
      ],
      "text/plain": [
       "         ADMIN0         ADMIN1  month    year   CS     tmin_mm     tmax_mm  \\\n",
       "10506     Sudan         Sinnar    7.0  2011.0  1.5  238.325000  377.571429   \n",
       "4906      Kenya    Trans Nzoia   12.0  2019.0  NaN  131.629630  253.142857   \n",
       "5346      Kenya     West Pokot    3.0  2015.0  NaN         NaN         NaN   \n",
       "11412  Tanzania  Dar es Salaam    4.0  2013.0  NaN  233.391304  324.041667   \n",
       "3105      Kenya        Mandera    9.0  2016.0  NaN         NaN         NaN   \n",
       "\n",
       "          tavg_mm    prcp_mm  battle_cnt  ...  battle_fatal  protest_fatal  \\\n",
       "10506  295.750000   7.500000         NaN  ...           NaN            NaN   \n",
       "4906   184.838710  53.764706         NaN  ...           NaN            NaN   \n",
       "5346          NaN        NaN         0.0  ...           0.0            0.0   \n",
       "11412  268.689655  93.950000         0.0  ...           0.0            0.0   \n",
       "3105          NaN        NaN         0.0  ...           0.0            0.0   \n",
       "\n",
       "       riot_fatal  explosion_fatal  violence_on_civs_fatal  Retail        pop  \\\n",
       "10506         NaN              NaN                     NaN     NaN  1505000.0   \n",
       "4906          NaN              NaN                     NaN     NaN   818757.0   \n",
       "5346          0.0              0.0                     0.0     NaN   512690.0   \n",
       "11412         0.0              0.0                     0.0     NaN        NaN   \n",
       "3105          0.0              4.0                     0.0     NaN  1025756.0   \n",
       "\n",
       "       CS_in_1_month  CS_in_2_months  CS_in_3_months  \n",
       "10506            NaN             NaN             2.0  \n",
       "4906             NaN             NaN             NaN  \n",
       "5346             1.5             NaN             NaN  \n",
       "11412            NaN             NaN             NaN  \n",
       "3105             2.0             NaN             NaN  \n",
       "\n",
       "[5 rows x 24 columns]"
      ]
     },
     "execution_count": 5,
     "metadata": {},
     "output_type": "execute_result"
    }
   ],
   "source": [
    "data = pipeline.read('create_targets/total_data_with_targets.csv')\n",
    "data.sample(5)"
   ]
  },
  {
   "cell_type": "code",
   "execution_count": 14,
   "metadata": {},
   "outputs": [],
   "source": [
    "data = pipeline.clean_events(data)"
   ]
  },
  {
   "cell_type": "code",
   "execution_count": 26,
   "metadata": {},
   "outputs": [],
   "source": [
    "data = pipeline.unique_regions(data)"
   ]
  },
  {
   "cell_type": "markdown",
   "metadata": {},
   "source": [
    "### View Statistics"
   ]
  },
  {
   "cell_type": "code",
   "execution_count": 17,
   "metadata": {
    "scrolled": true
   },
   "outputs": [
    {
     "data": {
      "text/html": [
       "<div>\n",
       "<style scoped>\n",
       "    .dataframe tbody tr th:only-of-type {\n",
       "        vertical-align: middle;\n",
       "    }\n",
       "\n",
       "    .dataframe tbody tr th {\n",
       "        vertical-align: top;\n",
       "    }\n",
       "\n",
       "    .dataframe thead th {\n",
       "        text-align: right;\n",
       "    }\n",
       "</style>\n",
       "<table border=\"1\" class=\"dataframe\">\n",
       "  <thead>\n",
       "    <tr style=\"text-align: right;\">\n",
       "      <th></th>\n",
       "      <th>tmin_mm</th>\n",
       "      <th>tmax_mm</th>\n",
       "      <th>tavg_mm</th>\n",
       "      <th>prcp_mm</th>\n",
       "      <th>battle_cnt</th>\n",
       "      <th>protest_cnt</th>\n",
       "      <th>riot_cnt</th>\n",
       "      <th>explosion_cnt</th>\n",
       "      <th>violence_on_civs_cnt</th>\n",
       "      <th>battle_fatal</th>\n",
       "      <th>protest_fatal</th>\n",
       "      <th>riot_fatal</th>\n",
       "      <th>explosion_fatal</th>\n",
       "      <th>violence_on_civs_fatal</th>\n",
       "      <th>Retail</th>\n",
       "      <th>pop</th>\n",
       "    </tr>\n",
       "  </thead>\n",
       "  <tbody>\n",
       "    <tr>\n",
       "      <th>count</th>\n",
       "      <td>3308.000000</td>\n",
       "      <td>3051.000000</td>\n",
       "      <td>3786.000000</td>\n",
       "      <td>2355.000000</td>\n",
       "      <td>14068.000000</td>\n",
       "      <td>14068.000000</td>\n",
       "      <td>14068.000000</td>\n",
       "      <td>14068.000000</td>\n",
       "      <td>14068.000000</td>\n",
       "      <td>14068.000000</td>\n",
       "      <td>14068.000000</td>\n",
       "      <td>14068.000000</td>\n",
       "      <td>14068.000000</td>\n",
       "      <td>14068.000000</td>\n",
       "      <td>4661.000000</td>\n",
       "      <td>7.895000e+03</td>\n",
       "    </tr>\n",
       "    <tr>\n",
       "      <th>mean</th>\n",
       "      <td>194.006999</td>\n",
       "      <td>324.045806</td>\n",
       "      <td>259.036633</td>\n",
       "      <td>75.495813</td>\n",
       "      <td>0.403487</td>\n",
       "      <td>0.217546</td>\n",
       "      <td>0.127565</td>\n",
       "      <td>0.164981</td>\n",
       "      <td>0.382583</td>\n",
       "      <td>0.556682</td>\n",
       "      <td>0.015135</td>\n",
       "      <td>0.048254</td>\n",
       "      <td>0.158233</td>\n",
       "      <td>0.378231</td>\n",
       "      <td>0.642517</td>\n",
       "      <td>2.708599e+06</td>\n",
       "    </tr>\n",
       "    <tr>\n",
       "      <th>std</th>\n",
       "      <td>48.576061</td>\n",
       "      <td>50.874524</td>\n",
       "      <td>47.393798</td>\n",
       "      <td>119.916669</td>\n",
       "      <td>0.747403</td>\n",
       "      <td>0.476890</td>\n",
       "      <td>0.347086</td>\n",
       "      <td>0.502241</td>\n",
       "      <td>0.654209</td>\n",
       "      <td>1.171873</td>\n",
       "      <td>0.175835</td>\n",
       "      <td>0.263668</td>\n",
       "      <td>0.607038</td>\n",
       "      <td>0.821119</td>\n",
       "      <td>1.419446</td>\n",
       "      <td>5.611861e+06</td>\n",
       "    </tr>\n",
       "    <tr>\n",
       "      <th>min</th>\n",
       "      <td>54.950000</td>\n",
       "      <td>200.000000</td>\n",
       "      <td>143.200000</td>\n",
       "      <td>0.000000</td>\n",
       "      <td>0.000000</td>\n",
       "      <td>0.000000</td>\n",
       "      <td>0.000000</td>\n",
       "      <td>0.000000</td>\n",
       "      <td>0.000000</td>\n",
       "      <td>0.000000</td>\n",
       "      <td>0.000000</td>\n",
       "      <td>0.000000</td>\n",
       "      <td>0.000000</td>\n",
       "      <td>0.000000</td>\n",
       "      <td>-3.445507</td>\n",
       "      <td>1.015390e+05</td>\n",
       "    </tr>\n",
       "    <tr>\n",
       "      <th>25%</th>\n",
       "      <td>153.174020</td>\n",
       "      <td>287.136646</td>\n",
       "      <td>226.445968</td>\n",
       "      <td>14.250000</td>\n",
       "      <td>0.000000</td>\n",
       "      <td>0.000000</td>\n",
       "      <td>0.000000</td>\n",
       "      <td>0.000000</td>\n",
       "      <td>0.000000</td>\n",
       "      <td>0.000000</td>\n",
       "      <td>0.000000</td>\n",
       "      <td>0.000000</td>\n",
       "      <td>0.000000</td>\n",
       "      <td>0.000000</td>\n",
       "      <td>-0.201266</td>\n",
       "      <td>7.439460e+05</td>\n",
       "    </tr>\n",
       "    <tr>\n",
       "      <th>50%</th>\n",
       "      <td>197.124060</td>\n",
       "      <td>317.000000</td>\n",
       "      <td>261.696154</td>\n",
       "      <td>43.285714</td>\n",
       "      <td>0.000000</td>\n",
       "      <td>0.000000</td>\n",
       "      <td>0.000000</td>\n",
       "      <td>0.000000</td>\n",
       "      <td>0.000000</td>\n",
       "      <td>0.000000</td>\n",
       "      <td>0.000000</td>\n",
       "      <td>0.000000</td>\n",
       "      <td>0.000000</td>\n",
       "      <td>0.000000</td>\n",
       "      <td>0.474682</td>\n",
       "      <td>1.098584e+06</td>\n",
       "    </tr>\n",
       "    <tr>\n",
       "      <th>75%</th>\n",
       "      <td>234.937500</td>\n",
       "      <td>360.302778</td>\n",
       "      <td>291.386966</td>\n",
       "      <td>85.085965</td>\n",
       "      <td>0.693147</td>\n",
       "      <td>0.000000</td>\n",
       "      <td>0.000000</td>\n",
       "      <td>0.000000</td>\n",
       "      <td>0.693147</td>\n",
       "      <td>0.000000</td>\n",
       "      <td>0.000000</td>\n",
       "      <td>0.000000</td>\n",
       "      <td>0.000000</td>\n",
       "      <td>0.000000</td>\n",
       "      <td>1.312802</td>\n",
       "      <td>1.994000e+06</td>\n",
       "    </tr>\n",
       "    <tr>\n",
       "      <th>max</th>\n",
       "      <td>329.100000</td>\n",
       "      <td>464.833333</td>\n",
       "      <td>389.000000</td>\n",
       "      <td>2009.000000</td>\n",
       "      <td>4.043051</td>\n",
       "      <td>5.513429</td>\n",
       "      <td>3.401197</td>\n",
       "      <td>3.850148</td>\n",
       "      <td>3.931826</td>\n",
       "      <td>6.895683</td>\n",
       "      <td>5.241747</td>\n",
       "      <td>5.323010</td>\n",
       "      <td>6.437752</td>\n",
       "      <td>8.074960</td>\n",
       "      <td>7.108684</td>\n",
       "      <td>3.748900e+07</td>\n",
       "    </tr>\n",
       "  </tbody>\n",
       "</table>\n",
       "</div>"
      ],
      "text/plain": [
       "           tmin_mm      tmax_mm      tavg_mm      prcp_mm    battle_cnt  \\\n",
       "count  3308.000000  3051.000000  3786.000000  2355.000000  14068.000000   \n",
       "mean    194.006999   324.045806   259.036633    75.495813      0.403487   \n",
       "std      48.576061    50.874524    47.393798   119.916669      0.747403   \n",
       "min      54.950000   200.000000   143.200000     0.000000      0.000000   \n",
       "25%     153.174020   287.136646   226.445968    14.250000      0.000000   \n",
       "50%     197.124060   317.000000   261.696154    43.285714      0.000000   \n",
       "75%     234.937500   360.302778   291.386966    85.085965      0.693147   \n",
       "max     329.100000   464.833333   389.000000  2009.000000      4.043051   \n",
       "\n",
       "        protest_cnt      riot_cnt  explosion_cnt  violence_on_civs_cnt  \\\n",
       "count  14068.000000  14068.000000   14068.000000          14068.000000   \n",
       "mean       0.217546      0.127565       0.164981              0.382583   \n",
       "std        0.476890      0.347086       0.502241              0.654209   \n",
       "min        0.000000      0.000000       0.000000              0.000000   \n",
       "25%        0.000000      0.000000       0.000000              0.000000   \n",
       "50%        0.000000      0.000000       0.000000              0.000000   \n",
       "75%        0.000000      0.000000       0.000000              0.693147   \n",
       "max        5.513429      3.401197       3.850148              3.931826   \n",
       "\n",
       "       battle_fatal  protest_fatal    riot_fatal  explosion_fatal  \\\n",
       "count  14068.000000   14068.000000  14068.000000     14068.000000   \n",
       "mean       0.556682       0.015135      0.048254         0.158233   \n",
       "std        1.171873       0.175835      0.263668         0.607038   \n",
       "min        0.000000       0.000000      0.000000         0.000000   \n",
       "25%        0.000000       0.000000      0.000000         0.000000   \n",
       "50%        0.000000       0.000000      0.000000         0.000000   \n",
       "75%        0.000000       0.000000      0.000000         0.000000   \n",
       "max        6.895683       5.241747      5.323010         6.437752   \n",
       "\n",
       "       violence_on_civs_fatal       Retail           pop  \n",
       "count            14068.000000  4661.000000  7.895000e+03  \n",
       "mean                 0.378231     0.642517  2.708599e+06  \n",
       "std                  0.821119     1.419446  5.611861e+06  \n",
       "min                  0.000000    -3.445507  1.015390e+05  \n",
       "25%                  0.000000    -0.201266  7.439460e+05  \n",
       "50%                  0.000000     0.474682  1.098584e+06  \n",
       "75%                  0.000000     1.312802  1.994000e+06  \n",
       "max                  8.074960     7.108684  3.748900e+07  "
      ]
     },
     "execution_count": 17,
     "metadata": {},
     "output_type": "execute_result"
    }
   ],
   "source": [
    "features = ['tmin_mm', 'tmax_mm', 'tavg_mm', 'prcp_mm',\n",
    "       'battle_cnt', 'protest_cnt', 'riot_cnt', 'explosion_cnt',\n",
    "       'violence_on_civs_cnt', 'battle_fatal', 'protest_fatal',\n",
    "       'riot_fatal', 'explosion_fatal', 'violence_on_civs_fatal',\n",
    "       'Retail', 'pop']\n",
    "\n",
    "data[features].describe()"
   ]
  },
  {
   "cell_type": "code",
   "execution_count": 18,
   "metadata": {},
   "outputs": [
    {
     "data": {
      "text/plain": [
       "count    2705.000000\n",
       "mean        1.916313\n",
       "std         0.620740\n",
       "min         1.000000\n",
       "25%         1.500000\n",
       "50%         2.000000\n",
       "75%         2.333333\n",
       "max         4.500000\n",
       "Name: CS_in_1_month, dtype: float64"
      ]
     },
     "execution_count": 18,
     "metadata": {},
     "output_type": "execute_result"
    }
   ],
   "source": [
    "data.CS_in_1_month.describe()"
   ]
  },
  {
   "cell_type": "markdown",
   "metadata": {},
   "source": [
    "## 2.1 LASSO Regression for 3-month Predictions\n",
    "* perform a small grid search tuning the alpha from the loss function\n",
    "* use group k-fold cross validation to prevent data leakage\n",
    "* discover feature importance"
   ]
  },
  {
   "cell_type": "code",
   "execution_count": 19,
   "metadata": {},
   "outputs": [],
   "source": [
    "from sklearn.linear_model import Lasso\n",
    "from sklearn.preprocessing import StandardScaler"
   ]
  },
  {
   "cell_type": "code",
   "execution_count": 20,
   "metadata": {
    "scrolled": true
   },
   "outputs": [],
   "source": [
    "features = ['tmin_mm', 'tmax_mm', 'tavg_mm', 'prcp_mm',\n",
    "       'battle_cnt', 'protest_cnt', 'riot_cnt', 'explosion_cnt',\n",
    "       'violence_on_civs_cnt', 'battle_fatal', 'protest_fatal',\n",
    "       'riot_fatal', 'explosion_fatal', 'violence_on_civs_fatal',\n",
    "       'Retail', 'pop']\n",
    "\n",
    "Xtrain, Xtest, Ytrain, Ytest, groups = pipeline.five_way_split(data,\n",
    "                                                       year=2018,\n",
    "                                                       features=features,\n",
    "                                                       target='CS_in_3_months',\n",
    "                                                       grouping='ADMIN1')"
   ]
  },
  {
   "cell_type": "code",
   "execution_count": 21,
   "metadata": {},
   "outputs": [
    {
     "name": "stderr",
     "output_type": "stream",
     "text": [
      "/Users/matthewmauer/anaconda3/envs/ml30254/lib/python3.8/site-packages/sklearn/model_selection/_search.py:821: FutureWarning: The parameter 'iid' is deprecated in 0.22 and will be removed in 0.24.\n",
      "  warnings.warn(\n"
     ]
    }
   ],
   "source": [
    "lasso_pipe = Pipeline([\n",
    "    ('impute', SimpleImputer(strategy='median')),\n",
    "    ('scale', StandardScaler()),\n",
    "    ('lasso', Lasso())\n",
    "])\n",
    "\n",
    "params = {\n",
    "    'lasso__alpha': (0.01, 0.1, 1, 10, 100) \n",
    "} \n",
    "\n",
    "scores = {\n",
    "          'mse': make_scorer(mean_squared_error),\n",
    "          'mae': make_scorer(mean_absolute_error),\n",
    "         }\n",
    "\n",
    "gcv = GroupKFold()\n",
    "\n",
    "lasso_grid_model = GridSearchCV(estimator=lasso_pipe, \n",
    "                          param_grid=params, \n",
    "                          cv=gcv,\n",
    "                          return_train_score=True,\n",
    "                          scoring=scores,\n",
    "                          refit='mse',\n",
    "                          iid=True)\n",
    "\n",
    "lasso_grid_results = lasso_grid_model.fit(Xtrain, Ytrain, groups=groups)"
   ]
  },
  {
   "cell_type": "code",
   "execution_count": 22,
   "metadata": {},
   "outputs": [
    {
     "data": {
      "text/html": [
       "<div>\n",
       "<style scoped>\n",
       "    .dataframe tbody tr th:only-of-type {\n",
       "        vertical-align: middle;\n",
       "    }\n",
       "\n",
       "    .dataframe tbody tr th {\n",
       "        vertical-align: top;\n",
       "    }\n",
       "\n",
       "    .dataframe thead th {\n",
       "        text-align: right;\n",
       "    }\n",
       "</style>\n",
       "<table border=\"1\" class=\"dataframe\">\n",
       "  <thead>\n",
       "    <tr style=\"text-align: right;\">\n",
       "      <th></th>\n",
       "      <th>param_lasso__alpha</th>\n",
       "      <th>mean_test_mse</th>\n",
       "      <th>mean_test_mae</th>\n",
       "    </tr>\n",
       "  </thead>\n",
       "  <tbody>\n",
       "    <tr>\n",
       "      <th>0</th>\n",
       "      <td>0.01</td>\n",
       "      <td>0.361619</td>\n",
       "      <td>0.479757</td>\n",
       "    </tr>\n",
       "    <tr>\n",
       "      <th>1</th>\n",
       "      <td>0.1</td>\n",
       "      <td>0.364443</td>\n",
       "      <td>0.482209</td>\n",
       "    </tr>\n",
       "    <tr>\n",
       "      <th>2</th>\n",
       "      <td>1</td>\n",
       "      <td>0.393555</td>\n",
       "      <td>0.506596</td>\n",
       "    </tr>\n",
       "    <tr>\n",
       "      <th>3</th>\n",
       "      <td>10</td>\n",
       "      <td>0.393555</td>\n",
       "      <td>0.506596</td>\n",
       "    </tr>\n",
       "    <tr>\n",
       "      <th>4</th>\n",
       "      <td>100</td>\n",
       "      <td>0.393555</td>\n",
       "      <td>0.506596</td>\n",
       "    </tr>\n",
       "  </tbody>\n",
       "</table>\n",
       "</div>"
      ],
      "text/plain": [
       "  param_lasso__alpha  mean_test_mse  mean_test_mae\n",
       "0               0.01       0.361619       0.479757\n",
       "1                0.1       0.364443       0.482209\n",
       "2                  1       0.393555       0.506596\n",
       "3                 10       0.393555       0.506596\n",
       "4                100       0.393555       0.506596"
      ]
     },
     "execution_count": 22,
     "metadata": {},
     "output_type": "execute_result"
    }
   ],
   "source": [
    "lasso_scores = pd.DataFrame(lasso_grid_results.cv_results_)\n",
    "results = lasso_scores[['param_lasso__alpha', 'mean_test_mse', 'mean_test_mae']]\n",
    "results"
   ]
  },
  {
   "cell_type": "code",
   "execution_count": 23,
   "metadata": {},
   "outputs": [
    {
     "name": "stdout",
     "output_type": "stream",
     "text": [
      "\n",
      "        MSE: 0.3192245273316907\n",
      "        MAE: 0.48551725449232375\n",
      "        For a target variable with Variance: 0.30427033252513075\n",
      "        \n"
     ]
    }
   ],
   "source": [
    "best_lasso = lasso_grid_results.best_estimator_\n",
    "pipeline.model_eval(best_lasso, Xtest, Ytest)"
   ]
  },
  {
   "cell_type": "code",
   "execution_count": 24,
   "metadata": {},
   "outputs": [
    {
     "data": {
      "image/png": "[encoded data removed]",
      "text/plain": [
       "<Figure size 720x432 with 1 Axes>"
      ]
     },
     "metadata": {
      "needs_background": "light"
     },
     "output_type": "display_data"
    }
   ],
   "source": [
    "pipeline.feature_importance(best_lasso['lasso'],\n",
    "                            labels=Xtrain.columns.values)"
   ]
  },
  {
   "cell_type": "markdown",
   "metadata": {},
   "source": [
    "### Results\n",
    "Even after normalizing, we have essentially an empty model."
   ]
  },
  {
   "cell_type": "markdown",
   "metadata": {},
   "source": [
    "## 2.2 LASSO Regression for 1-month Predictions\n",
    "Repeat the above process."
   ]
  },
  {
   "cell_type": "code",
   "execution_count": 25,
   "metadata": {},
   "outputs": [
    {
     "name": "stderr",
     "output_type": "stream",
     "text": [
      "/Users/matthewmauer/anaconda3/envs/ml30254/lib/python3.8/site-packages/sklearn/model_selection/_search.py:821: FutureWarning: The parameter 'iid' is deprecated in 0.22 and will be removed in 0.24.\n",
      "  warnings.warn(\n"
     ]
    },
    {
     "data": {
      "text/html": [
       "<div>\n",
       "<style scoped>\n",
       "    .dataframe tbody tr th:only-of-type {\n",
       "        vertical-align: middle;\n",
       "    }\n",
       "\n",
       "    .dataframe tbody tr th {\n",
       "        vertical-align: top;\n",
       "    }\n",
       "\n",
       "    .dataframe thead th {\n",
       "        text-align: right;\n",
       "    }\n",
       "</style>\n",
       "<table border=\"1\" class=\"dataframe\">\n",
       "  <thead>\n",
       "    <tr style=\"text-align: right;\">\n",
       "      <th></th>\n",
       "      <th>param_lasso__alpha</th>\n",
       "      <th>mean_test_mse</th>\n",
       "      <th>mean_test_mae</th>\n",
       "    </tr>\n",
       "  </thead>\n",
       "  <tbody>\n",
       "    <tr>\n",
       "      <th>0</th>\n",
       "      <td>0.01</td>\n",
       "      <td>0.375049</td>\n",
       "      <td>0.479874</td>\n",
       "    </tr>\n",
       "    <tr>\n",
       "      <th>1</th>\n",
       "      <td>0.1</td>\n",
       "      <td>0.378418</td>\n",
       "      <td>0.482580</td>\n",
       "    </tr>\n",
       "    <tr>\n",
       "      <th>2</th>\n",
       "      <td>1</td>\n",
       "      <td>0.402052</td>\n",
       "      <td>0.497834</td>\n",
       "    </tr>\n",
       "    <tr>\n",
       "      <th>3</th>\n",
       "      <td>10</td>\n",
       "      <td>0.402052</td>\n",
       "      <td>0.497834</td>\n",
       "    </tr>\n",
       "    <tr>\n",
       "      <th>4</th>\n",
       "      <td>100</td>\n",
       "      <td>0.402052</td>\n",
       "      <td>0.497834</td>\n",
       "    </tr>\n",
       "  </tbody>\n",
       "</table>\n",
       "</div>"
      ],
      "text/plain": [
       "  param_lasso__alpha  mean_test_mse  mean_test_mae\n",
       "0               0.01       0.375049       0.479874\n",
       "1                0.1       0.378418       0.482580\n",
       "2                  1       0.402052       0.497834\n",
       "3                 10       0.402052       0.497834\n",
       "4                100       0.402052       0.497834"
      ]
     },
     "execution_count": 25,
     "metadata": {},
     "output_type": "execute_result"
    }
   ],
   "source": [
    "Xtrain, Xtest, Ytrain, Ytest, groups = pipeline.five_way_split(data,\n",
    "                                                       year=2018,\n",
    "                                                       features=features,\n",
    "                                                       target='CS_in_1_month',\n",
    "                                                       grouping='ADMIN1')\n",
    "\n",
    "lasso2_grid_model = GridSearchCV(estimator=lasso_pipe, \n",
    "                          param_grid=params, \n",
    "                          cv=gcv,\n",
    "                          return_train_score=True,\n",
    "                          scoring=scores,\n",
    "                          refit='mse',\n",
    "                          iid=True)\n",
    "\n",
    "lasso2_grid_results = lasso2_grid_model.fit(Xtrain, Ytrain, groups=groups)\n",
    "\n",
    "lasso2_scores = pd.DataFrame(lasso2_grid_results.cv_results_)\n",
    "results2 = lasso2_scores[['param_lasso__alpha', 'mean_test_mse', 'mean_test_mae']]\n",
    "results2"
   ]
  },
  {
   "cell_type": "code",
   "execution_count": 26,
   "metadata": {},
   "outputs": [
    {
     "name": "stdout",
     "output_type": "stream",
     "text": [
      "\n",
      "        MSE: 0.3161452279542899\n",
      "        MAE: 0.4683750070010606\n",
      "        For a target variable with Variance: 0.316082120194306\n",
      "        \n"
     ]
    }
   ],
   "source": [
    "best_lasso2 = lasso2_grid_results.best_estimator_\n",
    "pipeline.model_eval(best_lasso2, Xtest, Ytest)"
   ]
  },
  {
   "cell_type": "markdown",
   "metadata": {},
   "source": [
    "## Results\n",
    "Again, we have an empty model."
   ]
  },
  {
   "cell_type": "markdown",
   "metadata": {},
   "source": [
    "## 3.1 Random Forest Regressor for 3-month Predictions"
   ]
  },
  {
   "cell_type": "code",
   "execution_count": 27,
   "metadata": {},
   "outputs": [
    {
     "name": "stderr",
     "output_type": "stream",
     "text": [
      "/Users/matthewmauer/anaconda3/envs/ml30254/lib/python3.8/site-packages/sklearn/model_selection/_search.py:821: FutureWarning: The parameter 'iid' is deprecated in 0.22 and will be removed in 0.24.\n",
      "  warnings.warn(\n"
     ]
    }
   ],
   "source": [
    "Xtrain, Xtest, Ytrain, Ytest, groups = pipeline.five_way_split(data,\n",
    "                                                       year=2018,\n",
    "                                                       features=features,\n",
    "                                                       target='CS_in_3_months',\n",
    "                                                       grouping='ADMIN1')\n",
    "\n",
    "forest_pipe = Pipeline([\n",
    "    ('impute', SimpleImputer(strategy='median')),\n",
    "    ('forest', RandomForestRegressor(random_state=30254))\n",
    "])\n",
    "\n",
    "params = {\n",
    "    'forest__max_depth': (1, 3, 10), \n",
    "    'forest__n_estimators': (5, 25, 100)\n",
    "}\n",
    "\n",
    "scores = {\n",
    "          'mse': make_scorer(mean_squared_error),\n",
    "          'mae': make_scorer(mean_absolute_error),\n",
    "         }\n",
    "\n",
    "gcv = GroupKFold()\n",
    "\n",
    "forest_grid_model = GridSearchCV(estimator=forest_pipe, \n",
    "                          param_grid=params, \n",
    "                          cv=gcv,\n",
    "                          return_train_score=True,\n",
    "                          scoring=scores,\n",
    "                          refit='mse',\n",
    "                          iid=True)\n",
    "\n",
    "forest_grid_results = forest_grid_model.fit(Xtrain, Ytrain, groups=groups)"
   ]
  },
  {
   "cell_type": "code",
   "execution_count": 28,
   "metadata": {},
   "outputs": [
    {
     "data": {
      "text/html": [
       "<div>\n",
       "<style scoped>\n",
       "    .dataframe tbody tr th:only-of-type {\n",
       "        vertical-align: middle;\n",
       "    }\n",
       "\n",
       "    .dataframe tbody tr th {\n",
       "        vertical-align: top;\n",
       "    }\n",
       "\n",
       "    .dataframe thead th {\n",
       "        text-align: right;\n",
       "    }\n",
       "</style>\n",
       "<table border=\"1\" class=\"dataframe\">\n",
       "  <thead>\n",
       "    <tr style=\"text-align: right;\">\n",
       "      <th></th>\n",
       "      <th>param_forest__max_depth</th>\n",
       "      <th>param_forest__n_estimators</th>\n",
       "      <th>mean_test_mse</th>\n",
       "      <th>mean_test_mae</th>\n",
       "    </tr>\n",
       "  </thead>\n",
       "  <tbody>\n",
       "    <tr>\n",
       "      <th>0</th>\n",
       "      <td>1</td>\n",
       "      <td>5</td>\n",
       "      <td>0.350897</td>\n",
       "      <td>0.471671</td>\n",
       "    </tr>\n",
       "    <tr>\n",
       "      <th>1</th>\n",
       "      <td>1</td>\n",
       "      <td>25</td>\n",
       "      <td>0.351300</td>\n",
       "      <td>0.471903</td>\n",
       "    </tr>\n",
       "    <tr>\n",
       "      <th>2</th>\n",
       "      <td>1</td>\n",
       "      <td>100</td>\n",
       "      <td>0.351335</td>\n",
       "      <td>0.471868</td>\n",
       "    </tr>\n",
       "    <tr>\n",
       "      <th>3</th>\n",
       "      <td>3</td>\n",
       "      <td>5</td>\n",
       "      <td>0.331966</td>\n",
       "      <td>0.446466</td>\n",
       "    </tr>\n",
       "    <tr>\n",
       "      <th>4</th>\n",
       "      <td>3</td>\n",
       "      <td>25</td>\n",
       "      <td>0.323485</td>\n",
       "      <td>0.441901</td>\n",
       "    </tr>\n",
       "    <tr>\n",
       "      <th>5</th>\n",
       "      <td>3</td>\n",
       "      <td>100</td>\n",
       "      <td>0.322553</td>\n",
       "      <td>0.441185</td>\n",
       "    </tr>\n",
       "    <tr>\n",
       "      <th>6</th>\n",
       "      <td>10</td>\n",
       "      <td>5</td>\n",
       "      <td>0.339588</td>\n",
       "      <td>0.452650</td>\n",
       "    </tr>\n",
       "    <tr>\n",
       "      <th>7</th>\n",
       "      <td>10</td>\n",
       "      <td>25</td>\n",
       "      <td>0.325835</td>\n",
       "      <td>0.440072</td>\n",
       "    </tr>\n",
       "    <tr>\n",
       "      <th>8</th>\n",
       "      <td>10</td>\n",
       "      <td>100</td>\n",
       "      <td>0.321739</td>\n",
       "      <td>0.439196</td>\n",
       "    </tr>\n",
       "  </tbody>\n",
       "</table>\n",
       "</div>"
      ],
      "text/plain": [
       "  param_forest__max_depth param_forest__n_estimators  mean_test_mse  \\\n",
       "0                       1                          5       0.350897   \n",
       "1                       1                         25       0.351300   \n",
       "2                       1                        100       0.351335   \n",
       "3                       3                          5       0.331966   \n",
       "4                       3                         25       0.323485   \n",
       "5                       3                        100       0.322553   \n",
       "6                      10                          5       0.339588   \n",
       "7                      10                         25       0.325835   \n",
       "8                      10                        100       0.321739   \n",
       "\n",
       "   mean_test_mae  \n",
       "0       0.471671  \n",
       "1       0.471903  \n",
       "2       0.471868  \n",
       "3       0.446466  \n",
       "4       0.441901  \n",
       "5       0.441185  \n",
       "6       0.452650  \n",
       "7       0.440072  \n",
       "8       0.439196  "
      ]
     },
     "execution_count": 28,
     "metadata": {},
     "output_type": "execute_result"
    }
   ],
   "source": [
    "forest_scores = pd.DataFrame(forest_grid_results.cv_results_)\n",
    "results = forest_scores[['param_forest__max_depth', \n",
    "                         'param_forest__n_estimators',\n",
    "                        'mean_test_mse', 'mean_test_mae']]\n",
    "results"
   ]
  },
  {
   "cell_type": "code",
   "execution_count": 29,
   "metadata": {},
   "outputs": [
    {
     "name": "stdout",
     "output_type": "stream",
     "text": [
      "\n",
      "        MSE: 0.3003485081626862\n",
      "        MAE: 0.46859682681106646\n",
      "        For a target variable with Variance: 0.30427033252513075\n",
      "        \n"
     ]
    }
   ],
   "source": [
    "best_forest = forest_grid_results.best_estimator_\n",
    "pipeline.model_eval(best_forest, Xtest, Ytest)"
   ]
  },
  {
   "cell_type": "code",
   "execution_count": 30,
   "metadata": {},
   "outputs": [
    {
     "data": {
      "image/png": "[encoded data removed]",
      "text/plain": [
       "<Figure size 720x432 with 1 Axes>"
      ]
     },
     "metadata": {
      "needs_background": "light"
     },
     "output_type": "display_data"
    }
   ],
   "source": [
    "pipeline.feature_importance(best_forest['forest'],\n",
    "                            labels=Xtrain.columns.values,\n",
    "                            type='tree')"
   ]
  },
  {
   "cell_type": "markdown",
   "metadata": {},
   "source": [
    "## 3.2 Random Forest Regressor for 1-month Predictions"
   ]
  },
  {
   "cell_type": "code",
   "execution_count": 31,
   "metadata": {},
   "outputs": [
    {
     "name": "stderr",
     "output_type": "stream",
     "text": [
      "/Users/matthewmauer/anaconda3/envs/ml30254/lib/python3.8/site-packages/sklearn/model_selection/_search.py:821: FutureWarning: The parameter 'iid' is deprecated in 0.22 and will be removed in 0.24.\n",
      "  warnings.warn(\n"
     ]
    },
    {
     "data": {
      "text/html": [
       "<div>\n",
       "<style scoped>\n",
       "    .dataframe tbody tr th:only-of-type {\n",
       "        vertical-align: middle;\n",
       "    }\n",
       "\n",
       "    .dataframe tbody tr th {\n",
       "        vertical-align: top;\n",
       "    }\n",
       "\n",
       "    .dataframe thead th {\n",
       "        text-align: right;\n",
       "    }\n",
       "</style>\n",
       "<table border=\"1\" class=\"dataframe\">\n",
       "  <thead>\n",
       "    <tr style=\"text-align: right;\">\n",
       "      <th></th>\n",
       "      <th>param_forest__max_depth</th>\n",
       "      <th>param_forest__n_estimators</th>\n",
       "      <th>mean_test_mse</th>\n",
       "      <th>mean_test_mae</th>\n",
       "    </tr>\n",
       "  </thead>\n",
       "  <tbody>\n",
       "    <tr>\n",
       "      <th>0</th>\n",
       "      <td>1</td>\n",
       "      <td>5</td>\n",
       "      <td>0.381780</td>\n",
       "      <td>0.488786</td>\n",
       "    </tr>\n",
       "    <tr>\n",
       "      <th>1</th>\n",
       "      <td>1</td>\n",
       "      <td>25</td>\n",
       "      <td>0.378143</td>\n",
       "      <td>0.487196</td>\n",
       "    </tr>\n",
       "    <tr>\n",
       "      <th>2</th>\n",
       "      <td>1</td>\n",
       "      <td>100</td>\n",
       "      <td>0.376026</td>\n",
       "      <td>0.486376</td>\n",
       "    </tr>\n",
       "    <tr>\n",
       "      <th>3</th>\n",
       "      <td>3</td>\n",
       "      <td>5</td>\n",
       "      <td>0.344929</td>\n",
       "      <td>0.458274</td>\n",
       "    </tr>\n",
       "    <tr>\n",
       "      <th>4</th>\n",
       "      <td>3</td>\n",
       "      <td>25</td>\n",
       "      <td>0.343332</td>\n",
       "      <td>0.457727</td>\n",
       "    </tr>\n",
       "    <tr>\n",
       "      <th>5</th>\n",
       "      <td>3</td>\n",
       "      <td>100</td>\n",
       "      <td>0.341514</td>\n",
       "      <td>0.456631</td>\n",
       "    </tr>\n",
       "    <tr>\n",
       "      <th>6</th>\n",
       "      <td>10</td>\n",
       "      <td>5</td>\n",
       "      <td>0.341240</td>\n",
       "      <td>0.444434</td>\n",
       "    </tr>\n",
       "    <tr>\n",
       "      <th>7</th>\n",
       "      <td>10</td>\n",
       "      <td>25</td>\n",
       "      <td>0.323991</td>\n",
       "      <td>0.436510</td>\n",
       "    </tr>\n",
       "    <tr>\n",
       "      <th>8</th>\n",
       "      <td>10</td>\n",
       "      <td>100</td>\n",
       "      <td>0.318035</td>\n",
       "      <td>0.433125</td>\n",
       "    </tr>\n",
       "  </tbody>\n",
       "</table>\n",
       "</div>"
      ],
      "text/plain": [
       "  param_forest__max_depth param_forest__n_estimators  mean_test_mse  \\\n",
       "0                       1                          5       0.381780   \n",
       "1                       1                         25       0.378143   \n",
       "2                       1                        100       0.376026   \n",
       "3                       3                          5       0.344929   \n",
       "4                       3                         25       0.343332   \n",
       "5                       3                        100       0.341514   \n",
       "6                      10                          5       0.341240   \n",
       "7                      10                         25       0.323991   \n",
       "8                      10                        100       0.318035   \n",
       "\n",
       "   mean_test_mae  \n",
       "0       0.488786  \n",
       "1       0.487196  \n",
       "2       0.486376  \n",
       "3       0.458274  \n",
       "4       0.457727  \n",
       "5       0.456631  \n",
       "6       0.444434  \n",
       "7       0.436510  \n",
       "8       0.433125  "
      ]
     },
     "execution_count": 31,
     "metadata": {},
     "output_type": "execute_result"
    }
   ],
   "source": [
    "Xtrain, Xtest, Ytrain, Ytest, groups = pipeline.five_way_split(data,\n",
    "                                                       year=2018,\n",
    "                                                       features=features,\n",
    "                                                       target='CS_in_1_month',\n",
    "                                                       grouping='ADMIN1')\n",
    "\n",
    "forest2_grid_results = forest_grid_model.fit(Xtrain, Ytrain, groups=groups)\n",
    "\n",
    "pd.DataFrame(forest2_grid_results.cv_results_)[['param_forest__max_depth', \n",
    "                                               'param_forest__n_estimators',\n",
    "                                               'mean_test_mse', 'mean_test_mae']]"
   ]
  },
  {
   "cell_type": "code",
   "execution_count": 32,
   "metadata": {},
   "outputs": [
    {
     "name": "stdout",
     "output_type": "stream",
     "text": [
      "\n",
      "        MSE: 0.2834548987796996\n",
      "        MAE: 0.45057976925645293\n",
      "        For a target variable with Variance: 0.316082120194306\n",
      "        \n"
     ]
    }
   ],
   "source": [
    "best_forest2 = forest2_grid_results.best_estimator_\n",
    "pipeline.model_eval(best_forest2, Xtest, Ytest)"
   ]
  },
  {
   "cell_type": "code",
   "execution_count": 33,
   "metadata": {},
   "outputs": [
    {
     "data": {
      "image/png": "[encoded data removed]",
      "text/plain": [
       "<Figure size 720x432 with 1 Axes>"
      ]
     },
     "metadata": {
      "needs_background": "light"
     },
     "output_type": "display_data"
    }
   ],
   "source": [
    "pipeline.feature_importance(best_forest2['forest'],\n",
    "                            labels=Xtrain.columns.values,\n",
    "                            type='tree')"
   ]
  },
  {
   "cell_type": "markdown",
   "metadata": {},
   "source": [
    "## 4 Support Vector Regressor for 3-month Predictions"
   ]
  },
  {
   "cell_type": "code",
   "execution_count": 34,
   "metadata": {},
   "outputs": [],
   "source": [
    "from sklearn.svm import SVR"
   ]
  },
  {
   "cell_type": "code",
   "execution_count": 35,
   "metadata": {},
   "outputs": [
    {
     "name": "stderr",
     "output_type": "stream",
     "text": [
      "/Users/matthewmauer/anaconda3/envs/ml30254/lib/python3.8/site-packages/sklearn/model_selection/_search.py:821: FutureWarning: The parameter 'iid' is deprecated in 0.22 and will be removed in 0.24.\n",
      "  warnings.warn(\n"
     ]
    }
   ],
   "source": [
    "Xtrain, Xtest, Ytrain, Ytest, groups = pipeline.five_way_split(data,\n",
    "                                                       year=2018,\n",
    "                                                       features=features,\n",
    "                                                       target='CS_in_1_month',\n",
    "                                                       grouping='ADMIN1')\n",
    "\n",
    "svr_pipe = Pipeline([\n",
    "    ('impute', SimpleImputer(strategy='median')),\n",
    "    ('scale', StandardScaler()),\n",
    "    ('svr', SVR())\n",
    "])\n",
    "\n",
    "params = {\n",
    "    'svr__kernel': ('poly', 'rbf'),\n",
    "    'svr__C': (0.1, 1, 10),\n",
    "    'svr__degree': (2,)\n",
    "    \n",
    "} \n",
    "\n",
    "scores = {\n",
    "          'mse': make_scorer(mean_squared_error),\n",
    "          'mae': make_scorer(mean_absolute_error),\n",
    "         }\n",
    "\n",
    "svr_grid_model = GridSearchCV(estimator=svr_pipe, \n",
    "                          param_grid=params, \n",
    "                          cv=gcv,\n",
    "                          return_train_score=True,\n",
    "                          scoring=scores,\n",
    "                          refit='mse',\n",
    "                          iid=True)\n",
    "\n",
    "svr_grid_results = svr_grid_model.fit(Xtrain, Ytrain, groups=groups)"
   ]
  },
  {
   "cell_type": "code",
   "execution_count": 36,
   "metadata": {},
   "outputs": [
    {
     "data": {
      "text/html": [
       "<div>\n",
       "<style scoped>\n",
       "    .dataframe tbody tr th:only-of-type {\n",
       "        vertical-align: middle;\n",
       "    }\n",
       "\n",
       "    .dataframe tbody tr th {\n",
       "        vertical-align: top;\n",
       "    }\n",
       "\n",
       "    .dataframe thead th {\n",
       "        text-align: right;\n",
       "    }\n",
       "</style>\n",
       "<table border=\"1\" class=\"dataframe\">\n",
       "  <thead>\n",
       "    <tr style=\"text-align: right;\">\n",
       "      <th></th>\n",
       "      <th>param_svr__kernel</th>\n",
       "      <th>param_svr__C</th>\n",
       "      <th>mean_test_mse</th>\n",
       "      <th>mean_test_mae</th>\n",
       "    </tr>\n",
       "  </thead>\n",
       "  <tbody>\n",
       "    <tr>\n",
       "      <th>0</th>\n",
       "      <td>poly</td>\n",
       "      <td>0.1</td>\n",
       "      <td>0.360264</td>\n",
       "      <td>0.459378</td>\n",
       "    </tr>\n",
       "    <tr>\n",
       "      <th>1</th>\n",
       "      <td>rbf</td>\n",
       "      <td>0.1</td>\n",
       "      <td>0.324309</td>\n",
       "      <td>0.432413</td>\n",
       "    </tr>\n",
       "    <tr>\n",
       "      <th>2</th>\n",
       "      <td>poly</td>\n",
       "      <td>1</td>\n",
       "      <td>0.425730</td>\n",
       "      <td>0.480298</td>\n",
       "    </tr>\n",
       "    <tr>\n",
       "      <th>3</th>\n",
       "      <td>rbf</td>\n",
       "      <td>1</td>\n",
       "      <td>0.335879</td>\n",
       "      <td>0.443459</td>\n",
       "    </tr>\n",
       "    <tr>\n",
       "      <th>4</th>\n",
       "      <td>poly</td>\n",
       "      <td>10</td>\n",
       "      <td>0.929195</td>\n",
       "      <td>0.532469</td>\n",
       "    </tr>\n",
       "    <tr>\n",
       "      <th>5</th>\n",
       "      <td>rbf</td>\n",
       "      <td>10</td>\n",
       "      <td>0.388652</td>\n",
       "      <td>0.480374</td>\n",
       "    </tr>\n",
       "  </tbody>\n",
       "</table>\n",
       "</div>"
      ],
      "text/plain": [
       "  param_svr__kernel param_svr__C  mean_test_mse  mean_test_mae\n",
       "0              poly          0.1       0.360264       0.459378\n",
       "1               rbf          0.1       0.324309       0.432413\n",
       "2              poly            1       0.425730       0.480298\n",
       "3               rbf            1       0.335879       0.443459\n",
       "4              poly           10       0.929195       0.532469\n",
       "5               rbf           10       0.388652       0.480374"
      ]
     },
     "execution_count": 36,
     "metadata": {},
     "output_type": "execute_result"
    }
   ],
   "source": [
    "pd.DataFrame(svr_grid_results.cv_results_)[['param_svr__kernel', 'param_svr__C',\n",
    "                                               'mean_test_mse', 'mean_test_mae']]"
   ]
  },
  {
   "cell_type": "code",
   "execution_count": 37,
   "metadata": {},
   "outputs": [
    {
     "name": "stdout",
     "output_type": "stream",
     "text": [
      "\n",
      "        MSE: 0.3994730110675817\n",
      "        MAE: 0.48965041976927054\n",
      "        For a target variable with Variance: 0.316082120194306\n",
      "        \n"
     ]
    }
   ],
   "source": [
    "best_svr = svr_grid_results.best_estimator_\n",
    "pipeline.model_eval(best_svr, Xtest, Ytest)"
   ]
  }
 ],
 "metadata": {
  "kernelspec": {
   "display_name": "ml30254",
   "language": "python",
   "name": "ml30254"
  },
  "language_info": {
   "codemirror_mode": {
    "name": "ipython",
    "version": 3
   },
   "file_extension": ".py",
   "mimetype": "text/x-python",
   "name": "python",
   "nbconvert_exporter": "python",
   "pygments_lexer": "ipython3",
   "version": "3.8.3"
  }
 },
 "nbformat": 4,
 "nbformat_minor": 2
}
