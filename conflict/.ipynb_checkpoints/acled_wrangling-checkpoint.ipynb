{
 "cells": [
  {
   "cell_type": "markdown",
   "metadata": {},
   "source": [
    "# Conflict Data Wrangling"
   ]
  },
  {
   "cell_type": "markdown",
   "metadata": {},
   "source": [
    "Data are provided by the [Armed Conflict Location and Event Data](https://acleddata.com/#/dashboard). Data includes geolocated conflict events categorized as protests, riots, battles, violence against civilians, explosions, or strategic developments with details such as the number of total fatalities resulting from the event. We leverage this data to predict future food insecurity because open conflict interupts supply lines and the ability of regions to produce food and because protests and riots serve as a possible proxy for failures of governance or other discord that may inhibit the movement of food. Strategic development events are dropped from the analysis. Further information on the documentation of the data can be found [here](https://www.acleddata.com/wp-content/uploads/dlm_uploads/2017/10/API-User-Guide.pdf).\n",
    "\n",
    "Citation: Armed Conflict Location & Event Data Project (ACLED); acleddata.com"
   ]
  },
  {
   "cell_type": "markdown",
   "metadata": {},
   "source": [
    "## 1 Load the data into a GeoDataFrame"
   ]
  },
  {
   "cell_type": "code",
   "execution_count": 18,
   "metadata": {},
   "outputs": [],
   "source": [
    "import pandas as pd\n",
    "import numpy as np\n",
    "import geopandas as gpd\n",
    "import json\n",
    "import requests"
   ]
  },
  {
   "cell_type": "code",
   "execution_count": 19,
   "metadata": {},
   "outputs": [
    {
     "name": "stdout",
     "output_type": "stream",
     "text": [
      "(70572, 31)\n"
     ]
    },
    {
     "data": {
      "text/html": [
       "<div>\n",
       "<style scoped>\n",
       "    .dataframe tbody tr th:only-of-type {\n",
       "        vertical-align: middle;\n",
       "    }\n",
       "\n",
       "    .dataframe tbody tr th {\n",
       "        vertical-align: top;\n",
       "    }\n",
       "\n",
       "    .dataframe thead th {\n",
       "        text-align: right;\n",
       "    }\n",
       "</style>\n",
       "<table border=\"1\" class=\"dataframe\">\n",
       "  <thead>\n",
       "    <tr style=\"text-align: right;\">\n",
       "      <th></th>\n",
       "      <th>data_id</th>\n",
       "      <th>iso</th>\n",
       "      <th>event_id_cnty</th>\n",
       "      <th>event_id_no_cnty</th>\n",
       "      <th>event_date</th>\n",
       "      <th>year</th>\n",
       "      <th>time_precision</th>\n",
       "      <th>event_type</th>\n",
       "      <th>sub_event_type</th>\n",
       "      <th>actor1</th>\n",
       "      <th>...</th>\n",
       "      <th>location</th>\n",
       "      <th>latitude</th>\n",
       "      <th>longitude</th>\n",
       "      <th>geo_precision</th>\n",
       "      <th>source</th>\n",
       "      <th>source_scale</th>\n",
       "      <th>notes</th>\n",
       "      <th>fatalities</th>\n",
       "      <th>timestamp</th>\n",
       "      <th>iso3</th>\n",
       "    </tr>\n",
       "  </thead>\n",
       "  <tbody>\n",
       "    <tr>\n",
       "      <th>0</th>\n",
       "      <td>7107396</td>\n",
       "      <td>404</td>\n",
       "      <td>KEN7378</td>\n",
       "      <td>7378</td>\n",
       "      <td>2020-05-30</td>\n",
       "      <td>2020</td>\n",
       "      <td>1</td>\n",
       "      <td>Battles</td>\n",
       "      <td>Armed clash</td>\n",
       "      <td>Al Shabaab</td>\n",
       "      <td>...</td>\n",
       "      <td>Diani</td>\n",
       "      <td>-4.2790</td>\n",
       "      <td>39.5940</td>\n",
       "      <td>1</td>\n",
       "      <td>Kenya Standard; AP; Citizen (Kenya); Daily Nat...</td>\n",
       "      <td>National-International</td>\n",
       "      <td>On 30 May 2020, police officers shot and kille...</td>\n",
       "      <td>3</td>\n",
       "      <td>1591052475</td>\n",
       "      <td>KEN</td>\n",
       "    </tr>\n",
       "    <tr>\n",
       "      <th>1</th>\n",
       "      <td>7107677</td>\n",
       "      <td>729</td>\n",
       "      <td>SUD13942</td>\n",
       "      <td>13942</td>\n",
       "      <td>2020-05-30</td>\n",
       "      <td>2020</td>\n",
       "      <td>2</td>\n",
       "      <td>Battles</td>\n",
       "      <td>Armed clash</td>\n",
       "      <td>Ja'alin Ethnic Militia (Sudan)</td>\n",
       "      <td>...</td>\n",
       "      <td>Abu Hujar</td>\n",
       "      <td>12.8542</td>\n",
       "      <td>33.9885</td>\n",
       "      <td>2</td>\n",
       "      <td>Al Rakoba</td>\n",
       "      <td>National</td>\n",
       "      <td>Around 30 May 2020 (as reported), members of t...</td>\n",
       "      <td>2</td>\n",
       "      <td>1591052477</td>\n",
       "      <td>SDN</td>\n",
       "    </tr>\n",
       "    <tr>\n",
       "      <th>2</th>\n",
       "      <td>7108242</td>\n",
       "      <td>706</td>\n",
       "      <td>SOM31265</td>\n",
       "      <td>31265</td>\n",
       "      <td>2020-05-30</td>\n",
       "      <td>2020</td>\n",
       "      <td>1</td>\n",
       "      <td>Protests</td>\n",
       "      <td>Peaceful protest</td>\n",
       "      <td>Protesters (Somalia)</td>\n",
       "      <td>...</td>\n",
       "      <td>Balanbale</td>\n",
       "      <td>5.6890</td>\n",
       "      <td>45.9693</td>\n",
       "      <td>1</td>\n",
       "      <td>Shabelle Media Network</td>\n",
       "      <td>National</td>\n",
       "      <td>On 30 May 2020, over a hundred residents stage...</td>\n",
       "      <td>0</td>\n",
       "      <td>1591052480</td>\n",
       "      <td>SOM</td>\n",
       "    </tr>\n",
       "    <tr>\n",
       "      <th>3</th>\n",
       "      <td>7108160</td>\n",
       "      <td>729</td>\n",
       "      <td>SUD13940</td>\n",
       "      <td>13940</td>\n",
       "      <td>2020-05-29</td>\n",
       "      <td>2020</td>\n",
       "      <td>2</td>\n",
       "      <td>Riots</td>\n",
       "      <td>Violent demonstration</td>\n",
       "      <td>Rioters (Sudan)</td>\n",
       "      <td>...</td>\n",
       "      <td>Babanussa</td>\n",
       "      <td>11.3206</td>\n",
       "      <td>27.7967</td>\n",
       "      <td>1</td>\n",
       "      <td>Radio Dabanga</td>\n",
       "      <td>National</td>\n",
       "      <td>Around 29 May 2020 (as reported), demonstrator...</td>\n",
       "      <td>0</td>\n",
       "      <td>1591052479</td>\n",
       "      <td>SDN</td>\n",
       "    </tr>\n",
       "    <tr>\n",
       "      <th>4</th>\n",
       "      <td>7108161</td>\n",
       "      <td>729</td>\n",
       "      <td>SUD13941</td>\n",
       "      <td>13941</td>\n",
       "      <td>2020-05-29</td>\n",
       "      <td>2020</td>\n",
       "      <td>2</td>\n",
       "      <td>Violence against civilians</td>\n",
       "      <td>Attack</td>\n",
       "      <td>Military Forces of Sudan (2019-)</td>\n",
       "      <td>...</td>\n",
       "      <td>Babanussa</td>\n",
       "      <td>11.3206</td>\n",
       "      <td>27.7967</td>\n",
       "      <td>1</td>\n",
       "      <td>Radio Dabanga</td>\n",
       "      <td>National</td>\n",
       "      <td>Around 29 May 2020 (as reported), SAF arrested...</td>\n",
       "      <td>0</td>\n",
       "      <td>1591052479</td>\n",
       "      <td>SDN</td>\n",
       "    </tr>\n",
       "  </tbody>\n",
       "</table>\n",
       "<p>5 rows × 31 columns</p>\n",
       "</div>"
      ],
      "text/plain": [
       "   data_id  iso event_id_cnty event_id_no_cnty  event_date  year  \\\n",
       "0  7107396  404       KEN7378             7378  2020-05-30  2020   \n",
       "1  7107677  729      SUD13942            13942  2020-05-30  2020   \n",
       "2  7108242  706      SOM31265            31265  2020-05-30  2020   \n",
       "3  7108160  729      SUD13940            13940  2020-05-29  2020   \n",
       "4  7108161  729      SUD13941            13941  2020-05-29  2020   \n",
       "\n",
       "  time_precision                  event_type         sub_event_type  \\\n",
       "0              1                     Battles            Armed clash   \n",
       "1              2                     Battles            Armed clash   \n",
       "2              1                    Protests       Peaceful protest   \n",
       "3              2                       Riots  Violent demonstration   \n",
       "4              2  Violence against civilians                 Attack   \n",
       "\n",
       "                             actor1  ...   location latitude longitude  \\\n",
       "0                        Al Shabaab  ...      Diani  -4.2790   39.5940   \n",
       "1    Ja'alin Ethnic Militia (Sudan)  ...  Abu Hujar  12.8542   33.9885   \n",
       "2              Protesters (Somalia)  ...  Balanbale   5.6890   45.9693   \n",
       "3                   Rioters (Sudan)  ...  Babanussa  11.3206   27.7967   \n",
       "4  Military Forces of Sudan (2019-)  ...  Babanussa  11.3206   27.7967   \n",
       "\n",
       "  geo_precision                                             source  \\\n",
       "0             1  Kenya Standard; AP; Citizen (Kenya); Daily Nat...   \n",
       "1             2                                          Al Rakoba   \n",
       "2             1                             Shabelle Media Network   \n",
       "3             1                                      Radio Dabanga   \n",
       "4             1                                      Radio Dabanga   \n",
       "\n",
       "             source_scale                                              notes  \\\n",
       "0  National-International  On 30 May 2020, police officers shot and kille...   \n",
       "1                National  Around 30 May 2020 (as reported), members of t...   \n",
       "2                National  On 30 May 2020, over a hundred residents stage...   \n",
       "3                National  Around 29 May 2020 (as reported), demonstrator...   \n",
       "4                National  Around 29 May 2020 (as reported), SAF arrested...   \n",
       "\n",
       "  fatalities   timestamp iso3  \n",
       "0          3  1591052475  KEN  \n",
       "1          2  1591052477  SDN  \n",
       "2          0  1591052480  SOM  \n",
       "3          0  1591052479  SDN  \n",
       "4          0  1591052479  SDN  \n",
       "\n",
       "[5 rows x 31 columns]"
      ]
     },
     "execution_count": 19,
     "metadata": {},
     "output_type": "execute_result"
    }
   ],
   "source": [
    "# request json and ignore metadata when reading into DataFrame\n",
    "\n",
    "# must accept T&C\n",
    "# limit default = 500\n",
    "command = 'country=sudan:OR:country=kenya:OR:country=uganda:OR:country=tanzania\\\n",
    ":OR:country=ethiopia:OR:country=somalia&limit=100000'\n",
    "r = requests.get(f\"https://api.acleddata.com/acled/read?terms=accept&{command}\")\n",
    "acled = pd.DataFrame(r.json()['data'])\n",
    "\n",
    "print(acled.shape)\n",
    "acled.head()"
   ]
  },
  {
   "cell_type": "code",
   "execution_count": 20,
   "metadata": {},
   "outputs": [
    {
     "data": {
      "text/plain": [
       "Index(['data_id', 'iso', 'event_id_cnty', 'event_id_no_cnty', 'event_date',\n",
       "       'year', 'time_precision', 'event_type', 'sub_event_type', 'actor1',\n",
       "       'assoc_actor_1', 'inter1', 'actor2', 'assoc_actor_2', 'inter2',\n",
       "       'interaction', 'region', 'country', 'admin1', 'admin2', 'admin3',\n",
       "       'location', 'latitude', 'longitude', 'geo_precision', 'source',\n",
       "       'source_scale', 'notes', 'fatalities', 'timestamp', 'iso3'],\n",
       "      dtype='object')"
      ]
     },
     "execution_count": 20,
     "metadata": {},
     "output_type": "execute_result"
    }
   ],
   "source": [
    "acled.columns"
   ]
  },
  {
   "cell_type": "code",
   "execution_count": 21,
   "metadata": {},
   "outputs": [
    {
     "data": {
      "text/html": [
       "<div>\n",
       "<style scoped>\n",
       "    .dataframe tbody tr th:only-of-type {\n",
       "        vertical-align: middle;\n",
       "    }\n",
       "\n",
       "    .dataframe tbody tr th {\n",
       "        vertical-align: top;\n",
       "    }\n",
       "\n",
       "    .dataframe thead th {\n",
       "        text-align: right;\n",
       "    }\n",
       "</style>\n",
       "<table border=\"1\" class=\"dataframe\">\n",
       "  <thead>\n",
       "    <tr style=\"text-align: right;\">\n",
       "      <th></th>\n",
       "      <th>country</th>\n",
       "      <th>admin1</th>\n",
       "    </tr>\n",
       "  </thead>\n",
       "  <tbody>\n",
       "    <tr>\n",
       "      <th>45648</th>\n",
       "      <td>Sudan</td>\n",
       "      <td>Khartoum</td>\n",
       "    </tr>\n",
       "    <tr>\n",
       "      <th>31989</th>\n",
       "      <td>Somalia</td>\n",
       "      <td>Banadir</td>\n",
       "    </tr>\n",
       "    <tr>\n",
       "      <th>55964</th>\n",
       "      <td>Somalia</td>\n",
       "      <td>Bay</td>\n",
       "    </tr>\n",
       "    <tr>\n",
       "      <th>44025</th>\n",
       "      <td>South Sudan</td>\n",
       "      <td>Eastern Equatoria</td>\n",
       "    </tr>\n",
       "    <tr>\n",
       "      <th>4071</th>\n",
       "      <td>Somalia</td>\n",
       "      <td>Middle Shabelle</td>\n",
       "    </tr>\n",
       "  </tbody>\n",
       "</table>\n",
       "</div>"
      ],
      "text/plain": [
       "           country             admin1\n",
       "45648        Sudan           Khartoum\n",
       "31989      Somalia            Banadir\n",
       "55964      Somalia                Bay\n",
       "44025  South Sudan  Eastern Equatoria\n",
       "4071       Somalia    Middle Shabelle"
      ]
     },
     "execution_count": 21,
     "metadata": {},
     "output_type": "execute_result"
    }
   ],
   "source": [
    "acled[['country', 'admin1']].sample(5)"
   ]
  },
  {
   "cell_type": "code",
   "execution_count": 22,
   "metadata": {},
   "outputs": [
    {
     "data": {
      "text/html": [
       "<div>\n",
       "<style scoped>\n",
       "    .dataframe tbody tr th:only-of-type {\n",
       "        vertical-align: middle;\n",
       "    }\n",
       "\n",
       "    .dataframe tbody tr th {\n",
       "        vertical-align: top;\n",
       "    }\n",
       "\n",
       "    .dataframe thead th {\n",
       "        text-align: right;\n",
       "    }\n",
       "</style>\n",
       "<table border=\"1\" class=\"dataframe\">\n",
       "  <thead>\n",
       "    <tr style=\"text-align: right;\">\n",
       "      <th></th>\n",
       "      <th>country</th>\n",
       "      <th>admin1</th>\n",
       "      <th>latitude</th>\n",
       "      <th>longitude</th>\n",
       "      <th>event_type</th>\n",
       "      <th>fatalities</th>\n",
       "      <th>event_date</th>\n",
       "      <th>geometry</th>\n",
       "    </tr>\n",
       "  </thead>\n",
       "  <tbody>\n",
       "    <tr>\n",
       "      <th>0</th>\n",
       "      <td>Kenya</td>\n",
       "      <td>Kwale</td>\n",
       "      <td>-4.2790</td>\n",
       "      <td>39.5940</td>\n",
       "      <td>Battles</td>\n",
       "      <td>3</td>\n",
       "      <td>2020-05-30</td>\n",
       "      <td>POINT (39.59400 -4.27900)</td>\n",
       "    </tr>\n",
       "    <tr>\n",
       "      <th>1</th>\n",
       "      <td>Sudan</td>\n",
       "      <td>Sennar</td>\n",
       "      <td>12.8542</td>\n",
       "      <td>33.9885</td>\n",
       "      <td>Battles</td>\n",
       "      <td>2</td>\n",
       "      <td>2020-05-30</td>\n",
       "      <td>POINT (33.98850 12.85420)</td>\n",
       "    </tr>\n",
       "    <tr>\n",
       "      <th>2</th>\n",
       "      <td>Somalia</td>\n",
       "      <td>Galgaduud</td>\n",
       "      <td>5.6890</td>\n",
       "      <td>45.9693</td>\n",
       "      <td>Protests</td>\n",
       "      <td>0</td>\n",
       "      <td>2020-05-30</td>\n",
       "      <td>POINT (45.96930 5.68900)</td>\n",
       "    </tr>\n",
       "    <tr>\n",
       "      <th>3</th>\n",
       "      <td>Sudan</td>\n",
       "      <td>West Kordofan</td>\n",
       "      <td>11.3206</td>\n",
       "      <td>27.7967</td>\n",
       "      <td>Riots</td>\n",
       "      <td>0</td>\n",
       "      <td>2020-05-29</td>\n",
       "      <td>POINT (27.79670 11.32060)</td>\n",
       "    </tr>\n",
       "    <tr>\n",
       "      <th>4</th>\n",
       "      <td>Sudan</td>\n",
       "      <td>West Kordofan</td>\n",
       "      <td>11.3206</td>\n",
       "      <td>27.7967</td>\n",
       "      <td>Violence against civilians</td>\n",
       "      <td>0</td>\n",
       "      <td>2020-05-29</td>\n",
       "      <td>POINT (27.79670 11.32060)</td>\n",
       "    </tr>\n",
       "  </tbody>\n",
       "</table>\n",
       "</div>"
      ],
      "text/plain": [
       "   country         admin1 latitude longitude                  event_type  \\\n",
       "0    Kenya          Kwale  -4.2790   39.5940                     Battles   \n",
       "1    Sudan         Sennar  12.8542   33.9885                     Battles   \n",
       "2  Somalia      Galgaduud   5.6890   45.9693                    Protests   \n",
       "3    Sudan  West Kordofan  11.3206   27.7967                       Riots   \n",
       "4    Sudan  West Kordofan  11.3206   27.7967  Violence against civilians   \n",
       "\n",
       "  fatalities  event_date                   geometry  \n",
       "0          3  2020-05-30  POINT (39.59400 -4.27900)  \n",
       "1          2  2020-05-30  POINT (33.98850 12.85420)  \n",
       "2          0  2020-05-30   POINT (45.96930 5.68900)  \n",
       "3          0  2020-05-29  POINT (27.79670 11.32060)  \n",
       "4          0  2020-05-29  POINT (27.79670 11.32060)  "
      ]
     },
     "execution_count": 22,
     "metadata": {},
     "output_type": "execute_result"
    }
   ],
   "source": [
    "acled = acled[['country', 'admin1', 'latitude', 'longitude', 'event_type', \\\n",
    "               'fatalities', 'event_date']]\n",
    "acled = gpd.GeoDataFrame(acled, \\\n",
    "                         geometry = gpd.points_from_xy(acled.longitude.astype('float64'), \\\n",
    "                                                       acled.latitude.astype('float64')))\n",
    "acled.head()"
   ]
  },
  {
   "cell_type": "markdown",
   "metadata": {},
   "source": [
    "## 2 Merging to target data set\n",
    "* Load the regions data.\n",
    "* Drop unnecessary data from the acled dataset before merging\n",
    "* Match event by geolocation to the regions from our target variable set"
   ]
  },
  {
   "cell_type": "code",
   "execution_count": 23,
   "metadata": {},
   "outputs": [
    {
     "name": "stdout",
     "output_type": "stream",
     "text": [
      "(138, 3)\n"
     ]
    },
    {
     "data": {
      "text/html": [
       "<div>\n",
       "<style scoped>\n",
       "    .dataframe tbody tr th:only-of-type {\n",
       "        vertical-align: middle;\n",
       "    }\n",
       "\n",
       "    .dataframe tbody tr th {\n",
       "        vertical-align: top;\n",
       "    }\n",
       "\n",
       "    .dataframe thead th {\n",
       "        text-align: right;\n",
       "    }\n",
       "</style>\n",
       "<table border=\"1\" class=\"dataframe\">\n",
       "  <thead>\n",
       "    <tr style=\"text-align: right;\">\n",
       "      <th></th>\n",
       "      <th>ADMIN0</th>\n",
       "      <th>ADMIN1</th>\n",
       "      <th>geometry</th>\n",
       "    </tr>\n",
       "  </thead>\n",
       "  <tbody>\n",
       "    <tr>\n",
       "      <th>101</th>\n",
       "      <td>Somalia</td>\n",
       "      <td>Middle Shabelle</td>\n",
       "      <td>POLYGON ((46.39000 3.89000, 47.03662 3.47106, ...</td>\n",
       "    </tr>\n",
       "    <tr>\n",
       "      <th>45</th>\n",
       "      <td>Kenya</td>\n",
       "      <td>Bungoma</td>\n",
       "      <td>POLYGON ((34.61809 1.10215, 34.62033 1.10018, ...</td>\n",
       "    </tr>\n",
       "    <tr>\n",
       "      <th>31</th>\n",
       "      <td>South Sudan</td>\n",
       "      <td>Jonglei</td>\n",
       "      <td>POLYGON ((30.50584 9.51738, 30.75601 9.49297, ...</td>\n",
       "    </tr>\n",
       "  </tbody>\n",
       "</table>\n",
       "</div>"
      ],
      "text/plain": [
       "          ADMIN0           ADMIN1  \\\n",
       "101      Somalia  Middle Shabelle   \n",
       "45         Kenya          Bungoma   \n",
       "31   South Sudan          Jonglei   \n",
       "\n",
       "                                              geometry  \n",
       "101  POLYGON ((46.39000 3.89000, 47.03662 3.47106, ...  \n",
       "45   POLYGON ((34.61809 1.10215, 34.62033 1.10018, ...  \n",
       "31   POLYGON ((30.50584 9.51738, 30.75601 9.49297, ...  "
      ]
     },
     "execution_count": 23,
     "metadata": {},
     "output_type": "execute_result"
    }
   ],
   "source": [
    "regions = gpd.read_file('../regions.geojson')\n",
    "\n",
    "print(regions.shape)\n",
    "regions.sample(3)"
   ]
  },
  {
   "cell_type": "code",
   "execution_count": 24,
   "metadata": {},
   "outputs": [
    {
     "data": {
      "text/html": [
       "<div>\n",
       "<style scoped>\n",
       "    .dataframe tbody tr th:only-of-type {\n",
       "        vertical-align: middle;\n",
       "    }\n",
       "\n",
       "    .dataframe tbody tr th {\n",
       "        vertical-align: top;\n",
       "    }\n",
       "\n",
       "    .dataframe thead th {\n",
       "        text-align: right;\n",
       "    }\n",
       "</style>\n",
       "<table border=\"1\" class=\"dataframe\">\n",
       "  <thead>\n",
       "    <tr style=\"text-align: right;\">\n",
       "      <th></th>\n",
       "      <th>event_type</th>\n",
       "      <th>fatalities</th>\n",
       "      <th>event_date</th>\n",
       "      <th>geometry</th>\n",
       "    </tr>\n",
       "  </thead>\n",
       "  <tbody>\n",
       "    <tr>\n",
       "      <th>0</th>\n",
       "      <td>Battles</td>\n",
       "      <td>3</td>\n",
       "      <td>2020-05-30</td>\n",
       "      <td>POINT (39.59400 -4.27900)</td>\n",
       "    </tr>\n",
       "  </tbody>\n",
       "</table>\n",
       "</div>"
      ],
      "text/plain": [
       "  event_type fatalities  event_date                   geometry\n",
       "0    Battles          3  2020-05-30  POINT (39.59400 -4.27900)"
      ]
     },
     "execution_count": 24,
     "metadata": {},
     "output_type": "execute_result"
    }
   ],
   "source": [
    "acled.drop(columns=['country', 'admin1', 'latitude', 'longitude'], inplace=True)\n",
    "acled.head(1)"
   ]
  },
  {
   "cell_type": "code",
   "execution_count": 25,
   "metadata": {},
   "outputs": [
    {
     "name": "stderr",
     "output_type": "stream",
     "text": [
      "/Users/matthewmauer/anaconda3/envs/ml30254/lib/python3.8/site-packages/geopandas/tools/sjoin.py:58: UserWarning: CRS of frames being joined does not match!(None != epsg:4326)\n",
      "  warn(\n"
     ]
    },
    {
     "name": "stdout",
     "output_type": "stream",
     "text": [
      "(70676, 7)\n"
     ]
    },
    {
     "data": {
      "text/html": [
       "<div>\n",
       "<style scoped>\n",
       "    .dataframe tbody tr th:only-of-type {\n",
       "        vertical-align: middle;\n",
       "    }\n",
       "\n",
       "    .dataframe tbody tr th {\n",
       "        vertical-align: top;\n",
       "    }\n",
       "\n",
       "    .dataframe thead th {\n",
       "        text-align: right;\n",
       "    }\n",
       "</style>\n",
       "<table border=\"1\" class=\"dataframe\">\n",
       "  <thead>\n",
       "    <tr style=\"text-align: right;\">\n",
       "      <th></th>\n",
       "      <th>event_type</th>\n",
       "      <th>fatalities</th>\n",
       "      <th>event_date</th>\n",
       "      <th>geometry</th>\n",
       "      <th>index_right</th>\n",
       "      <th>ADMIN0</th>\n",
       "      <th>ADMIN1</th>\n",
       "    </tr>\n",
       "  </thead>\n",
       "  <tbody>\n",
       "    <tr>\n",
       "      <th>8880</th>\n",
       "      <td>Battles</td>\n",
       "      <td>0</td>\n",
       "      <td>2018-11-16</td>\n",
       "      <td>POINT (45.39000 2.08440)</td>\n",
       "      <td>92</td>\n",
       "      <td>Somalia</td>\n",
       "      <td>Banaadir</td>\n",
       "    </tr>\n",
       "    <tr>\n",
       "      <th>53236</th>\n",
       "      <td>Violence against civilians</td>\n",
       "      <td>0</td>\n",
       "      <td>2010-02-02</td>\n",
       "      <td>POINT (42.80000 9.35000)</td>\n",
       "      <td>7</td>\n",
       "      <td>Ethiopia</td>\n",
       "      <td>Somali</td>\n",
       "    </tr>\n",
       "    <tr>\n",
       "      <th>35046</th>\n",
       "      <td>Battles</td>\n",
       "      <td>0</td>\n",
       "      <td>2014-09-23</td>\n",
       "      <td>POINT (47.35970 8.47740)</td>\n",
       "      <td>105</td>\n",
       "      <td>Somalia</td>\n",
       "      <td>Sool</td>\n",
       "    </tr>\n",
       "    <tr>\n",
       "      <th>44168</th>\n",
       "      <td>Violence against civilians</td>\n",
       "      <td>4</td>\n",
       "      <td>2013-03-17</td>\n",
       "      <td>POINT (33.12970 6.79430)</td>\n",
       "      <td>31</td>\n",
       "      <td>South Sudan</td>\n",
       "      <td>Jonglei</td>\n",
       "    </tr>\n",
       "    <tr>\n",
       "      <th>42117</th>\n",
       "      <td>Battles</td>\n",
       "      <td>0</td>\n",
       "      <td>2013-07-30</td>\n",
       "      <td>POINT (45.49680 2.78090)</td>\n",
       "      <td>101</td>\n",
       "      <td>Somalia</td>\n",
       "      <td>Middle Shabelle</td>\n",
       "    </tr>\n",
       "  </tbody>\n",
       "</table>\n",
       "</div>"
      ],
      "text/plain": [
       "                       event_type fatalities  event_date  \\\n",
       "8880                      Battles          0  2018-11-16   \n",
       "53236  Violence against civilians          0  2010-02-02   \n",
       "35046                     Battles          0  2014-09-23   \n",
       "44168  Violence against civilians          4  2013-03-17   \n",
       "42117                     Battles          0  2013-07-30   \n",
       "\n",
       "                       geometry  index_right       ADMIN0           ADMIN1  \n",
       "8880   POINT (45.39000 2.08440)           92      Somalia         Banaadir  \n",
       "53236  POINT (42.80000 9.35000)            7     Ethiopia           Somali  \n",
       "35046  POINT (47.35970 8.47740)          105      Somalia             Sool  \n",
       "44168  POINT (33.12970 6.79430)           31  South Sudan          Jonglei  \n",
       "42117  POINT (45.49680 2.78090)          101      Somalia  Middle Shabelle  "
      ]
     },
     "execution_count": 25,
     "metadata": {},
     "output_type": "execute_result"
    }
   ],
   "source": [
    "acled = gpd.sjoin(acled, regions, how='inner', op='within')\n",
    "print(acled.shape)\n",
    "acled.sample(5)"
   ]
  },
  {
   "cell_type": "code",
   "execution_count": 26,
   "metadata": {},
   "outputs": [
    {
     "data": {
      "text/html": [
       "<div>\n",
       "<style scoped>\n",
       "    .dataframe tbody tr th:only-of-type {\n",
       "        vertical-align: middle;\n",
       "    }\n",
       "\n",
       "    .dataframe tbody tr th {\n",
       "        vertical-align: top;\n",
       "    }\n",
       "\n",
       "    .dataframe thead th {\n",
       "        text-align: right;\n",
       "    }\n",
       "</style>\n",
       "<table border=\"1\" class=\"dataframe\">\n",
       "  <thead>\n",
       "    <tr style=\"text-align: right;\">\n",
       "      <th></th>\n",
       "      <th>index</th>\n",
       "      <th>event_type</th>\n",
       "      <th>fatalities</th>\n",
       "      <th>event_date</th>\n",
       "      <th>geometry</th>\n",
       "      <th>index_right</th>\n",
       "      <th>ADMIN0</th>\n",
       "      <th>ADMIN1</th>\n",
       "    </tr>\n",
       "  </thead>\n",
       "  <tbody>\n",
       "    <tr>\n",
       "      <th>0</th>\n",
       "      <td>0</td>\n",
       "      <td>Battles</td>\n",
       "      <td>3</td>\n",
       "      <td>2020-05-30</td>\n",
       "      <td>POINT (39.59400 -4.27900)</td>\n",
       "      <td>60</td>\n",
       "      <td>Kenya</td>\n",
       "      <td>Kwale</td>\n",
       "    </tr>\n",
       "    <tr>\n",
       "      <th>1</th>\n",
       "      <td>928</td>\n",
       "      <td>Violence against civilians</td>\n",
       "      <td>1</td>\n",
       "      <td>2020-04-01</td>\n",
       "      <td>POINT (39.56610 -4.28750)</td>\n",
       "      <td>60</td>\n",
       "      <td>Kenya</td>\n",
       "      <td>Kwale</td>\n",
       "    </tr>\n",
       "  </tbody>\n",
       "</table>\n",
       "</div>"
      ],
      "text/plain": [
       "   index                  event_type fatalities  event_date  \\\n",
       "0      0                     Battles          3  2020-05-30   \n",
       "1    928  Violence against civilians          1  2020-04-01   \n",
       "\n",
       "                    geometry  index_right ADMIN0 ADMIN1  \n",
       "0  POINT (39.59400 -4.27900)           60  Kenya  Kwale  \n",
       "1  POINT (39.56610 -4.28750)           60  Kenya  Kwale  "
      ]
     },
     "execution_count": 26,
     "metadata": {},
     "output_type": "execute_result"
    }
   ],
   "source": [
    "acled.reset_index(inplace=True)\n",
    "acled_temp.head(2)"
   ]
  },
  {
   "cell_type": "code",
   "execution_count": 27,
   "metadata": {},
   "outputs": [
    {
     "data": {
      "text/html": [
       "<div>\n",
       "<style scoped>\n",
       "    .dataframe tbody tr th:only-of-type {\n",
       "        vertical-align: middle;\n",
       "    }\n",
       "\n",
       "    .dataframe tbody tr th {\n",
       "        vertical-align: top;\n",
       "    }\n",
       "\n",
       "    .dataframe thead th {\n",
       "        text-align: right;\n",
       "    }\n",
       "</style>\n",
       "<table border=\"1\" class=\"dataframe\">\n",
       "  <thead>\n",
       "    <tr style=\"text-align: right;\">\n",
       "      <th></th>\n",
       "      <th>event_type</th>\n",
       "      <th>fatalities</th>\n",
       "      <th>event_date</th>\n",
       "      <th>geometry</th>\n",
       "      <th>country</th>\n",
       "      <th>admin1</th>\n",
       "    </tr>\n",
       "  </thead>\n",
       "  <tbody>\n",
       "    <tr>\n",
       "      <th>0</th>\n",
       "      <td>Battles</td>\n",
       "      <td>3</td>\n",
       "      <td>2020-05-30</td>\n",
       "      <td>POINT (39.59400 -4.27900)</td>\n",
       "      <td>Kenya</td>\n",
       "      <td>Kwale</td>\n",
       "    </tr>\n",
       "  </tbody>\n",
       "</table>\n",
       "</div>"
      ],
      "text/plain": [
       "  event_type fatalities  event_date                   geometry country admin1\n",
       "0    Battles          3  2020-05-30  POINT (39.59400 -4.27900)   Kenya  Kwale"
      ]
     },
     "execution_count": 27,
     "metadata": {},
     "output_type": "execute_result"
    }
   ],
   "source": [
    "acled.drop(columns=['index_right', 'index'], inplace=True)\n",
    "\n",
    "naming = {\n",
    "    'ADMIN0': 'country',\n",
    "    'ADMIN1': 'admin1'\n",
    "}\n",
    "\n",
    "acled.rename(columns=naming, inplace=True)\n",
    "acled.head(1)"
   ]
  },
  {
   "cell_type": "markdown",
   "metadata": {},
   "source": [
    "## 3 Clean and shape the data\n",
    "* Extract year and month data to match the format of our target variable dataset.\n",
    "* Pivot the data to capture all event types for each event.\n",
    "* Group the data by region and month and count the number of each event type as well as the number of fatalities for each event type."
   ]
  },
  {
   "cell_type": "code",
   "execution_count": 28,
   "metadata": {},
   "outputs": [],
   "source": [
    "acled['year'] = acled.event_date.map(lambda x: int(x.split('-')[0]))\n",
    "acled['month'] = acled.event_date.map(lambda x: int(x.split('-')[1]))"
   ]
  },
  {
   "cell_type": "code",
   "execution_count": 29,
   "metadata": {},
   "outputs": [
    {
     "data": {
      "text/plain": [
       "(70676, 6)"
      ]
     },
     "execution_count": 29,
     "metadata": {},
     "output_type": "execute_result"
    }
   ],
   "source": [
    "acled_wide = acled.pivot(columns='event_type', values='fatalities')\n",
    "acled_wide.shape"
   ]
  },
  {
   "cell_type": "code",
   "execution_count": 30,
   "metadata": {},
   "outputs": [
    {
     "data": {
      "text/html": [
       "<div>\n",
       "<style scoped>\n",
       "    .dataframe tbody tr th:only-of-type {\n",
       "        vertical-align: middle;\n",
       "    }\n",
       "\n",
       "    .dataframe tbody tr th {\n",
       "        vertical-align: top;\n",
       "    }\n",
       "\n",
       "    .dataframe thead th {\n",
       "        text-align: right;\n",
       "    }\n",
       "</style>\n",
       "<table border=\"1\" class=\"dataframe\">\n",
       "  <thead>\n",
       "    <tr style=\"text-align: right;\">\n",
       "      <th></th>\n",
       "      <th>event_type</th>\n",
       "      <th>fatalities</th>\n",
       "      <th>event_date</th>\n",
       "      <th>geometry</th>\n",
       "      <th>country</th>\n",
       "      <th>admin1</th>\n",
       "      <th>year</th>\n",
       "      <th>month</th>\n",
       "      <th>Battles</th>\n",
       "      <th>Explosions/Remote violence</th>\n",
       "      <th>Protests</th>\n",
       "      <th>Riots</th>\n",
       "      <th>Strategic developments</th>\n",
       "      <th>Violence against civilians</th>\n",
       "    </tr>\n",
       "  </thead>\n",
       "  <tbody>\n",
       "    <tr>\n",
       "      <th>0</th>\n",
       "      <td>Battles</td>\n",
       "      <td>3</td>\n",
       "      <td>2020-05-30</td>\n",
       "      <td>POINT (39.59400 -4.27900)</td>\n",
       "      <td>Kenya</td>\n",
       "      <td>Kwale</td>\n",
       "      <td>2020</td>\n",
       "      <td>5</td>\n",
       "      <td>3</td>\n",
       "      <td>NaN</td>\n",
       "      <td>NaN</td>\n",
       "      <td>NaN</td>\n",
       "      <td>NaN</td>\n",
       "      <td>NaN</td>\n",
       "    </tr>\n",
       "    <tr>\n",
       "      <th>1</th>\n",
       "      <td>Violence against civilians</td>\n",
       "      <td>1</td>\n",
       "      <td>2020-04-01</td>\n",
       "      <td>POINT (39.56610 -4.28750)</td>\n",
       "      <td>Kenya</td>\n",
       "      <td>Kwale</td>\n",
       "      <td>2020</td>\n",
       "      <td>4</td>\n",
       "      <td>NaN</td>\n",
       "      <td>NaN</td>\n",
       "      <td>NaN</td>\n",
       "      <td>NaN</td>\n",
       "      <td>NaN</td>\n",
       "      <td>1</td>\n",
       "    </tr>\n",
       "    <tr>\n",
       "      <th>2</th>\n",
       "      <td>Riots</td>\n",
       "      <td>1</td>\n",
       "      <td>2020-03-17</td>\n",
       "      <td>POINT (39.56610 -4.28750)</td>\n",
       "      <td>Kenya</td>\n",
       "      <td>Kwale</td>\n",
       "      <td>2020</td>\n",
       "      <td>3</td>\n",
       "      <td>NaN</td>\n",
       "      <td>NaN</td>\n",
       "      <td>NaN</td>\n",
       "      <td>1</td>\n",
       "      <td>NaN</td>\n",
       "      <td>NaN</td>\n",
       "    </tr>\n",
       "    <tr>\n",
       "      <th>3</th>\n",
       "      <td>Protests</td>\n",
       "      <td>0</td>\n",
       "      <td>2020-03-02</td>\n",
       "      <td>POINT (39.59400 -4.27900)</td>\n",
       "      <td>Kenya</td>\n",
       "      <td>Kwale</td>\n",
       "      <td>2020</td>\n",
       "      <td>3</td>\n",
       "      <td>NaN</td>\n",
       "      <td>NaN</td>\n",
       "      <td>0</td>\n",
       "      <td>NaN</td>\n",
       "      <td>NaN</td>\n",
       "      <td>NaN</td>\n",
       "    </tr>\n",
       "    <tr>\n",
       "      <th>4</th>\n",
       "      <td>Protests</td>\n",
       "      <td>0</td>\n",
       "      <td>2019-11-01</td>\n",
       "      <td>POINT (39.56470 -4.06340)</td>\n",
       "      <td>Kenya</td>\n",
       "      <td>Kwale</td>\n",
       "      <td>2019</td>\n",
       "      <td>11</td>\n",
       "      <td>NaN</td>\n",
       "      <td>NaN</td>\n",
       "      <td>0</td>\n",
       "      <td>NaN</td>\n",
       "      <td>NaN</td>\n",
       "      <td>NaN</td>\n",
       "    </tr>\n",
       "  </tbody>\n",
       "</table>\n",
       "</div>"
      ],
      "text/plain": [
       "                   event_type fatalities  event_date  \\\n",
       "0                     Battles          3  2020-05-30   \n",
       "1  Violence against civilians          1  2020-04-01   \n",
       "2                       Riots          1  2020-03-17   \n",
       "3                    Protests          0  2020-03-02   \n",
       "4                    Protests          0  2019-11-01   \n",
       "\n",
       "                    geometry country admin1  year  month Battles  \\\n",
       "0  POINT (39.59400 -4.27900)   Kenya  Kwale  2020      5       3   \n",
       "1  POINT (39.56610 -4.28750)   Kenya  Kwale  2020      4     NaN   \n",
       "2  POINT (39.56610 -4.28750)   Kenya  Kwale  2020      3     NaN   \n",
       "3  POINT (39.59400 -4.27900)   Kenya  Kwale  2020      3     NaN   \n",
       "4  POINT (39.56470 -4.06340)   Kenya  Kwale  2019     11     NaN   \n",
       "\n",
       "  Explosions/Remote violence Protests Riots Strategic developments  \\\n",
       "0                        NaN      NaN   NaN                    NaN   \n",
       "1                        NaN      NaN   NaN                    NaN   \n",
       "2                        NaN      NaN     1                    NaN   \n",
       "3                        NaN        0   NaN                    NaN   \n",
       "4                        NaN        0   NaN                    NaN   \n",
       "\n",
       "  Violence against civilians  \n",
       "0                        NaN  \n",
       "1                          1  \n",
       "2                        NaN  \n",
       "3                        NaN  \n",
       "4                        NaN  "
      ]
     },
     "execution_count": 30,
     "metadata": {},
     "output_type": "execute_result"
    }
   ],
   "source": [
    "acled = acled.join(acled_wide)\n",
    "acled.head()"
   ]
  },
  {
   "cell_type": "code",
   "execution_count": 31,
   "metadata": {},
   "outputs": [],
   "source": [
    "types = ['Battles', 'Protests', 'Riots', 'Explosions/Remote violence', \n",
    "         'Violence against civilians']\n",
    "\n",
    "for vtype in types:\n",
    "    acled[vtype] = pd.to_numeric(acled[vtype])"
   ]
  },
  {
   "cell_type": "code",
   "execution_count": 32,
   "metadata": {},
   "outputs": [],
   "source": [
    "grouped = acled.groupby(by=['country', 'admin1', 'year', 'month'], sort=False)"
   ]
  },
  {
   "cell_type": "code",
   "execution_count": 33,
   "metadata": {},
   "outputs": [],
   "source": [
    "acled_agg = pd.DataFrame()"
   ]
  },
  {
   "cell_type": "code",
   "execution_count": 34,
   "metadata": {
    "scrolled": true
   },
   "outputs": [
    {
     "name": "stdout",
     "output_type": "stream",
     "text": [
      "(12238, 14)\n"
     ]
    },
    {
     "data": {
      "text/html": [
       "<div>\n",
       "<style scoped>\n",
       "    .dataframe tbody tr th:only-of-type {\n",
       "        vertical-align: middle;\n",
       "    }\n",
       "\n",
       "    .dataframe tbody tr th {\n",
       "        vertical-align: top;\n",
       "    }\n",
       "\n",
       "    .dataframe thead th {\n",
       "        text-align: right;\n",
       "    }\n",
       "</style>\n",
       "<table border=\"1\" class=\"dataframe\">\n",
       "  <thead>\n",
       "    <tr style=\"text-align: right;\">\n",
       "      <th></th>\n",
       "      <th>country</th>\n",
       "      <th>admin1</th>\n",
       "      <th>year</th>\n",
       "      <th>month</th>\n",
       "      <th>battle_cnt</th>\n",
       "      <th>protest_cnt</th>\n",
       "      <th>riot_cnt</th>\n",
       "      <th>explosion_cnt</th>\n",
       "      <th>violence_on_civs_cnt</th>\n",
       "      <th>battle_fatal</th>\n",
       "      <th>protest_fatal</th>\n",
       "      <th>riot_fatal</th>\n",
       "      <th>explosion_fatal</th>\n",
       "      <th>violence_on_civs_fatal</th>\n",
       "    </tr>\n",
       "  </thead>\n",
       "  <tbody>\n",
       "    <tr>\n",
       "      <th>0</th>\n",
       "      <td>Kenya</td>\n",
       "      <td>Kwale</td>\n",
       "      <td>2020</td>\n",
       "      <td>5</td>\n",
       "      <td>1</td>\n",
       "      <td>0</td>\n",
       "      <td>0</td>\n",
       "      <td>0</td>\n",
       "      <td>0</td>\n",
       "      <td>3.0</td>\n",
       "      <td>0.0</td>\n",
       "      <td>0.0</td>\n",
       "      <td>0.0</td>\n",
       "      <td>0.0</td>\n",
       "    </tr>\n",
       "    <tr>\n",
       "      <th>1</th>\n",
       "      <td>Kenya</td>\n",
       "      <td>Kwale</td>\n",
       "      <td>2020</td>\n",
       "      <td>4</td>\n",
       "      <td>0</td>\n",
       "      <td>0</td>\n",
       "      <td>0</td>\n",
       "      <td>0</td>\n",
       "      <td>1</td>\n",
       "      <td>0.0</td>\n",
       "      <td>0.0</td>\n",
       "      <td>0.0</td>\n",
       "      <td>0.0</td>\n",
       "      <td>1.0</td>\n",
       "    </tr>\n",
       "    <tr>\n",
       "      <th>2</th>\n",
       "      <td>Kenya</td>\n",
       "      <td>Kwale</td>\n",
       "      <td>2020</td>\n",
       "      <td>3</td>\n",
       "      <td>0</td>\n",
       "      <td>1</td>\n",
       "      <td>1</td>\n",
       "      <td>0</td>\n",
       "      <td>0</td>\n",
       "      <td>0.0</td>\n",
       "      <td>0.0</td>\n",
       "      <td>1.0</td>\n",
       "      <td>0.0</td>\n",
       "      <td>0.0</td>\n",
       "    </tr>\n",
       "    <tr>\n",
       "      <th>3</th>\n",
       "      <td>Kenya</td>\n",
       "      <td>Kwale</td>\n",
       "      <td>2019</td>\n",
       "      <td>11</td>\n",
       "      <td>0</td>\n",
       "      <td>1</td>\n",
       "      <td>0</td>\n",
       "      <td>0</td>\n",
       "      <td>0</td>\n",
       "      <td>0.0</td>\n",
       "      <td>0.0</td>\n",
       "      <td>0.0</td>\n",
       "      <td>0.0</td>\n",
       "      <td>0.0</td>\n",
       "    </tr>\n",
       "    <tr>\n",
       "      <th>4</th>\n",
       "      <td>Kenya</td>\n",
       "      <td>Kwale</td>\n",
       "      <td>2019</td>\n",
       "      <td>10</td>\n",
       "      <td>0</td>\n",
       "      <td>1</td>\n",
       "      <td>0</td>\n",
       "      <td>0</td>\n",
       "      <td>0</td>\n",
       "      <td>0.0</td>\n",
       "      <td>0.0</td>\n",
       "      <td>0.0</td>\n",
       "      <td>0.0</td>\n",
       "      <td>0.0</td>\n",
       "    </tr>\n",
       "  </tbody>\n",
       "</table>\n",
       "</div>"
      ],
      "text/plain": [
       "  country admin1  year  month  battle_cnt  protest_cnt  riot_cnt  \\\n",
       "0   Kenya  Kwale  2020      5           1            0         0   \n",
       "1   Kenya  Kwale  2020      4           0            0         0   \n",
       "2   Kenya  Kwale  2020      3           0            1         1   \n",
       "3   Kenya  Kwale  2019     11           0            1         0   \n",
       "4   Kenya  Kwale  2019     10           0            1         0   \n",
       "\n",
       "   explosion_cnt  violence_on_civs_cnt  battle_fatal  protest_fatal  \\\n",
       "0              0                     0           3.0            0.0   \n",
       "1              0                     1           0.0            0.0   \n",
       "2              0                     0           0.0            0.0   \n",
       "3              0                     0           0.0            0.0   \n",
       "4              0                     0           0.0            0.0   \n",
       "\n",
       "   riot_fatal  explosion_fatal  violence_on_civs_fatal  \n",
       "0         0.0              0.0                     0.0  \n",
       "1         0.0              0.0                     1.0  \n",
       "2         1.0              0.0                     0.0  \n",
       "3         0.0              0.0                     0.0  \n",
       "4         0.0              0.0                     0.0  "
      ]
     },
     "execution_count": 34,
     "metadata": {},
     "output_type": "execute_result"
    }
   ],
   "source": [
    "# aggregate the conflict data at the admin1-month level by counting the number of \n",
    "# occurences and summing the number of fatalities for each conflict type\n",
    "\n",
    "count_cols = ['battle_cnt', 'protest_cnt', 'riot_cnt', 'explosion_cnt', 'violence_on_civs_cnt']\n",
    "acled_agg[count_cols] = grouped.count()[types]\n",
    "acled_agg.head()\n",
    "\n",
    "fatal_cols = ['battle_fatal', 'protest_fatal', 'riot_fatal', 'explosion_fatal', \\\n",
    "              'violence_on_civs_fatal']\n",
    "acled_agg[fatal_cols] = grouped.sum()[types]\n",
    "\n",
    "acled_agg.reset_index(inplace=True)\n",
    "\n",
    "print(acled_agg.shape)\n",
    "acled_agg.head()"
   ]
  },
  {
   "cell_type": "markdown",
   "metadata": {},
   "source": []
  },
  {
   "cell_type": "markdown",
   "metadata": {},
   "source": [
    "## 3 View the data\n",
    "* Examine outliers for different event types."
   ]
  },
  {
   "cell_type": "code",
   "execution_count": 35,
   "metadata": {},
   "outputs": [],
   "source": [
    "import matplotlib.pyplot as plt\n",
    "import seaborn as sns"
   ]
  },
  {
   "cell_type": "code",
   "execution_count": 36,
   "metadata": {},
   "outputs": [
    {
     "data": {
      "text/plain": [
       "<seaborn.axisgrid.FacetGrid at 0x1266d4f40>"
      ]
     },
     "execution_count": 36,
     "metadata": {},
     "output_type": "execute_result"
    },
    {
     "data": {
      "image/png": "[encoded data removed]",
      "text/plain": [
       "<Figure size 459.5x360 with 1 Axes>"
      ]
     },
     "metadata": {
      "needs_background": "light"
     },
     "output_type": "display_data"
    }
   ],
   "source": [
    "sns.relplot(x='year', y='battle_fatal', hue='country', data=acled_agg)"
   ]
  },
  {
   "cell_type": "markdown",
   "metadata": {},
   "source": [
    "We see outliers for battle count and battle fatalities in 1999 for Eritrea and Ethiopia due to the border war between the two countries. As this year falls outside the period of analysis for our target variable, we are not concerned with it.  \n",
    "  \n",
    "There is also the conflict in Darfur (a region in Sudan) that is captured in this measurement but is discussed in more depth as relates to violence against civilains."
   ]
  },
  {
   "cell_type": "code",
   "execution_count": 37,
   "metadata": {},
   "outputs": [
    {
     "data": {
      "text/plain": [
       "<seaborn.axisgrid.FacetGrid at 0x13e7d3400>"
      ]
     },
     "execution_count": 37,
     "metadata": {},
     "output_type": "execute_result"
    },
    {
     "data": {
      "image/png": "[encoded data removed]",
      "text/plain": [
       "<Figure size 459.5x360 with 1 Axes>"
      ]
     },
     "metadata": {
      "needs_background": "light"
     },
     "output_type": "display_data"
    }
   ],
   "source": [
    "sns.relplot(x='year', y='explosion_cnt', hue='country', data=acled_agg)"
   ]
  },
  {
   "cell_type": "markdown",
   "metadata": {},
   "source": [
    "Most pronounced, we see the steady rise in bombings in Somalia due to the growing presence and activities of Al-Shabab.  \n",
    "\n",
    "We also see the results of an indiscrimant bombing campaign by the Sudanese governement against their own citizens in South Kordafan in 2016."
   ]
  },
  {
   "cell_type": "code",
   "execution_count": 38,
   "metadata": {},
   "outputs": [
    {
     "data": {
      "text/plain": [
       "<seaborn.axisgrid.FacetGrid at 0x13e7d34f0>"
      ]
     },
     "execution_count": 38,
     "metadata": {},
     "output_type": "execute_result"
    },
    {
     "data": {
      "image/png": "[encoded data removed]",
      "text/plain": [
       "<Figure size 459.5x360 with 1 Axes>"
      ]
     },
     "metadata": {
      "needs_background": "light"
     },
     "output_type": "display_data"
    }
   ],
   "source": [
    "sns.relplot(x='year', y='protest_cnt', hue='country', data=acled_agg)"
   ]
  },
  {
   "cell_type": "markdown",
   "metadata": {},
   "source": [
    "We see a large number of protests in Ethiopia in 2015-2017 followed by Sudan in 2019. These were both broad-based political reform movements that are being captured in our data and useful for our model."
   ]
  },
  {
   "cell_type": "code",
   "execution_count": 39,
   "metadata": {},
   "outputs": [
    {
     "data": {
      "text/plain": [
       "<seaborn.axisgrid.FacetGrid at 0x1258af8e0>"
      ]
     },
     "execution_count": 39,
     "metadata": {},
     "output_type": "execute_result"
    },
    {
     "data": {
      "image/png": "[encoded data removed]",
      "text/plain": [
       "<Figure size 459.5x360 with 1 Axes>"
      ]
     },
     "metadata": {
      "needs_background": "light"
     },
     "output_type": "display_data"
    }
   ],
   "source": [
    "sns.relplot(x='year', y='riot_cnt', hue='country', data=acled_agg)"
   ]
  },
  {
   "cell_type": "markdown",
   "metadata": {},
   "source": [
    "Here we see that there are much fewer riots than previous event types. Kneya, the most democratic of our dataset, had large scale protests and riots in following the elections in 2007 and again in 2017. We can see these phenomena in our data."
   ]
  },
  {
   "cell_type": "code",
   "execution_count": 40,
   "metadata": {},
   "outputs": [
    {
     "data": {
      "text/plain": [
       "<seaborn.axisgrid.FacetGrid at 0x127e2e8e0>"
      ]
     },
     "execution_count": 40,
     "metadata": {},
     "output_type": "execute_result"
    },
    {
     "data": {
      "image/png": "[encoded data removed]",
      "text/plain": [
       "<Figure size 459.5x360 with 1 Axes>"
      ]
     },
     "metadata": {
      "needs_background": "light"
     },
     "output_type": "display_data"
    }
   ],
   "source": [
    "sns.relplot(x='year', y='violence_on_civs_fatal', hue='country', data=acled_agg)"
   ]
  },
  {
   "cell_type": "markdown",
   "metadata": {},
   "source": [
    "Here again our outliers are pointing to significant tragic events. In 2003, ethnic cleansing perpetrated by the Sudanese government forces in Darfur claimed many lives.  \n",
    "  \n",
    "In 2012, South Sudan declared independence from Sudan. There was much violence in the period surround this independence movement by militia groups and government forces that also claimed several civilian lives.  \n",
    "  \n",
    "Working with non-linear models, we may capture ther relationship of these features with famine without having to omit the most extreme case, so outliers are not removed here.  "
   ]
  },
  {
   "cell_type": "markdown",
   "metadata": {},
   "source": [
    "## Write to disc"
   ]
  },
  {
   "cell_type": "code",
   "execution_count": 41,
   "metadata": {
    "scrolled": false
   },
   "outputs": [
    {
     "data": {
      "text/html": [
       "<div>\n",
       "<style scoped>\n",
       "    .dataframe tbody tr th:only-of-type {\n",
       "        vertical-align: middle;\n",
       "    }\n",
       "\n",
       "    .dataframe tbody tr th {\n",
       "        vertical-align: top;\n",
       "    }\n",
       "\n",
       "    .dataframe thead th {\n",
       "        text-align: right;\n",
       "    }\n",
       "</style>\n",
       "<table border=\"1\" class=\"dataframe\">\n",
       "  <thead>\n",
       "    <tr style=\"text-align: right;\">\n",
       "      <th></th>\n",
       "      <th>country</th>\n",
       "      <th>admin1</th>\n",
       "      <th>year</th>\n",
       "      <th>month</th>\n",
       "      <th>battle_cnt</th>\n",
       "      <th>protest_cnt</th>\n",
       "      <th>riot_cnt</th>\n",
       "      <th>explosion_cnt</th>\n",
       "      <th>violence_on_civs_cnt</th>\n",
       "      <th>battle_fatal</th>\n",
       "      <th>protest_fatal</th>\n",
       "      <th>riot_fatal</th>\n",
       "      <th>explosion_fatal</th>\n",
       "      <th>violence_on_civs_fatal</th>\n",
       "    </tr>\n",
       "  </thead>\n",
       "  <tbody>\n",
       "    <tr>\n",
       "      <th>5653</th>\n",
       "      <td>Ethiopia</td>\n",
       "      <td>Oromia</td>\n",
       "      <td>2010</td>\n",
       "      <td>1</td>\n",
       "      <td>4</td>\n",
       "      <td>0</td>\n",
       "      <td>0</td>\n",
       "      <td>0</td>\n",
       "      <td>0</td>\n",
       "      <td>16.0</td>\n",
       "      <td>0.0</td>\n",
       "      <td>0.0</td>\n",
       "      <td>0.0</td>\n",
       "      <td>0.0</td>\n",
       "    </tr>\n",
       "    <tr>\n",
       "      <th>3265</th>\n",
       "      <td>Somalia</td>\n",
       "      <td>Lower Juba</td>\n",
       "      <td>2018</td>\n",
       "      <td>1</td>\n",
       "      <td>11</td>\n",
       "      <td>2</td>\n",
       "      <td>1</td>\n",
       "      <td>8</td>\n",
       "      <td>0</td>\n",
       "      <td>46.0</td>\n",
       "      <td>0.0</td>\n",
       "      <td>0.0</td>\n",
       "      <td>35.0</td>\n",
       "      <td>0.0</td>\n",
       "    </tr>\n",
       "    <tr>\n",
       "      <th>2836</th>\n",
       "      <td>Uganda</td>\n",
       "      <td>Central</td>\n",
       "      <td>1998</td>\n",
       "      <td>4</td>\n",
       "      <td>0</td>\n",
       "      <td>0</td>\n",
       "      <td>0</td>\n",
       "      <td>2</td>\n",
       "      <td>1</td>\n",
       "      <td>0.0</td>\n",
       "      <td>0.0</td>\n",
       "      <td>0.0</td>\n",
       "      <td>8.0</td>\n",
       "      <td>0.0</td>\n",
       "    </tr>\n",
       "    <tr>\n",
       "      <th>4495</th>\n",
       "      <td>South Sudan</td>\n",
       "      <td>Central Equatoria</td>\n",
       "      <td>2005</td>\n",
       "      <td>2</td>\n",
       "      <td>0</td>\n",
       "      <td>0</td>\n",
       "      <td>0</td>\n",
       "      <td>0</td>\n",
       "      <td>1</td>\n",
       "      <td>0.0</td>\n",
       "      <td>0.0</td>\n",
       "      <td>0.0</td>\n",
       "      <td>0.0</td>\n",
       "      <td>3.0</td>\n",
       "    </tr>\n",
       "    <tr>\n",
       "      <th>7840</th>\n",
       "      <td>Ethiopia</td>\n",
       "      <td>Somali</td>\n",
       "      <td>2017</td>\n",
       "      <td>4</td>\n",
       "      <td>1</td>\n",
       "      <td>0</td>\n",
       "      <td>0</td>\n",
       "      <td>0</td>\n",
       "      <td>0</td>\n",
       "      <td>17.0</td>\n",
       "      <td>0.0</td>\n",
       "      <td>0.0</td>\n",
       "      <td>0.0</td>\n",
       "      <td>0.0</td>\n",
       "    </tr>\n",
       "    <tr>\n",
       "      <th>911</th>\n",
       "      <td>Somalia</td>\n",
       "      <td>Gedo</td>\n",
       "      <td>2014</td>\n",
       "      <td>1</td>\n",
       "      <td>1</td>\n",
       "      <td>0</td>\n",
       "      <td>0</td>\n",
       "      <td>2</td>\n",
       "      <td>3</td>\n",
       "      <td>2.0</td>\n",
       "      <td>0.0</td>\n",
       "      <td>0.0</td>\n",
       "      <td>61.0</td>\n",
       "      <td>4.0</td>\n",
       "    </tr>\n",
       "    <tr>\n",
       "      <th>5253</th>\n",
       "      <td>Sudan</td>\n",
       "      <td>West Darfur</td>\n",
       "      <td>2014</td>\n",
       "      <td>12</td>\n",
       "      <td>1</td>\n",
       "      <td>1</td>\n",
       "      <td>0</td>\n",
       "      <td>0</td>\n",
       "      <td>10</td>\n",
       "      <td>5.0</td>\n",
       "      <td>0.0</td>\n",
       "      <td>0.0</td>\n",
       "      <td>0.0</td>\n",
       "      <td>1.0</td>\n",
       "    </tr>\n",
       "    <tr>\n",
       "      <th>4026</th>\n",
       "      <td>Somalia</td>\n",
       "      <td>Bari</td>\n",
       "      <td>2020</td>\n",
       "      <td>2</td>\n",
       "      <td>6</td>\n",
       "      <td>0</td>\n",
       "      <td>0</td>\n",
       "      <td>3</td>\n",
       "      <td>4</td>\n",
       "      <td>2.0</td>\n",
       "      <td>0.0</td>\n",
       "      <td>0.0</td>\n",
       "      <td>0.0</td>\n",
       "      <td>5.0</td>\n",
       "    </tr>\n",
       "    <tr>\n",
       "      <th>11418</th>\n",
       "      <td>Kenya</td>\n",
       "      <td>Kilifi</td>\n",
       "      <td>2019</td>\n",
       "      <td>7</td>\n",
       "      <td>0</td>\n",
       "      <td>1</td>\n",
       "      <td>0</td>\n",
       "      <td>0</td>\n",
       "      <td>0</td>\n",
       "      <td>0.0</td>\n",
       "      <td>0.0</td>\n",
       "      <td>0.0</td>\n",
       "      <td>0.0</td>\n",
       "      <td>0.0</td>\n",
       "    </tr>\n",
       "    <tr>\n",
       "      <th>7036</th>\n",
       "      <td>Sudan</td>\n",
       "      <td>North Darfur</td>\n",
       "      <td>2008</td>\n",
       "      <td>11</td>\n",
       "      <td>1</td>\n",
       "      <td>0</td>\n",
       "      <td>0</td>\n",
       "      <td>1</td>\n",
       "      <td>1</td>\n",
       "      <td>30.0</td>\n",
       "      <td>0.0</td>\n",
       "      <td>0.0</td>\n",
       "      <td>10.0</td>\n",
       "      <td>0.0</td>\n",
       "    </tr>\n",
       "  </tbody>\n",
       "</table>\n",
       "</div>"
      ],
      "text/plain": [
       "           country             admin1  year  month  battle_cnt  protest_cnt  \\\n",
       "5653      Ethiopia             Oromia  2010      1           4            0   \n",
       "3265       Somalia         Lower Juba  2018      1          11            2   \n",
       "2836        Uganda            Central  1998      4           0            0   \n",
       "4495   South Sudan  Central Equatoria  2005      2           0            0   \n",
       "7840      Ethiopia             Somali  2017      4           1            0   \n",
       "911        Somalia               Gedo  2014      1           1            0   \n",
       "5253         Sudan        West Darfur  2014     12           1            1   \n",
       "4026       Somalia               Bari  2020      2           6            0   \n",
       "11418        Kenya             Kilifi  2019      7           0            1   \n",
       "7036         Sudan       North Darfur  2008     11           1            0   \n",
       "\n",
       "       riot_cnt  explosion_cnt  violence_on_civs_cnt  battle_fatal  \\\n",
       "5653          0              0                     0          16.0   \n",
       "3265          1              8                     0          46.0   \n",
       "2836          0              2                     1           0.0   \n",
       "4495          0              0                     1           0.0   \n",
       "7840          0              0                     0          17.0   \n",
       "911           0              2                     3           2.0   \n",
       "5253          0              0                    10           5.0   \n",
       "4026          0              3                     4           2.0   \n",
       "11418         0              0                     0           0.0   \n",
       "7036          0              1                     1          30.0   \n",
       "\n",
       "       protest_fatal  riot_fatal  explosion_fatal  violence_on_civs_fatal  \n",
       "5653             0.0         0.0              0.0                     0.0  \n",
       "3265             0.0         0.0             35.0                     0.0  \n",
       "2836             0.0         0.0              8.0                     0.0  \n",
       "4495             0.0         0.0              0.0                     3.0  \n",
       "7840             0.0         0.0              0.0                     0.0  \n",
       "911              0.0         0.0             61.0                     4.0  \n",
       "5253             0.0         0.0              0.0                     1.0  \n",
       "4026             0.0         0.0              0.0                     5.0  \n",
       "11418            0.0         0.0              0.0                     0.0  \n",
       "7036             0.0         0.0             10.0                     0.0  "
      ]
     },
     "execution_count": 41,
     "metadata": {},
     "output_type": "execute_result"
    }
   ],
   "source": [
    "acled_agg.sample(10)"
   ]
  },
  {
   "cell_type": "code",
   "execution_count": 42,
   "metadata": {},
   "outputs": [],
   "source": [
    "# write to disc\n",
    "acled_agg.to_csv('conflict.csv')"
   ]
  }
 ],
 "metadata": {
  "kernelspec": {
   "display_name": "ml30254",
   "language": "python",
   "name": "ml30254"
  },
  "language_info": {
   "codemirror_mode": {
    "name": "ipython",
    "version": 3
   },
   "file_extension": ".py",
   "mimetype": "text/x-python",
   "name": "python",
   "nbconvert_exporter": "python",
   "pygments_lexer": "ipython3",
   "version": "3.8.3"
  }
 },
 "nbformat": 4,
 "nbformat_minor": 2
}
