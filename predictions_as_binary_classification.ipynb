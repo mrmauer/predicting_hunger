{
 "cells": [
  {
   "cell_type": "markdown",
   "metadata": {},
   "source": [
    "# Predictiong Hunger as a Binary Classification\n",
    "* Converted hunger scores to binary variables, using > 2 as the threshold for critically food insecure\n",
    "* Applied several models with a wide grid search to 3-month predictions\n",
    "    * Support Vector Classifiers with linear, polynomial, and rbf kernels\n",
    "    * Naive Bayes with a Gaussian distribution\n",
    "    * Random Forest Classifier\n",
    "    * Adaboost Classifier\n",
    "    * K-Nearest Neighbors\n",
    "* __Naive Bayes__ was the best performing model by a considerable margin.\n",
    "* 1-month predictions by Naive Bayes were also promising though not as much as for the 3-month predictions\n",
    "* More features, better feature engineering, more sophisticated imputation for missing values, and inclusion of the lagged outcome in the feature space are all methods thay may improve upon the current model"
   ]
  },
  {
   "cell_type": "code",
   "execution_count": 3,
   "metadata": {},
   "outputs": [],
   "source": [
    "import pandas as pd\n",
    "import pipeline\n",
    "import importlib\n",
    "import numpy as np\n",
    "import matplotlib.pyplot as plt"
   ]
  },
  {
   "cell_type": "code",
   "execution_count": 95,
   "metadata": {},
   "outputs": [],
   "source": [
    "from sklearn.model_selection import train_test_split, GridSearchCV, GroupKFold, cross_validate\n",
    "from sklearn.metrics import accuracy_score, precision_score, recall_score, \\\n",
    "                            plot_confusion_matrix, make_scorer, plot_roc_curve, \\\n",
    "                            plot_precision_recall_curve\n",
    "from sklearn.ensemble import RandomForestClassifier, AdaBoostClassifier\n",
    "from sklearn.svm import SVC\n",
    "from sklearn.naive_bayes import GaussianNB\n",
    "from sklearn.neighbors import KNeighborsClassifier\n",
    "from sklearn.pipeline import Pipeline\n",
    "from sklearn.impute import SimpleImputer\n",
    "from sklearn.preprocessing import StandardScaler"
   ]
  },
  {
   "cell_type": "code",
   "execution_count": 31,
   "metadata": {},
   "outputs": [],
   "source": [
    "import warnings\n",
    "warnings.filterwarnings(action='ignore')"
   ]
  },
  {
   "cell_type": "code",
   "execution_count": 71,
   "metadata": {},
   "outputs": [
    {
     "data": {
      "text/plain": [
       "<module 'pipeline' from '/Users/matthewmauer/ML/project/pipeline.py'>"
      ]
     },
     "execution_count": 71,
     "metadata": {},
     "output_type": "execute_result"
    }
   ],
   "source": [
    "# for reloading the pipeline if neccesary...\n",
    "importlib.reload(pipeline)"
   ]
  },
  {
   "cell_type": "markdown",
   "metadata": {},
   "source": [
    "## 1 Load and Clean Data\n",
    "* load and drop redundant columns\n",
    "* NaNs of event data should be converted to 0s\n",
    "* event data convert to log scale to reduce skew\n",
    "* make Admin1 names unique\n",
    "* look at statistics for features and the hunger score"
   ]
  },
  {
   "cell_type": "code",
   "execution_count": 17,
   "metadata": {},
   "outputs": [
    {
     "name": "stdout",
     "output_type": "stream",
     "text": [
      "There are 14068 rows and 24 columns in the data set.\n"
     ]
    },
    {
     "data": {
      "text/html": [
       "<div>\n",
       "<style scoped>\n",
       "    .dataframe tbody tr th:only-of-type {\n",
       "        vertical-align: middle;\n",
       "    }\n",
       "\n",
       "    .dataframe tbody tr th {\n",
       "        vertical-align: top;\n",
       "    }\n",
       "\n",
       "    .dataframe thead th {\n",
       "        text-align: right;\n",
       "    }\n",
       "</style>\n",
       "<table border=\"1\" class=\"dataframe\">\n",
       "  <thead>\n",
       "    <tr style=\"text-align: right;\">\n",
       "      <th></th>\n",
       "      <th>ADMIN0</th>\n",
       "      <th>ADMIN1</th>\n",
       "      <th>month</th>\n",
       "      <th>year</th>\n",
       "      <th>CS</th>\n",
       "      <th>tmin_mm</th>\n",
       "      <th>tmax_mm</th>\n",
       "      <th>tavg_mm</th>\n",
       "      <th>prcp_mm</th>\n",
       "      <th>battle_cnt</th>\n",
       "      <th>...</th>\n",
       "      <th>battle_fatal</th>\n",
       "      <th>protest_fatal</th>\n",
       "      <th>riot_fatal</th>\n",
       "      <th>explosion_fatal</th>\n",
       "      <th>violence_on_civs_fatal</th>\n",
       "      <th>Retail</th>\n",
       "      <th>pop</th>\n",
       "      <th>CS_in_1_month</th>\n",
       "      <th>CS_in_2_months</th>\n",
       "      <th>CS_in_3_months</th>\n",
       "    </tr>\n",
       "  </thead>\n",
       "  <tbody>\n",
       "    <tr>\n",
       "      <th>5984</th>\n",
       "      <td>Somalia</td>\n",
       "      <td>Bay</td>\n",
       "      <td>1.0</td>\n",
       "      <td>2016.0</td>\n",
       "      <td>NaN</td>\n",
       "      <td>NaN</td>\n",
       "      <td>NaN</td>\n",
       "      <td>NaN</td>\n",
       "      <td>NaN</td>\n",
       "      <td>10.0</td>\n",
       "      <td>...</td>\n",
       "      <td>47.0</td>\n",
       "      <td>0.0</td>\n",
       "      <td>0.0</td>\n",
       "      <td>2.0</td>\n",
       "      <td>1.0</td>\n",
       "      <td>-1.098685</td>\n",
       "      <td>NaN</td>\n",
       "      <td>1.5</td>\n",
       "      <td>NaN</td>\n",
       "      <td>NaN</td>\n",
       "    </tr>\n",
       "    <tr>\n",
       "      <th>9037</th>\n",
       "      <td>Sudan</td>\n",
       "      <td>Blue Nile</td>\n",
       "      <td>5.0</td>\n",
       "      <td>2016.0</td>\n",
       "      <td>NaN</td>\n",
       "      <td>NaN</td>\n",
       "      <td>NaN</td>\n",
       "      <td>NaN</td>\n",
       "      <td>NaN</td>\n",
       "      <td>1.0</td>\n",
       "      <td>...</td>\n",
       "      <td>3.0</td>\n",
       "      <td>0.0</td>\n",
       "      <td>0.0</td>\n",
       "      <td>2.0</td>\n",
       "      <td>3.0</td>\n",
       "      <td>0.344121</td>\n",
       "      <td>1047000.0</td>\n",
       "      <td>2.0</td>\n",
       "      <td>NaN</td>\n",
       "      <td>NaN</td>\n",
       "    </tr>\n",
       "    <tr>\n",
       "      <th>5058</th>\n",
       "      <td>Kenya</td>\n",
       "      <td>Uasin Gishu</td>\n",
       "      <td>10.0</td>\n",
       "      <td>2009.0</td>\n",
       "      <td>1.5</td>\n",
       "      <td>NaN</td>\n",
       "      <td>NaN</td>\n",
       "      <td>NaN</td>\n",
       "      <td>NaN</td>\n",
       "      <td>0.0</td>\n",
       "      <td>...</td>\n",
       "      <td>0.0</td>\n",
       "      <td>0.0</td>\n",
       "      <td>0.0</td>\n",
       "      <td>0.0</td>\n",
       "      <td>1.0</td>\n",
       "      <td>NaN</td>\n",
       "      <td>894179.0</td>\n",
       "      <td>NaN</td>\n",
       "      <td>NaN</td>\n",
       "      <td>2.0</td>\n",
       "    </tr>\n",
       "    <tr>\n",
       "      <th>8728</th>\n",
       "      <td>South Sudan</td>\n",
       "      <td>Western Bahr el Ghazal</td>\n",
       "      <td>6.0</td>\n",
       "      <td>2011.0</td>\n",
       "      <td>NaN</td>\n",
       "      <td>NaN</td>\n",
       "      <td>NaN</td>\n",
       "      <td>NaN</td>\n",
       "      <td>NaN</td>\n",
       "      <td>NaN</td>\n",
       "      <td>...</td>\n",
       "      <td>NaN</td>\n",
       "      <td>NaN</td>\n",
       "      <td>NaN</td>\n",
       "      <td>NaN</td>\n",
       "      <td>NaN</td>\n",
       "      <td>NaN</td>\n",
       "      <td>422000.0</td>\n",
       "      <td>2.0</td>\n",
       "      <td>NaN</td>\n",
       "      <td>NaN</td>\n",
       "    </tr>\n",
       "    <tr>\n",
       "      <th>1837</th>\n",
       "      <td>Kenya</td>\n",
       "      <td>Garissa</td>\n",
       "      <td>10.0</td>\n",
       "      <td>2018.0</td>\n",
       "      <td>1.0</td>\n",
       "      <td>NaN</td>\n",
       "      <td>NaN</td>\n",
       "      <td>NaN</td>\n",
       "      <td>NaN</td>\n",
       "      <td>1.0</td>\n",
       "      <td>...</td>\n",
       "      <td>4.0</td>\n",
       "      <td>0.0</td>\n",
       "      <td>0.0</td>\n",
       "      <td>0.0</td>\n",
       "      <td>0.0</td>\n",
       "      <td>NaN</td>\n",
       "      <td>623060.0</td>\n",
       "      <td>NaN</td>\n",
       "      <td>NaN</td>\n",
       "      <td>NaN</td>\n",
       "    </tr>\n",
       "  </tbody>\n",
       "</table>\n",
       "<p>5 rows × 24 columns</p>\n",
       "</div>"
      ],
      "text/plain": [
       "           ADMIN0                  ADMIN1  month    year   CS  tmin_mm  \\\n",
       "5984      Somalia                     Bay    1.0  2016.0  NaN      NaN   \n",
       "9037        Sudan               Blue Nile    5.0  2016.0  NaN      NaN   \n",
       "5058        Kenya             Uasin Gishu   10.0  2009.0  1.5      NaN   \n",
       "8728  South Sudan  Western Bahr el Ghazal    6.0  2011.0  NaN      NaN   \n",
       "1837        Kenya                 Garissa   10.0  2018.0  1.0      NaN   \n",
       "\n",
       "      tmax_mm  tavg_mm  prcp_mm  battle_cnt  ...  battle_fatal  protest_fatal  \\\n",
       "5984      NaN      NaN      NaN        10.0  ...          47.0            0.0   \n",
       "9037      NaN      NaN      NaN         1.0  ...           3.0            0.0   \n",
       "5058      NaN      NaN      NaN         0.0  ...           0.0            0.0   \n",
       "8728      NaN      NaN      NaN         NaN  ...           NaN            NaN   \n",
       "1837      NaN      NaN      NaN         1.0  ...           4.0            0.0   \n",
       "\n",
       "      riot_fatal  explosion_fatal  violence_on_civs_fatal    Retail  \\\n",
       "5984         0.0              2.0                     1.0 -1.098685   \n",
       "9037         0.0              2.0                     3.0  0.344121   \n",
       "5058         0.0              0.0                     1.0       NaN   \n",
       "8728         NaN              NaN                     NaN       NaN   \n",
       "1837         0.0              0.0                     0.0       NaN   \n",
       "\n",
       "            pop  CS_in_1_month  CS_in_2_months  CS_in_3_months  \n",
       "5984        NaN            1.5             NaN             NaN  \n",
       "9037  1047000.0            2.0             NaN             NaN  \n",
       "5058   894179.0            NaN             NaN             2.0  \n",
       "8728   422000.0            2.0             NaN             NaN  \n",
       "1837   623060.0            NaN             NaN             NaN  \n",
       "\n",
       "[5 rows x 24 columns]"
      ]
     },
     "execution_count": 17,
     "metadata": {},
     "output_type": "execute_result"
    }
   ],
   "source": [
    "data = pipeline.read('create_targets/total_data_with_targets.csv')\n",
    "data.sample(5)"
   ]
  },
  {
   "cell_type": "code",
   "execution_count": 18,
   "metadata": {},
   "outputs": [],
   "source": [
    "data = pipeline.clean_events(data)"
   ]
  },
  {
   "cell_type": "code",
   "execution_count": 19,
   "metadata": {},
   "outputs": [],
   "source": [
    "data = pipeline.unique_regions(data)"
   ]
  },
  {
   "cell_type": "markdown",
   "metadata": {},
   "source": [
    "## View Statistics"
   ]
  },
  {
   "cell_type": "code",
   "execution_count": 20,
   "metadata": {},
   "outputs": [
    {
     "data": {
      "text/html": [
       "<div>\n",
       "<style scoped>\n",
       "    .dataframe tbody tr th:only-of-type {\n",
       "        vertical-align: middle;\n",
       "    }\n",
       "\n",
       "    .dataframe tbody tr th {\n",
       "        vertical-align: top;\n",
       "    }\n",
       "\n",
       "    .dataframe thead th {\n",
       "        text-align: right;\n",
       "    }\n",
       "</style>\n",
       "<table border=\"1\" class=\"dataframe\">\n",
       "  <thead>\n",
       "    <tr style=\"text-align: right;\">\n",
       "      <th></th>\n",
       "      <th>tmin_mm</th>\n",
       "      <th>tmax_mm</th>\n",
       "      <th>tavg_mm</th>\n",
       "      <th>prcp_mm</th>\n",
       "      <th>battle_cnt</th>\n",
       "      <th>protest_cnt</th>\n",
       "      <th>riot_cnt</th>\n",
       "      <th>explosion_cnt</th>\n",
       "      <th>violence_on_civs_cnt</th>\n",
       "      <th>battle_fatal</th>\n",
       "      <th>protest_fatal</th>\n",
       "      <th>riot_fatal</th>\n",
       "      <th>explosion_fatal</th>\n",
       "      <th>violence_on_civs_fatal</th>\n",
       "      <th>Retail</th>\n",
       "      <th>pop</th>\n",
       "    </tr>\n",
       "  </thead>\n",
       "  <tbody>\n",
       "    <tr>\n",
       "      <th>count</th>\n",
       "      <td>3308.000000</td>\n",
       "      <td>3051.000000</td>\n",
       "      <td>3786.000000</td>\n",
       "      <td>2355.000000</td>\n",
       "      <td>14068.000000</td>\n",
       "      <td>14068.000000</td>\n",
       "      <td>14068.000000</td>\n",
       "      <td>14068.000000</td>\n",
       "      <td>14068.000000</td>\n",
       "      <td>14068.000000</td>\n",
       "      <td>14068.000000</td>\n",
       "      <td>14068.000000</td>\n",
       "      <td>14068.000000</td>\n",
       "      <td>14068.000000</td>\n",
       "      <td>4661.000000</td>\n",
       "      <td>7.895000e+03</td>\n",
       "    </tr>\n",
       "    <tr>\n",
       "      <th>mean</th>\n",
       "      <td>194.006999</td>\n",
       "      <td>324.045806</td>\n",
       "      <td>259.036633</td>\n",
       "      <td>75.495813</td>\n",
       "      <td>0.403487</td>\n",
       "      <td>0.217546</td>\n",
       "      <td>0.127565</td>\n",
       "      <td>0.164981</td>\n",
       "      <td>0.382583</td>\n",
       "      <td>0.556682</td>\n",
       "      <td>0.015135</td>\n",
       "      <td>0.048254</td>\n",
       "      <td>0.158233</td>\n",
       "      <td>0.378231</td>\n",
       "      <td>0.642517</td>\n",
       "      <td>2.708599e+06</td>\n",
       "    </tr>\n",
       "    <tr>\n",
       "      <th>std</th>\n",
       "      <td>48.576061</td>\n",
       "      <td>50.874524</td>\n",
       "      <td>47.393798</td>\n",
       "      <td>119.916669</td>\n",
       "      <td>0.747403</td>\n",
       "      <td>0.476890</td>\n",
       "      <td>0.347086</td>\n",
       "      <td>0.502241</td>\n",
       "      <td>0.654209</td>\n",
       "      <td>1.171873</td>\n",
       "      <td>0.175835</td>\n",
       "      <td>0.263668</td>\n",
       "      <td>0.607038</td>\n",
       "      <td>0.821119</td>\n",
       "      <td>1.419446</td>\n",
       "      <td>5.611861e+06</td>\n",
       "    </tr>\n",
       "    <tr>\n",
       "      <th>min</th>\n",
       "      <td>54.950000</td>\n",
       "      <td>200.000000</td>\n",
       "      <td>143.200000</td>\n",
       "      <td>0.000000</td>\n",
       "      <td>0.000000</td>\n",
       "      <td>0.000000</td>\n",
       "      <td>0.000000</td>\n",
       "      <td>0.000000</td>\n",
       "      <td>0.000000</td>\n",
       "      <td>0.000000</td>\n",
       "      <td>0.000000</td>\n",
       "      <td>0.000000</td>\n",
       "      <td>0.000000</td>\n",
       "      <td>0.000000</td>\n",
       "      <td>-3.445507</td>\n",
       "      <td>1.015390e+05</td>\n",
       "    </tr>\n",
       "    <tr>\n",
       "      <th>25%</th>\n",
       "      <td>153.174020</td>\n",
       "      <td>287.136646</td>\n",
       "      <td>226.445968</td>\n",
       "      <td>14.250000</td>\n",
       "      <td>0.000000</td>\n",
       "      <td>0.000000</td>\n",
       "      <td>0.000000</td>\n",
       "      <td>0.000000</td>\n",
       "      <td>0.000000</td>\n",
       "      <td>0.000000</td>\n",
       "      <td>0.000000</td>\n",
       "      <td>0.000000</td>\n",
       "      <td>0.000000</td>\n",
       "      <td>0.000000</td>\n",
       "      <td>-0.201266</td>\n",
       "      <td>7.439460e+05</td>\n",
       "    </tr>\n",
       "    <tr>\n",
       "      <th>50%</th>\n",
       "      <td>197.124060</td>\n",
       "      <td>317.000000</td>\n",
       "      <td>261.696154</td>\n",
       "      <td>43.285714</td>\n",
       "      <td>0.000000</td>\n",
       "      <td>0.000000</td>\n",
       "      <td>0.000000</td>\n",
       "      <td>0.000000</td>\n",
       "      <td>0.000000</td>\n",
       "      <td>0.000000</td>\n",
       "      <td>0.000000</td>\n",
       "      <td>0.000000</td>\n",
       "      <td>0.000000</td>\n",
       "      <td>0.000000</td>\n",
       "      <td>0.474682</td>\n",
       "      <td>1.098584e+06</td>\n",
       "    </tr>\n",
       "    <tr>\n",
       "      <th>75%</th>\n",
       "      <td>234.937500</td>\n",
       "      <td>360.302778</td>\n",
       "      <td>291.386966</td>\n",
       "      <td>85.085965</td>\n",
       "      <td>0.693147</td>\n",
       "      <td>0.000000</td>\n",
       "      <td>0.000000</td>\n",
       "      <td>0.000000</td>\n",
       "      <td>0.693147</td>\n",
       "      <td>0.000000</td>\n",
       "      <td>0.000000</td>\n",
       "      <td>0.000000</td>\n",
       "      <td>0.000000</td>\n",
       "      <td>0.000000</td>\n",
       "      <td>1.312802</td>\n",
       "      <td>1.994000e+06</td>\n",
       "    </tr>\n",
       "    <tr>\n",
       "      <th>max</th>\n",
       "      <td>329.100000</td>\n",
       "      <td>464.833333</td>\n",
       "      <td>389.000000</td>\n",
       "      <td>2009.000000</td>\n",
       "      <td>4.043051</td>\n",
       "      <td>5.513429</td>\n",
       "      <td>3.401197</td>\n",
       "      <td>3.850148</td>\n",
       "      <td>3.931826</td>\n",
       "      <td>6.895683</td>\n",
       "      <td>5.241747</td>\n",
       "      <td>5.323010</td>\n",
       "      <td>6.437752</td>\n",
       "      <td>8.074960</td>\n",
       "      <td>7.108684</td>\n",
       "      <td>3.748900e+07</td>\n",
       "    </tr>\n",
       "  </tbody>\n",
       "</table>\n",
       "</div>"
      ],
      "text/plain": [
       "           tmin_mm      tmax_mm      tavg_mm      prcp_mm    battle_cnt  \\\n",
       "count  3308.000000  3051.000000  3786.000000  2355.000000  14068.000000   \n",
       "mean    194.006999   324.045806   259.036633    75.495813      0.403487   \n",
       "std      48.576061    50.874524    47.393798   119.916669      0.747403   \n",
       "min      54.950000   200.000000   143.200000     0.000000      0.000000   \n",
       "25%     153.174020   287.136646   226.445968    14.250000      0.000000   \n",
       "50%     197.124060   317.000000   261.696154    43.285714      0.000000   \n",
       "75%     234.937500   360.302778   291.386966    85.085965      0.693147   \n",
       "max     329.100000   464.833333   389.000000  2009.000000      4.043051   \n",
       "\n",
       "        protest_cnt      riot_cnt  explosion_cnt  violence_on_civs_cnt  \\\n",
       "count  14068.000000  14068.000000   14068.000000          14068.000000   \n",
       "mean       0.217546      0.127565       0.164981              0.382583   \n",
       "std        0.476890      0.347086       0.502241              0.654209   \n",
       "min        0.000000      0.000000       0.000000              0.000000   \n",
       "25%        0.000000      0.000000       0.000000              0.000000   \n",
       "50%        0.000000      0.000000       0.000000              0.000000   \n",
       "75%        0.000000      0.000000       0.000000              0.693147   \n",
       "max        5.513429      3.401197       3.850148              3.931826   \n",
       "\n",
       "       battle_fatal  protest_fatal    riot_fatal  explosion_fatal  \\\n",
       "count  14068.000000   14068.000000  14068.000000     14068.000000   \n",
       "mean       0.556682       0.015135      0.048254         0.158233   \n",
       "std        1.171873       0.175835      0.263668         0.607038   \n",
       "min        0.000000       0.000000      0.000000         0.000000   \n",
       "25%        0.000000       0.000000      0.000000         0.000000   \n",
       "50%        0.000000       0.000000      0.000000         0.000000   \n",
       "75%        0.000000       0.000000      0.000000         0.000000   \n",
       "max        6.895683       5.241747      5.323010         6.437752   \n",
       "\n",
       "       violence_on_civs_fatal       Retail           pop  \n",
       "count            14068.000000  4661.000000  7.895000e+03  \n",
       "mean                 0.378231     0.642517  2.708599e+06  \n",
       "std                  0.821119     1.419446  5.611861e+06  \n",
       "min                  0.000000    -3.445507  1.015390e+05  \n",
       "25%                  0.000000    -0.201266  7.439460e+05  \n",
       "50%                  0.000000     0.474682  1.098584e+06  \n",
       "75%                  0.000000     1.312802  1.994000e+06  \n",
       "max                  8.074960     7.108684  3.748900e+07  "
      ]
     },
     "execution_count": 20,
     "metadata": {},
     "output_type": "execute_result"
    }
   ],
   "source": [
    "features = ['tmin_mm', 'tmax_mm', 'tavg_mm', 'prcp_mm',\n",
    "       'battle_cnt', 'protest_cnt', 'riot_cnt', 'explosion_cnt',\n",
    "       'violence_on_civs_cnt', 'battle_fatal', 'protest_fatal',\n",
    "       'riot_fatal', 'explosion_fatal', 'violence_on_civs_fatal',\n",
    "       'Retail', 'pop']\n",
    "\n",
    "data[features].describe()"
   ]
  },
  {
   "cell_type": "code",
   "execution_count": 21,
   "metadata": {},
   "outputs": [
    {
     "data": {
      "text/plain": [
       "count    4312.000000\n",
       "mean        0.237245\n",
       "std         0.425443\n",
       "min         0.000000\n",
       "25%         0.000000\n",
       "50%         0.000000\n",
       "75%         0.000000\n",
       "max         1.000000\n",
       "Name: CS, dtype: float64"
      ]
     },
     "execution_count": 21,
     "metadata": {},
     "output_type": "execute_result"
    }
   ],
   "source": [
    "data.CS.dropna().map(lambda x: int(x>2)).describe()"
   ]
  },
  {
   "cell_type": "markdown",
   "metadata": {},
   "source": [
    "We see that out of 4312 hunger scores, a little less than a quarter qualify as critical by this crude heuristic."
   ]
  },
  {
   "cell_type": "markdown",
   "metadata": {},
   "source": [
    "## 3-month Predictions\n",
    "* Naive Bayes (Gaussian)\n",
    "* Support Vector Classifier (linear, polynomial, and rbf kernels)\n",
    "* Random Forest\n",
    "* Adaboost"
   ]
  },
  {
   "cell_type": "code",
   "execution_count": 25,
   "metadata": {},
   "outputs": [],
   "source": [
    "Xtrain, Xtest, Ytrain, Ytest, groups = pipeline.five_way_split(data,\n",
    "                                                       year=2018,\n",
    "                                                       features=features,\n",
    "                                                       target='CS_in_3_months',\n",
    "                                                       grouping='ADMIN1',\n",
    "                                                       binary=True,\n",
    "                                                       binary_threshold=2)"
   ]
  },
  {
   "cell_type": "markdown",
   "metadata": {},
   "source": [
    "### Support Vector Classifier (SVC)"
   ]
  },
  {
   "cell_type": "code",
   "execution_count": 61,
   "metadata": {},
   "outputs": [],
   "source": [
    "svc_pipe = Pipeline([\n",
    "    ('impute', SimpleImputer(strategy='median')),\n",
    "    ('scale', StandardScaler()),\n",
    "    ('svc', SVC())\n",
    "])\n",
    "\n",
    "params = {\n",
    "    'svc__kernel': ('linear', 'poly', 'rbf'),\n",
    "    'svc__C': (0.1, 1, 10),\n",
    "    'svc__degree': (2,)\n",
    "} \n",
    "\n",
    "scores = {\n",
    "          'accuracy': make_scorer(accuracy_score),\n",
    "          'precision': make_scorer(precision_score),\n",
    "          'recall': make_scorer(recall_score)\n",
    "         }\n",
    "\n",
    "gcv = GroupKFold()\n",
    "\n",
    "svc_grid_model = GridSearchCV(estimator=svc_pipe, \n",
    "                          param_grid=params, \n",
    "                          cv=gcv,\n",
    "                          return_train_score=True,\n",
    "                          scoring=scores,\n",
    "                          refit='accuracy')\n",
    "\n",
    "svc_grid_results = svc_grid_model.fit(Xtrain, Ytrain, groups=groups)"
   ]
  },
  {
   "cell_type": "code",
   "execution_count": 62,
   "metadata": {},
   "outputs": [
    {
     "data": {
      "text/html": [
       "<div>\n",
       "<style scoped>\n",
       "    .dataframe tbody tr th:only-of-type {\n",
       "        vertical-align: middle;\n",
       "    }\n",
       "\n",
       "    .dataframe tbody tr th {\n",
       "        vertical-align: top;\n",
       "    }\n",
       "\n",
       "    .dataframe thead th {\n",
       "        text-align: right;\n",
       "    }\n",
       "</style>\n",
       "<table border=\"1\" class=\"dataframe\">\n",
       "  <thead>\n",
       "    <tr style=\"text-align: right;\">\n",
       "      <th></th>\n",
       "      <th>param_svc__kernel</th>\n",
       "      <th>param_svc__C</th>\n",
       "      <th>mean_test_accuracy</th>\n",
       "      <th>mean_test_precision</th>\n",
       "      <th>mean_test_recall</th>\n",
       "    </tr>\n",
       "  </thead>\n",
       "  <tbody>\n",
       "    <tr>\n",
       "      <th>0</th>\n",
       "      <td>linear</td>\n",
       "      <td>0.1</td>\n",
       "      <td>0.760501</td>\n",
       "      <td>0.000000</td>\n",
       "      <td>0.000000</td>\n",
       "    </tr>\n",
       "    <tr>\n",
       "      <th>1</th>\n",
       "      <td>poly</td>\n",
       "      <td>0.1</td>\n",
       "      <td>0.767162</td>\n",
       "      <td>0.606649</td>\n",
       "      <td>0.084096</td>\n",
       "    </tr>\n",
       "    <tr>\n",
       "      <th>2</th>\n",
       "      <td>rbf</td>\n",
       "      <td>0.1</td>\n",
       "      <td>0.760210</td>\n",
       "      <td>0.200000</td>\n",
       "      <td>0.001020</td>\n",
       "    </tr>\n",
       "    <tr>\n",
       "      <th>3</th>\n",
       "      <td>linear</td>\n",
       "      <td>1</td>\n",
       "      <td>0.760501</td>\n",
       "      <td>0.100000</td>\n",
       "      <td>0.010294</td>\n",
       "    </tr>\n",
       "    <tr>\n",
       "      <th>4</th>\n",
       "      <td>poly</td>\n",
       "      <td>1</td>\n",
       "      <td>0.771226</td>\n",
       "      <td>0.600476</td>\n",
       "      <td>0.145133</td>\n",
       "    </tr>\n",
       "    <tr>\n",
       "      <th>5</th>\n",
       "      <td>rbf</td>\n",
       "      <td>1</td>\n",
       "      <td>0.774451</td>\n",
       "      <td>0.621268</td>\n",
       "      <td>0.206847</td>\n",
       "    </tr>\n",
       "    <tr>\n",
       "      <th>6</th>\n",
       "      <td>linear</td>\n",
       "      <td>10</td>\n",
       "      <td>0.760501</td>\n",
       "      <td>0.100000</td>\n",
       "      <td>0.010294</td>\n",
       "    </tr>\n",
       "    <tr>\n",
       "      <th>7</th>\n",
       "      <td>poly</td>\n",
       "      <td>10</td>\n",
       "      <td>0.762808</td>\n",
       "      <td>0.509952</td>\n",
       "      <td>0.180044</td>\n",
       "    </tr>\n",
       "    <tr>\n",
       "      <th>8</th>\n",
       "      <td>rbf</td>\n",
       "      <td>10</td>\n",
       "      <td>0.759630</td>\n",
       "      <td>0.502162</td>\n",
       "      <td>0.248133</td>\n",
       "    </tr>\n",
       "  </tbody>\n",
       "</table>\n",
       "</div>"
      ],
      "text/plain": [
       "  param_svc__kernel param_svc__C  mean_test_accuracy  mean_test_precision  \\\n",
       "0            linear          0.1            0.760501             0.000000   \n",
       "1              poly          0.1            0.767162             0.606649   \n",
       "2               rbf          0.1            0.760210             0.200000   \n",
       "3            linear            1            0.760501             0.100000   \n",
       "4              poly            1            0.771226             0.600476   \n",
       "5               rbf            1            0.774451             0.621268   \n",
       "6            linear           10            0.760501             0.100000   \n",
       "7              poly           10            0.762808             0.509952   \n",
       "8               rbf           10            0.759630             0.502162   \n",
       "\n",
       "   mean_test_recall  \n",
       "0          0.000000  \n",
       "1          0.084096  \n",
       "2          0.001020  \n",
       "3          0.010294  \n",
       "4          0.145133  \n",
       "5          0.206847  \n",
       "6          0.010294  \n",
       "7          0.180044  \n",
       "8          0.248133  "
      ]
     },
     "execution_count": 62,
     "metadata": {},
     "output_type": "execute_result"
    }
   ],
   "source": [
    "pd.DataFrame(svc_grid_results.cv_results_)[['param_svc__kernel', 'param_svc__C', \n",
    "            'mean_test_accuracy', 'mean_test_precision', 'mean_test_recall']]"
   ]
  },
  {
   "cell_type": "code",
   "execution_count": 75,
   "metadata": {},
   "outputs": [
    {
     "name": "stdout",
     "output_type": "stream",
     "text": [
      "Accuracy:\t0.6620498614958449\n",
      "Precision:\t0.6162790697674418\n",
      "Recall:\t\t0.3732394366197183\n",
      "F1 Score:\t0.46491228070175444\n",
      "\n"
     ]
    },
    {
     "data": {
      "image/png": "[encoded data removed]",
      "text/plain": [
       "<Figure size 432x288 with 2 Axes>"
      ]
     },
     "metadata": {
      "needs_background": "light"
     },
     "output_type": "display_data"
    },
    {
     "data": {
      "image/png": "[encoded data removed]",
      "text/plain": [
       "<Figure size 432x288 with 1 Axes>"
      ]
     },
     "metadata": {
      "needs_background": "light"
     },
     "output_type": "display_data"
    },
    {
     "data": {
      "image/png": "[encoded data removed]",
      "text/plain": [
       "<Figure size 432x288 with 1 Axes>"
      ]
     },
     "metadata": {
      "needs_background": "light"
     },
     "output_type": "display_data"
    }
   ],
   "source": [
    "best_svc = svc_grid_results.best_estimator_\n",
    "pipeline.model_eval(best_svc, Xtest, Ytest, model_type='classification')"
   ]
  },
  {
   "cell_type": "markdown",
   "metadata": {},
   "source": [
    "#### Results - SVC\n",
    "The rbf SVC where C=1 appears to perform best. This is a isgnificant improvement on the support vector regression results that provided almost no predictive value. It is possible that by simplifying the prediction problem to a binary classification, our non-linear model is better able to extract patterns in the data and identify correctly those extreme case of food insecurity or case of complete food security."
   ]
  },
  {
   "cell_type": "markdown",
   "metadata": {},
   "source": [
    "### Naive Bayes"
   ]
  },
  {
   "cell_type": "code",
   "execution_count": 46,
   "metadata": {},
   "outputs": [],
   "source": [
    "naive_pipe = Pipeline([\n",
    "    ('impute', SimpleImputer(strategy='median')),\n",
    "    ('scale', StandardScaler()),\n",
    "    ('naive', GaussianNB())\n",
    "])\n",
    "\n",
    "cv_results = cross_validate(naive_pipe,\n",
    "                            Xtrain,\n",
    "                            Ytrain,\n",
    "                            cv=gcv,\n",
    "                            scoring=scores,\n",
    "                            groups=groups\n",
    "                            )"
   ]
  },
  {
   "cell_type": "code",
   "execution_count": 48,
   "metadata": {},
   "outputs": [
    {
     "data": {
      "text/html": [
       "<div>\n",
       "<style scoped>\n",
       "    .dataframe tbody tr th:only-of-type {\n",
       "        vertical-align: middle;\n",
       "    }\n",
       "\n",
       "    .dataframe tbody tr th {\n",
       "        vertical-align: top;\n",
       "    }\n",
       "\n",
       "    .dataframe thead th {\n",
       "        text-align: right;\n",
       "    }\n",
       "</style>\n",
       "<table border=\"1\" class=\"dataframe\">\n",
       "  <thead>\n",
       "    <tr style=\"text-align: right;\">\n",
       "      <th></th>\n",
       "      <th>fit_time</th>\n",
       "      <th>score_time</th>\n",
       "      <th>test_accuracy</th>\n",
       "      <th>test_precision</th>\n",
       "      <th>test_recall</th>\n",
       "    </tr>\n",
       "  </thead>\n",
       "  <tbody>\n",
       "    <tr>\n",
       "      <th>0</th>\n",
       "      <td>0.012430</td>\n",
       "      <td>0.004497</td>\n",
       "      <td>0.820290</td>\n",
       "      <td>0.479339</td>\n",
       "      <td>0.487395</td>\n",
       "    </tr>\n",
       "    <tr>\n",
       "      <th>1</th>\n",
       "      <td>0.013563</td>\n",
       "      <td>0.004125</td>\n",
       "      <td>0.740580</td>\n",
       "      <td>0.546448</td>\n",
       "      <td>0.510204</td>\n",
       "    </tr>\n",
       "    <tr>\n",
       "      <th>2</th>\n",
       "      <td>0.016129</td>\n",
       "      <td>0.003493</td>\n",
       "      <td>0.679710</td>\n",
       "      <td>0.402516</td>\n",
       "      <td>0.336842</td>\n",
       "    </tr>\n",
       "    <tr>\n",
       "      <th>3</th>\n",
       "      <td>0.007806</td>\n",
       "      <td>0.003425</td>\n",
       "      <td>0.695461</td>\n",
       "      <td>0.439614</td>\n",
       "      <td>0.497268</td>\n",
       "    </tr>\n",
       "    <tr>\n",
       "      <th>4</th>\n",
       "      <td>0.007622</td>\n",
       "      <td>0.003614</td>\n",
       "      <td>0.787791</td>\n",
       "      <td>0.460938</td>\n",
       "      <td>0.433824</td>\n",
       "    </tr>\n",
       "  </tbody>\n",
       "</table>\n",
       "</div>"
      ],
      "text/plain": [
       "   fit_time  score_time  test_accuracy  test_precision  test_recall\n",
       "0  0.012430    0.004497       0.820290        0.479339     0.487395\n",
       "1  0.013563    0.004125       0.740580        0.546448     0.510204\n",
       "2  0.016129    0.003493       0.679710        0.402516     0.336842\n",
       "3  0.007806    0.003425       0.695461        0.439614     0.497268\n",
       "4  0.007622    0.003614       0.787791        0.460938     0.433824"
      ]
     },
     "execution_count": 48,
     "metadata": {},
     "output_type": "execute_result"
    }
   ],
   "source": [
    "pd.DataFrame(cv_results)"
   ]
  },
  {
   "cell_type": "code",
   "execution_count": 74,
   "metadata": {},
   "outputs": [
    {
     "name": "stdout",
     "output_type": "stream",
     "text": [
      "Accuracy:\t0.6537396121883656\n",
      "Precision:\t0.5459459459459459\n",
      "Recall:\t\t0.7112676056338029\n",
      "F1 Score:\t0.617737003058104\n",
      "\n"
     ]
    },
    {
     "data": {
      "image/png": "[encoded data removed]",
      "text/plain": [
       "<Figure size 432x288 with 2 Axes>"
      ]
     },
     "metadata": {
      "needs_background": "light"
     },
     "output_type": "display_data"
    },
    {
     "data": {
      "image/png": "[encoded data removed]",
      "text/plain": [
       "<Figure size 432x288 with 1 Axes>"
      ]
     },
     "metadata": {
      "needs_background": "light"
     },
     "output_type": "display_data"
    },
    {
     "data": {
      "image/png": "[encoded data removed]",
      "text/plain": [
       "<Figure size 432x288 with 1 Axes>"
      ]
     },
     "metadata": {
      "needs_background": "light"
     },
     "output_type": "display_data"
    }
   ],
   "source": [
    "naive_model = naive_pipe.fit(Xtrain, Ytrain)\n",
    "pipeline.model_eval(naive_model, Xtest, Ytest, model_type='classification')"
   ]
  },
  {
   "cell_type": "markdown",
   "metadata": {},
   "source": [
    "#### Results - Naive Bayes\n",
    "The high recall on the Naive Bayes model shows some promise even if the overall accuracy isn't very high. It's more important that our model discover those regions that will most need nutritional assistance in the future than that it never overestimates food insecurity for some regions.  \n",
    "Overall performance, the Naive Bayes model appears to do a better job than the best performing support vector machine."
   ]
  },
  {
   "cell_type": "markdown",
   "metadata": {},
   "source": [
    "### Random Forests"
   ]
  },
  {
   "cell_type": "code",
   "execution_count": 58,
   "metadata": {},
   "outputs": [],
   "source": [
    "forest_pipe = Pipeline([\n",
    "    ('impute', SimpleImputer(strategy='median')),\n",
    "    ('forest', RandomForestClassifier(random_state=30254))\n",
    "])\n",
    "\n",
    "params = {\n",
    "    'forest__criterion': ('gini', 'entropy'),\n",
    "    'forest__max_depth': (1, 3, 10), \n",
    "    'forest__n_estimators': (1, 10, 100)\n",
    "}\n",
    "\n",
    "forest_grid_model = GridSearchCV(estimator=forest_pipe, \n",
    "                          param_grid=params, \n",
    "                          cv=gcv,\n",
    "                          return_train_score=True,\n",
    "                          scoring=scores,\n",
    "                          refit='accuracy')\n",
    "\n",
    "forest_grid_results = forest_grid_model.fit(Xtrain, Ytrain, groups=groups)"
   ]
  },
  {
   "cell_type": "code",
   "execution_count": 60,
   "metadata": {},
   "outputs": [
    {
     "data": {
      "text/html": [
       "<div>\n",
       "<style scoped>\n",
       "    .dataframe tbody tr th:only-of-type {\n",
       "        vertical-align: middle;\n",
       "    }\n",
       "\n",
       "    .dataframe tbody tr th {\n",
       "        vertical-align: top;\n",
       "    }\n",
       "\n",
       "    .dataframe thead th {\n",
       "        text-align: right;\n",
       "    }\n",
       "</style>\n",
       "<table border=\"1\" class=\"dataframe\">\n",
       "  <thead>\n",
       "    <tr style=\"text-align: right;\">\n",
       "      <th></th>\n",
       "      <th>param_forest__max_depth</th>\n",
       "      <th>param_forest__criterion</th>\n",
       "      <th>param_forest__n_estimators</th>\n",
       "      <th>mean_test_accuracy</th>\n",
       "      <th>mean_test_precision</th>\n",
       "      <th>mean_test_recall</th>\n",
       "    </tr>\n",
       "  </thead>\n",
       "  <tbody>\n",
       "    <tr>\n",
       "      <th>0</th>\n",
       "      <td>1</td>\n",
       "      <td>gini</td>\n",
       "      <td>1</td>\n",
       "      <td>0.760501</td>\n",
       "      <td>0.000000</td>\n",
       "      <td>0.000000</td>\n",
       "    </tr>\n",
       "    <tr>\n",
       "      <th>1</th>\n",
       "      <td>1</td>\n",
       "      <td>gini</td>\n",
       "      <td>10</td>\n",
       "      <td>0.760501</td>\n",
       "      <td>0.000000</td>\n",
       "      <td>0.000000</td>\n",
       "    </tr>\n",
       "    <tr>\n",
       "      <th>2</th>\n",
       "      <td>1</td>\n",
       "      <td>gini</td>\n",
       "      <td>100</td>\n",
       "      <td>0.760501</td>\n",
       "      <td>0.000000</td>\n",
       "      <td>0.000000</td>\n",
       "    </tr>\n",
       "    <tr>\n",
       "      <th>3</th>\n",
       "      <td>3</td>\n",
       "      <td>gini</td>\n",
       "      <td>1</td>\n",
       "      <td>0.763418</td>\n",
       "      <td>0.359772</td>\n",
       "      <td>0.048324</td>\n",
       "    </tr>\n",
       "    <tr>\n",
       "      <th>4</th>\n",
       "      <td>3</td>\n",
       "      <td>gini</td>\n",
       "      <td>10</td>\n",
       "      <td>0.762527</td>\n",
       "      <td>0.573593</td>\n",
       "      <td>0.049050</td>\n",
       "    </tr>\n",
       "    <tr>\n",
       "      <th>5</th>\n",
       "      <td>3</td>\n",
       "      <td>gini</td>\n",
       "      <td>100</td>\n",
       "      <td>0.765433</td>\n",
       "      <td>0.678244</td>\n",
       "      <td>0.047365</td>\n",
       "    </tr>\n",
       "    <tr>\n",
       "      <th>6</th>\n",
       "      <td>10</td>\n",
       "      <td>gini</td>\n",
       "      <td>1</td>\n",
       "      <td>0.736426</td>\n",
       "      <td>0.454974</td>\n",
       "      <td>0.318718</td>\n",
       "    </tr>\n",
       "    <tr>\n",
       "      <th>7</th>\n",
       "      <td>10</td>\n",
       "      <td>gini</td>\n",
       "      <td>10</td>\n",
       "      <td>0.774722</td>\n",
       "      <td>0.568478</td>\n",
       "      <td>0.255053</td>\n",
       "    </tr>\n",
       "    <tr>\n",
       "      <th>8</th>\n",
       "      <td>10</td>\n",
       "      <td>gini</td>\n",
       "      <td>100</td>\n",
       "      <td>0.773563</td>\n",
       "      <td>0.578215</td>\n",
       "      <td>0.258290</td>\n",
       "    </tr>\n",
       "    <tr>\n",
       "      <th>9</th>\n",
       "      <td>1</td>\n",
       "      <td>entropy</td>\n",
       "      <td>1</td>\n",
       "      <td>0.760501</td>\n",
       "      <td>0.000000</td>\n",
       "      <td>0.000000</td>\n",
       "    </tr>\n",
       "    <tr>\n",
       "      <th>10</th>\n",
       "      <td>1</td>\n",
       "      <td>entropy</td>\n",
       "      <td>10</td>\n",
       "      <td>0.760501</td>\n",
       "      <td>0.000000</td>\n",
       "      <td>0.000000</td>\n",
       "    </tr>\n",
       "    <tr>\n",
       "      <th>11</th>\n",
       "      <td>1</td>\n",
       "      <td>entropy</td>\n",
       "      <td>100</td>\n",
       "      <td>0.760501</td>\n",
       "      <td>0.000000</td>\n",
       "      <td>0.000000</td>\n",
       "    </tr>\n",
       "    <tr>\n",
       "      <th>12</th>\n",
       "      <td>3</td>\n",
       "      <td>entropy</td>\n",
       "      <td>1</td>\n",
       "      <td>0.764869</td>\n",
       "      <td>0.401709</td>\n",
       "      <td>0.043282</td>\n",
       "    </tr>\n",
       "    <tr>\n",
       "      <th>13</th>\n",
       "      <td>3</td>\n",
       "      <td>entropy</td>\n",
       "      <td>10</td>\n",
       "      <td>0.760201</td>\n",
       "      <td>0.507532</td>\n",
       "      <td>0.040560</td>\n",
       "    </tr>\n",
       "    <tr>\n",
       "      <th>14</th>\n",
       "      <td>3</td>\n",
       "      <td>entropy</td>\n",
       "      <td>100</td>\n",
       "      <td>0.765430</td>\n",
       "      <td>0.656731</td>\n",
       "      <td>0.037375</td>\n",
       "    </tr>\n",
       "    <tr>\n",
       "      <th>15</th>\n",
       "      <td>10</td>\n",
       "      <td>entropy</td>\n",
       "      <td>1</td>\n",
       "      <td>0.724842</td>\n",
       "      <td>0.439884</td>\n",
       "      <td>0.287441</td>\n",
       "    </tr>\n",
       "    <tr>\n",
       "      <th>16</th>\n",
       "      <td>10</td>\n",
       "      <td>entropy</td>\n",
       "      <td>10</td>\n",
       "      <td>0.757860</td>\n",
       "      <td>0.526006</td>\n",
       "      <td>0.274584</td>\n",
       "    </tr>\n",
       "    <tr>\n",
       "      <th>17</th>\n",
       "      <td>10</td>\n",
       "      <td>entropy</td>\n",
       "      <td>100</td>\n",
       "      <td>0.774448</td>\n",
       "      <td>0.590176</td>\n",
       "      <td>0.246443</td>\n",
       "    </tr>\n",
       "  </tbody>\n",
       "</table>\n",
       "</div>"
      ],
      "text/plain": [
       "   param_forest__max_depth param_forest__criterion param_forest__n_estimators  \\\n",
       "0                        1                    gini                          1   \n",
       "1                        1                    gini                         10   \n",
       "2                        1                    gini                        100   \n",
       "3                        3                    gini                          1   \n",
       "4                        3                    gini                         10   \n",
       "5                        3                    gini                        100   \n",
       "6                       10                    gini                          1   \n",
       "7                       10                    gini                         10   \n",
       "8                       10                    gini                        100   \n",
       "9                        1                 entropy                          1   \n",
       "10                       1                 entropy                         10   \n",
       "11                       1                 entropy                        100   \n",
       "12                       3                 entropy                          1   \n",
       "13                       3                 entropy                         10   \n",
       "14                       3                 entropy                        100   \n",
       "15                      10                 entropy                          1   \n",
       "16                      10                 entropy                         10   \n",
       "17                      10                 entropy                        100   \n",
       "\n",
       "    mean_test_accuracy  mean_test_precision  mean_test_recall  \n",
       "0             0.760501             0.000000          0.000000  \n",
       "1             0.760501             0.000000          0.000000  \n",
       "2             0.760501             0.000000          0.000000  \n",
       "3             0.763418             0.359772          0.048324  \n",
       "4             0.762527             0.573593          0.049050  \n",
       "5             0.765433             0.678244          0.047365  \n",
       "6             0.736426             0.454974          0.318718  \n",
       "7             0.774722             0.568478          0.255053  \n",
       "8             0.773563             0.578215          0.258290  \n",
       "9             0.760501             0.000000          0.000000  \n",
       "10            0.760501             0.000000          0.000000  \n",
       "11            0.760501             0.000000          0.000000  \n",
       "12            0.764869             0.401709          0.043282  \n",
       "13            0.760201             0.507532          0.040560  \n",
       "14            0.765430             0.656731          0.037375  \n",
       "15            0.724842             0.439884          0.287441  \n",
       "16            0.757860             0.526006          0.274584  \n",
       "17            0.774448             0.590176          0.246443  "
      ]
     },
     "execution_count": 60,
     "metadata": {},
     "output_type": "execute_result"
    }
   ],
   "source": [
    "pd.DataFrame(forest_grid_results.cv_results_)[['param_forest__max_depth', \n",
    "                                               'param_forest__criterion',\n",
    "                                               'param_forest__n_estimators',\n",
    "                                               'mean_test_accuracy', 'mean_test_precision', \n",
    "                                               'mean_test_recall']]"
   ]
  },
  {
   "cell_type": "code",
   "execution_count": 73,
   "metadata": {},
   "outputs": [
    {
     "name": "stdout",
     "output_type": "stream",
     "text": [
      "Accuracy:\t0.6759002770083102\n",
      "Precision:\t0.654320987654321\n",
      "Recall:\t\t0.3732394366197183\n",
      "F1 Score:\t0.4753363228699552\n",
      "\n"
     ]
    },
    {
     "data": {
      "image/png": "[encoded data removed]",
      "text/plain": [
       "<Figure size 432x288 with 2 Axes>"
      ]
     },
     "metadata": {
      "needs_background": "light"
     },
     "output_type": "display_data"
    },
    {
     "data": {
      "image/png": "[encoded data removed]",
      "text/plain": [
       "<Figure size 432x288 with 1 Axes>"
      ]
     },
     "metadata": {
      "needs_background": "light"
     },
     "output_type": "display_data"
    },
    {
     "data": {
      "image/png": "[encoded data removed]",
      "text/plain": [
       "<Figure size 432x288 with 1 Axes>"
      ]
     },
     "metadata": {
      "needs_background": "light"
     },
     "output_type": "display_data"
    }
   ],
   "source": [
    "best_forest = forest_grid_results.best_estimator_\n",
    "pipeline.model_eval(best_forest, Xtest, Ytest, model_type='classification')"
   ]
  },
  {
   "cell_type": "code",
   "execution_count": 70,
   "metadata": {},
   "outputs": [
    {
     "data": {
      "image/png": "[encoded data removed]",
      "text/plain": [
       "<Figure size 720x432 with 1 Axes>"
      ]
     },
     "metadata": {
      "needs_background": "light"
     },
     "output_type": "display_data"
    }
   ],
   "source": [
    "pipeline.feature_importance(best_forest['forest'],\n",
    "                            labels=Xtrain.columns.values,\n",
    "                            type='tree')"
   ]
  },
  {
   "cell_type": "markdown",
   "metadata": {},
   "source": [
    "#### Results - Random Forest\n",
    "The random forest show modest improvement upon the Naive Bayes model in both precision and overall accuracy; however, the recall of the forest model is defficient when compared to the results of the Naive Bayes model. Considering that we prefer to favor recall in this context, we would advise using the Naive Bayes model over this alternative.  \n",
    "  \n",
    "Interestingly, while the random forest regressor only used the number of battle events in a region to make predictions, this random forest classifier, makes use of all the features for its predictions."
   ]
  },
  {
   "cell_type": "markdown",
   "metadata": {},
   "source": [
    "### Adaboost"
   ]
  },
  {
   "cell_type": "code",
   "execution_count": 68,
   "metadata": {},
   "outputs": [],
   "source": [
    "boost_pipe = Pipeline([\n",
    "    ('impute', SimpleImputer(strategy='median')),\n",
    "    ('boost', AdaBoostClassifier(random_state=30254))\n",
    "])\n",
    "\n",
    "params = {\n",
    "    'boost__n_estimators': (10, 50, 100),\n",
    "    'boost__learning_rate': (0.1, 1, 10)\n",
    "}\n",
    "\n",
    "boost_grid_model = GridSearchCV(estimator=boost_pipe, \n",
    "                          param_grid=params, \n",
    "                          cv=gcv,\n",
    "                          return_train_score=True,\n",
    "                          scoring=scores,\n",
    "                          refit='accuracy')\n",
    "\n",
    "boost_grid_results = boost_grid_model.fit(Xtrain, Ytrain, groups=groups)"
   ]
  },
  {
   "cell_type": "code",
   "execution_count": 69,
   "metadata": {},
   "outputs": [
    {
     "data": {
      "text/html": [
       "<div>\n",
       "<style scoped>\n",
       "    .dataframe tbody tr th:only-of-type {\n",
       "        vertical-align: middle;\n",
       "    }\n",
       "\n",
       "    .dataframe tbody tr th {\n",
       "        vertical-align: top;\n",
       "    }\n",
       "\n",
       "    .dataframe thead th {\n",
       "        text-align: right;\n",
       "    }\n",
       "</style>\n",
       "<table border=\"1\" class=\"dataframe\">\n",
       "  <thead>\n",
       "    <tr style=\"text-align: right;\">\n",
       "      <th></th>\n",
       "      <th>param_boost__n_estimators</th>\n",
       "      <th>param_boost__learning_rate</th>\n",
       "      <th>mean_test_accuracy</th>\n",
       "      <th>mean_test_precision</th>\n",
       "      <th>mean_test_recall</th>\n",
       "    </tr>\n",
       "  </thead>\n",
       "  <tbody>\n",
       "    <tr>\n",
       "      <th>0</th>\n",
       "      <td>10</td>\n",
       "      <td>0.1</td>\n",
       "      <td>0.760501</td>\n",
       "      <td>0.000000</td>\n",
       "      <td>0.000000</td>\n",
       "    </tr>\n",
       "    <tr>\n",
       "      <th>1</th>\n",
       "      <td>50</td>\n",
       "      <td>0.1</td>\n",
       "      <td>0.765119</td>\n",
       "      <td>0.655830</td>\n",
       "      <td>0.050150</td>\n",
       "    </tr>\n",
       "    <tr>\n",
       "      <th>2</th>\n",
       "      <td>100</td>\n",
       "      <td>0.1</td>\n",
       "      <td>0.758171</td>\n",
       "      <td>0.553303</td>\n",
       "      <td>0.156564</td>\n",
       "    </tr>\n",
       "    <tr>\n",
       "      <th>3</th>\n",
       "      <td>10</td>\n",
       "      <td>1</td>\n",
       "      <td>0.756692</td>\n",
       "      <td>0.528625</td>\n",
       "      <td>0.288203</td>\n",
       "    </tr>\n",
       "    <tr>\n",
       "      <th>4</th>\n",
       "      <td>50</td>\n",
       "      <td>1</td>\n",
       "      <td>0.766621</td>\n",
       "      <td>0.550183</td>\n",
       "      <td>0.302086</td>\n",
       "    </tr>\n",
       "    <tr>\n",
       "      <th>5</th>\n",
       "      <td>100</td>\n",
       "      <td>1</td>\n",
       "      <td>0.768378</td>\n",
       "      <td>0.551763</td>\n",
       "      <td>0.323903</td>\n",
       "    </tr>\n",
       "    <tr>\n",
       "      <th>6</th>\n",
       "      <td>10</td>\n",
       "      <td>10</td>\n",
       "      <td>0.239499</td>\n",
       "      <td>0.239499</td>\n",
       "      <td>1.000000</td>\n",
       "    </tr>\n",
       "    <tr>\n",
       "      <th>7</th>\n",
       "      <td>50</td>\n",
       "      <td>10</td>\n",
       "      <td>0.239499</td>\n",
       "      <td>0.239499</td>\n",
       "      <td>1.000000</td>\n",
       "    </tr>\n",
       "    <tr>\n",
       "      <th>8</th>\n",
       "      <td>100</td>\n",
       "      <td>10</td>\n",
       "      <td>0.239499</td>\n",
       "      <td>0.239499</td>\n",
       "      <td>1.000000</td>\n",
       "    </tr>\n",
       "  </tbody>\n",
       "</table>\n",
       "</div>"
      ],
      "text/plain": [
       "  param_boost__n_estimators param_boost__learning_rate  mean_test_accuracy  \\\n",
       "0                        10                        0.1            0.760501   \n",
       "1                        50                        0.1            0.765119   \n",
       "2                       100                        0.1            0.758171   \n",
       "3                        10                          1            0.756692   \n",
       "4                        50                          1            0.766621   \n",
       "5                       100                          1            0.768378   \n",
       "6                        10                         10            0.239499   \n",
       "7                        50                         10            0.239499   \n",
       "8                       100                         10            0.239499   \n",
       "\n",
       "   mean_test_precision  mean_test_recall  \n",
       "0             0.000000          0.000000  \n",
       "1             0.655830          0.050150  \n",
       "2             0.553303          0.156564  \n",
       "3             0.528625          0.288203  \n",
       "4             0.550183          0.302086  \n",
       "5             0.551763          0.323903  \n",
       "6             0.239499          1.000000  \n",
       "7             0.239499          1.000000  \n",
       "8             0.239499          1.000000  "
      ]
     },
     "execution_count": 69,
     "metadata": {},
     "output_type": "execute_result"
    }
   ],
   "source": [
    "pd.DataFrame(boost_grid_results.cv_results_)[['param_boost__n_estimators',\n",
    "                                              'param_boost__learning_rate',\n",
    "                                              'mean_test_accuracy', 'mean_test_precision',\n",
    "                                              'mean_test_recall']]"
   ]
  },
  {
   "cell_type": "code",
   "execution_count": 72,
   "metadata": {},
   "outputs": [
    {
     "name": "stdout",
     "output_type": "stream",
     "text": [
      "Accuracy:\t0.667590027700831\n",
      "Precision:\t0.5982142857142857\n",
      "Recall:\t\t0.47183098591549294\n",
      "F1 Score:\t0.5275590551181103\n",
      "\n"
     ]
    },
    {
     "data": {
      "image/png": "[encoded data removed]",
      "text/plain": [
       "<Figure size 432x288 with 2 Axes>"
      ]
     },
     "metadata": {
      "needs_background": "light"
     },
     "output_type": "display_data"
    },
    {
     "data": {
      "image/png": "[encoded data removed]",
      "text/plain": [
       "<Figure size 432x288 with 1 Axes>"
      ]
     },
     "metadata": {
      "needs_background": "light"
     },
     "output_type": "display_data"
    },
    {
     "data": {
      "image/png": "[encoded data removed]",
      "text/plain": [
       "<Figure size 432x288 with 1 Axes>"
      ]
     },
     "metadata": {
      "needs_background": "light"
     },
     "output_type": "display_data"
    }
   ],
   "source": [
    "best_boost = boost_grid_results.best_estimator_\n",
    "pipeline.model_eval(best_boost, Xtest, Ytest, model_type='classification')"
   ]
  },
  {
   "cell_type": "markdown",
   "metadata": {},
   "source": [
    "#### Results - Adaboost\n",
    "The performance of our Adaboost model was similar to that of the random forest. However, the ADaboost performance appeared to favor recall somewhat over precision when compare to the random forest. Nonetheless, the results of the Adaboost are inferior to the Naive Bayes model above."
   ]
  },
  {
   "cell_type": "markdown",
   "metadata": {},
   "source": [
    "### K-Neighbors"
   ]
  },
  {
   "cell_type": "code",
   "execution_count": 101,
   "metadata": {},
   "outputs": [],
   "source": [
    "knn_pipe = Pipeline([\n",
    "    ('impute', SimpleImputer(strategy='median')),\n",
    "    ('scale', StandardScaler()),\n",
    "    ('knn', KNeighborsClassifier())\n",
    "])\n",
    "\n",
    "params = {\n",
    "    'knn__n_neighbors': (3, 5, 10, 30),\n",
    "    'knn__weights': ('uniform', 'distance'),\n",
    "    'knn__metric': ('euclidean', 'manhattan')\n",
    "}\n",
    "\n",
    "knn_grid_model = GridSearchCV(estimator=knn_pipe, \n",
    "                          param_grid=params, \n",
    "                          cv=gcv,\n",
    "                          return_train_score=True,\n",
    "                          scoring=scores,\n",
    "                          refit='accuracy')\n",
    "\n",
    "knn_grid_results = knn_grid_model.fit(Xtrain, Ytrain, groups=groups)"
   ]
  },
  {
   "cell_type": "code",
   "execution_count": 102,
   "metadata": {},
   "outputs": [
    {
     "data": {
      "text/html": [
       "<div>\n",
       "<style scoped>\n",
       "    .dataframe tbody tr th:only-of-type {\n",
       "        vertical-align: middle;\n",
       "    }\n",
       "\n",
       "    .dataframe tbody tr th {\n",
       "        vertical-align: top;\n",
       "    }\n",
       "\n",
       "    .dataframe thead th {\n",
       "        text-align: right;\n",
       "    }\n",
       "</style>\n",
       "<table border=\"1\" class=\"dataframe\">\n",
       "  <thead>\n",
       "    <tr style=\"text-align: right;\">\n",
       "      <th></th>\n",
       "      <th>param_knn__n_neighbors</th>\n",
       "      <th>param_knn__weights</th>\n",
       "      <th>param_knn__metric</th>\n",
       "      <th>mean_test_accuracy</th>\n",
       "      <th>mean_test_precision</th>\n",
       "      <th>mean_test_recall</th>\n",
       "    </tr>\n",
       "  </thead>\n",
       "  <tbody>\n",
       "    <tr>\n",
       "      <th>0</th>\n",
       "      <td>3</td>\n",
       "      <td>uniform</td>\n",
       "      <td>euclidean</td>\n",
       "      <td>0.668546</td>\n",
       "      <td>0.367459</td>\n",
       "      <td>0.443144</td>\n",
       "    </tr>\n",
       "    <tr>\n",
       "      <th>1</th>\n",
       "      <td>3</td>\n",
       "      <td>distance</td>\n",
       "      <td>euclidean</td>\n",
       "      <td>0.674628</td>\n",
       "      <td>0.366275</td>\n",
       "      <td>0.439938</td>\n",
       "    </tr>\n",
       "    <tr>\n",
       "      <th>2</th>\n",
       "      <td>5</td>\n",
       "      <td>uniform</td>\n",
       "      <td>euclidean</td>\n",
       "      <td>0.721914</td>\n",
       "      <td>0.422788</td>\n",
       "      <td>0.381030</td>\n",
       "    </tr>\n",
       "    <tr>\n",
       "      <th>3</th>\n",
       "      <td>5</td>\n",
       "      <td>distance</td>\n",
       "      <td>euclidean</td>\n",
       "      <td>0.718710</td>\n",
       "      <td>0.414766</td>\n",
       "      <td>0.378435</td>\n",
       "    </tr>\n",
       "    <tr>\n",
       "      <th>4</th>\n",
       "      <td>10</td>\n",
       "      <td>uniform</td>\n",
       "      <td>euclidean</td>\n",
       "      <td>0.740468</td>\n",
       "      <td>0.460819</td>\n",
       "      <td>0.299951</td>\n",
       "    </tr>\n",
       "    <tr>\n",
       "      <th>5</th>\n",
       "      <td>10</td>\n",
       "      <td>distance</td>\n",
       "      <td>euclidean</td>\n",
       "      <td>0.732349</td>\n",
       "      <td>0.445724</td>\n",
       "      <td>0.383243</td>\n",
       "    </tr>\n",
       "    <tr>\n",
       "      <th>6</th>\n",
       "      <td>30</td>\n",
       "      <td>uniform</td>\n",
       "      <td>euclidean</td>\n",
       "      <td>0.757605</td>\n",
       "      <td>0.507167</td>\n",
       "      <td>0.223815</td>\n",
       "    </tr>\n",
       "    <tr>\n",
       "      <th>7</th>\n",
       "      <td>30</td>\n",
       "      <td>distance</td>\n",
       "      <td>euclidean</td>\n",
       "      <td>0.745986</td>\n",
       "      <td>0.475587</td>\n",
       "      <td>0.322412</td>\n",
       "    </tr>\n",
       "    <tr>\n",
       "      <th>8</th>\n",
       "      <td>3</td>\n",
       "      <td>uniform</td>\n",
       "      <td>manhattan</td>\n",
       "      <td>0.669100</td>\n",
       "      <td>0.366477</td>\n",
       "      <td>0.453513</td>\n",
       "    </tr>\n",
       "    <tr>\n",
       "      <th>9</th>\n",
       "      <td>3</td>\n",
       "      <td>distance</td>\n",
       "      <td>manhattan</td>\n",
       "      <td>0.675769</td>\n",
       "      <td>0.367250</td>\n",
       "      <td>0.451102</td>\n",
       "    </tr>\n",
       "    <tr>\n",
       "      <th>10</th>\n",
       "      <td>5</td>\n",
       "      <td>uniform</td>\n",
       "      <td>manhattan</td>\n",
       "      <td>0.730333</td>\n",
       "      <td>0.440862</td>\n",
       "      <td>0.398396</td>\n",
       "    </tr>\n",
       "    <tr>\n",
       "      <th>11</th>\n",
       "      <td>5</td>\n",
       "      <td>distance</td>\n",
       "      <td>manhattan</td>\n",
       "      <td>0.727133</td>\n",
       "      <td>0.433119</td>\n",
       "      <td>0.402987</td>\n",
       "    </tr>\n",
       "    <tr>\n",
       "      <th>12</th>\n",
       "      <td>10</td>\n",
       "      <td>uniform</td>\n",
       "      <td>manhattan</td>\n",
       "      <td>0.748326</td>\n",
       "      <td>0.487953</td>\n",
       "      <td>0.304034</td>\n",
       "    </tr>\n",
       "    <tr>\n",
       "      <th>13</th>\n",
       "      <td>10</td>\n",
       "      <td>distance</td>\n",
       "      <td>manhattan</td>\n",
       "      <td>0.736420</td>\n",
       "      <td>0.457251</td>\n",
       "      <td>0.385350</td>\n",
       "    </tr>\n",
       "    <tr>\n",
       "      <th>14</th>\n",
       "      <td>30</td>\n",
       "      <td>uniform</td>\n",
       "      <td>manhattan</td>\n",
       "      <td>0.759362</td>\n",
       "      <td>0.512203</td>\n",
       "      <td>0.221344</td>\n",
       "    </tr>\n",
       "    <tr>\n",
       "      <th>15</th>\n",
       "      <td>30</td>\n",
       "      <td>distance</td>\n",
       "      <td>manhattan</td>\n",
       "      <td>0.748884</td>\n",
       "      <td>0.488017</td>\n",
       "      <td>0.330294</td>\n",
       "    </tr>\n",
       "  </tbody>\n",
       "</table>\n",
       "</div>"
      ],
      "text/plain": [
       "   param_knn__n_neighbors param_knn__weights param_knn__metric  \\\n",
       "0                       3            uniform         euclidean   \n",
       "1                       3           distance         euclidean   \n",
       "2                       5            uniform         euclidean   \n",
       "3                       5           distance         euclidean   \n",
       "4                      10            uniform         euclidean   \n",
       "5                      10           distance         euclidean   \n",
       "6                      30            uniform         euclidean   \n",
       "7                      30           distance         euclidean   \n",
       "8                       3            uniform         manhattan   \n",
       "9                       3           distance         manhattan   \n",
       "10                      5            uniform         manhattan   \n",
       "11                      5           distance         manhattan   \n",
       "12                     10            uniform         manhattan   \n",
       "13                     10           distance         manhattan   \n",
       "14                     30            uniform         manhattan   \n",
       "15                     30           distance         manhattan   \n",
       "\n",
       "    mean_test_accuracy  mean_test_precision  mean_test_recall  \n",
       "0             0.668546             0.367459          0.443144  \n",
       "1             0.674628             0.366275          0.439938  \n",
       "2             0.721914             0.422788          0.381030  \n",
       "3             0.718710             0.414766          0.378435  \n",
       "4             0.740468             0.460819          0.299951  \n",
       "5             0.732349             0.445724          0.383243  \n",
       "6             0.757605             0.507167          0.223815  \n",
       "7             0.745986             0.475587          0.322412  \n",
       "8             0.669100             0.366477          0.453513  \n",
       "9             0.675769             0.367250          0.451102  \n",
       "10            0.730333             0.440862          0.398396  \n",
       "11            0.727133             0.433119          0.402987  \n",
       "12            0.748326             0.487953          0.304034  \n",
       "13            0.736420             0.457251          0.385350  \n",
       "14            0.759362             0.512203          0.221344  \n",
       "15            0.748884             0.488017          0.330294  "
      ]
     },
     "execution_count": 102,
     "metadata": {},
     "output_type": "execute_result"
    }
   ],
   "source": [
    "pd.DataFrame(knn_grid_results.cv_results_)[['param_knn__n_neighbors',\n",
    "                                              'param_knn__weights', 'param_knn__metric',\n",
    "                                              'mean_test_accuracy', 'mean_test_precision',\n",
    "                                              'mean_test_recall']]"
   ]
  },
  {
   "cell_type": "code",
   "execution_count": 104,
   "metadata": {},
   "outputs": [
    {
     "data": {
      "text/plain": [
       "{'algorithm': 'auto',\n",
       " 'leaf_size': 30,\n",
       " 'metric': 'manhattan',\n",
       " 'metric_params': None,\n",
       " 'n_jobs': None,\n",
       " 'n_neighbors': 30,\n",
       " 'p': 2,\n",
       " 'weights': 'uniform'}"
      ]
     },
     "execution_count": 104,
     "metadata": {},
     "output_type": "execute_result"
    }
   ],
   "source": [
    "best_knn = knn_grid_results.best_estimator_\n",
    "best_knn['knn'].get_params()"
   ]
  },
  {
   "cell_type": "code",
   "execution_count": 103,
   "metadata": {},
   "outputs": [
    {
     "name": "stdout",
     "output_type": "stream",
     "text": [
      "Accuracy:\t0.6537396121883656\n",
      "Precision:\t0.5934065934065934\n",
      "Recall:\t\t0.38028169014084506\n",
      "F1 Score:\t0.463519313304721\n",
      "\n"
     ]
    },
    {
     "data": {
      "image/png": "[encoded data removed]",
      "text/plain": [
       "<Figure size 432x288 with 2 Axes>"
      ]
     },
     "metadata": {
      "needs_background": "light"
     },
     "output_type": "display_data"
    },
    {
     "data": {
      "image/png": "[encoded data removed]",
      "text/plain": [
       "<Figure size 432x288 with 1 Axes>"
      ]
     },
     "metadata": {
      "needs_background": "light"
     },
     "output_type": "display_data"
    },
    {
     "data": {
      "image/png": "[encoded data removed]",
      "text/plain": [
       "<Figure size 432x288 with 1 Axes>"
      ]
     },
     "metadata": {
      "needs_background": "light"
     },
     "output_type": "display_data"
    }
   ],
   "source": [
    "pipeline.model_eval(best_knn, Xtest, Ytest, model_type='classification')"
   ]
  },
  {
   "cell_type": "markdown",
   "metadata": {},
   "source": [
    "#### Results - KNN\n",
    "The best performing KNN used manhattan distance weighted uniformly and a rather large number of neighbors — 30. All versions of this model had comparitively low recall, so we do not advise future use."
   ]
  },
  {
   "cell_type": "markdown",
   "metadata": {},
   "source": [
    "## 1-month Predictions with Naive Bayes"
   ]
  },
  {
   "cell_type": "code",
   "execution_count": 93,
   "metadata": {},
   "outputs": [
    {
     "data": {
      "text/html": [
       "<div>\n",
       "<style scoped>\n",
       "    .dataframe tbody tr th:only-of-type {\n",
       "        vertical-align: middle;\n",
       "    }\n",
       "\n",
       "    .dataframe tbody tr th {\n",
       "        vertical-align: top;\n",
       "    }\n",
       "\n",
       "    .dataframe thead th {\n",
       "        text-align: right;\n",
       "    }\n",
       "</style>\n",
       "<table border=\"1\" class=\"dataframe\">\n",
       "  <thead>\n",
       "    <tr style=\"text-align: right;\">\n",
       "      <th></th>\n",
       "      <th>fit_time</th>\n",
       "      <th>score_time</th>\n",
       "      <th>test_accuracy</th>\n",
       "      <th>test_precision</th>\n",
       "      <th>test_recall</th>\n",
       "    </tr>\n",
       "  </thead>\n",
       "  <tbody>\n",
       "    <tr>\n",
       "      <th>0</th>\n",
       "      <td>0.007273</td>\n",
       "      <td>0.003706</td>\n",
       "      <td>0.580931</td>\n",
       "      <td>0.439024</td>\n",
       "      <td>0.818182</td>\n",
       "    </tr>\n",
       "    <tr>\n",
       "      <th>1</th>\n",
       "      <td>0.006586</td>\n",
       "      <td>0.003985</td>\n",
       "      <td>0.577778</td>\n",
       "      <td>0.416667</td>\n",
       "      <td>0.798611</td>\n",
       "    </tr>\n",
       "    <tr>\n",
       "      <th>2</th>\n",
       "      <td>0.006631</td>\n",
       "      <td>0.004086</td>\n",
       "      <td>0.580000</td>\n",
       "      <td>0.446494</td>\n",
       "      <td>0.756250</td>\n",
       "    </tr>\n",
       "    <tr>\n",
       "      <th>3</th>\n",
       "      <td>0.006657</td>\n",
       "      <td>0.003610</td>\n",
       "      <td>0.528889</td>\n",
       "      <td>0.253731</td>\n",
       "      <td>0.850000</td>\n",
       "    </tr>\n",
       "    <tr>\n",
       "      <th>4</th>\n",
       "      <td>0.014212</td>\n",
       "      <td>0.006270</td>\n",
       "      <td>0.360000</td>\n",
       "      <td>0.268293</td>\n",
       "      <td>0.846154</td>\n",
       "    </tr>\n",
       "  </tbody>\n",
       "</table>\n",
       "</div>"
      ],
      "text/plain": [
       "   fit_time  score_time  test_accuracy  test_precision  test_recall\n",
       "0  0.007273    0.003706       0.580931        0.439024     0.818182\n",
       "1  0.006586    0.003985       0.577778        0.416667     0.798611\n",
       "2  0.006631    0.004086       0.580000        0.446494     0.756250\n",
       "3  0.006657    0.003610       0.528889        0.253731     0.850000\n",
       "4  0.014212    0.006270       0.360000        0.268293     0.846154"
      ]
     },
     "execution_count": 93,
     "metadata": {},
     "output_type": "execute_result"
    }
   ],
   "source": [
    "Xtrain1, Xtest1, Ytrain1, Ytest1, groups1 = pipeline.five_way_split(data,\n",
    "                                                       year=2018,\n",
    "                                                       features=features,\n",
    "                                                       target='CS_in_1_month',\n",
    "                                                       grouping='ADMIN1',\n",
    "                                                       binary=True,\n",
    "                                                       binary_threshold=2)\n",
    "\n",
    "cv_results1 = cross_validate(naive_pipe,\n",
    "                            Xtrain1,\n",
    "                            Ytrain1,\n",
    "                            cv=gcv,\n",
    "                            scoring=scores,\n",
    "                            groups=groups1\n",
    "                            )\n",
    "\n",
    "pd.DataFrame(cv_results1)"
   ]
  },
  {
   "cell_type": "code",
   "execution_count": 106,
   "metadata": {},
   "outputs": [
    {
     "name": "stdout",
     "output_type": "stream",
     "text": [
      "Accuracy:\t0.566079295154185\n",
      "Precision:\t0.4634920634920635\n",
      "Recall:\t\t0.8390804597701149\n",
      "F1 Score:\t0.5971370143149284\n",
      "\n"
     ]
    },
    {
     "data": {
      "image/png": "[encoded data removed]",
      "text/plain": [
       "<Figure size 432x288 with 2 Axes>"
      ]
     },
     "metadata": {
      "needs_background": "light"
     },
     "output_type": "display_data"
    },
    {
     "data": {
      "image/png": "[encoded data removed]",
      "text/plain": [
       "<Figure size 432x288 with 1 Axes>"
      ]
     },
     "metadata": {
      "needs_background": "light"
     },
     "output_type": "display_data"
    },
    {
     "data": {
      "image/png": "[encoded data removed]",
      "text/plain": [
       "<Figure size 432x288 with 1 Axes>"
      ]
     },
     "metadata": {
      "needs_background": "light"
     },
     "output_type": "display_data"
    }
   ],
   "source": [
    "naive_pipe.fit(Xtrain1, Ytrain1)\n",
    "pipeline.model_eval(naive_pipe, Xtest1, Ytest1, model_type='classification')"
   ]
  },
  {
   "cell_type": "markdown",
   "metadata": {},
   "source": [
    "## 2-month Predictions with Naive Bayes"
   ]
  },
  {
   "cell_type": "code",
   "execution_count": 105,
   "metadata": {},
   "outputs": [
    {
     "data": {
      "text/html": [
       "<div>\n",
       "<style scoped>\n",
       "    .dataframe tbody tr th:only-of-type {\n",
       "        vertical-align: middle;\n",
       "    }\n",
       "\n",
       "    .dataframe tbody tr th {\n",
       "        vertical-align: top;\n",
       "    }\n",
       "\n",
       "    .dataframe thead th {\n",
       "        text-align: right;\n",
       "    }\n",
       "</style>\n",
       "<table border=\"1\" class=\"dataframe\">\n",
       "  <thead>\n",
       "    <tr style=\"text-align: right;\">\n",
       "      <th></th>\n",
       "      <th>fit_time</th>\n",
       "      <th>score_time</th>\n",
       "      <th>test_accuracy</th>\n",
       "      <th>test_precision</th>\n",
       "      <th>test_recall</th>\n",
       "    </tr>\n",
       "  </thead>\n",
       "  <tbody>\n",
       "    <tr>\n",
       "      <th>0</th>\n",
       "      <td>0.008751</td>\n",
       "      <td>0.005586</td>\n",
       "      <td>0.682119</td>\n",
       "      <td>0.454106</td>\n",
       "      <td>0.752000</td>\n",
       "    </tr>\n",
       "    <tr>\n",
       "      <th>1</th>\n",
       "      <td>0.007182</td>\n",
       "      <td>0.004291</td>\n",
       "      <td>0.632743</td>\n",
       "      <td>0.440741</td>\n",
       "      <td>0.888060</td>\n",
       "    </tr>\n",
       "    <tr>\n",
       "      <th>2</th>\n",
       "      <td>0.007249</td>\n",
       "      <td>0.004223</td>\n",
       "      <td>0.547461</td>\n",
       "      <td>0.401544</td>\n",
       "      <td>0.675325</td>\n",
       "    </tr>\n",
       "    <tr>\n",
       "      <th>3</th>\n",
       "      <td>0.006579</td>\n",
       "      <td>0.004065</td>\n",
       "      <td>0.596026</td>\n",
       "      <td>0.392857</td>\n",
       "      <td>0.767442</td>\n",
       "    </tr>\n",
       "    <tr>\n",
       "      <th>4</th>\n",
       "      <td>0.010848</td>\n",
       "      <td>0.006102</td>\n",
       "      <td>0.632743</td>\n",
       "      <td>0.423729</td>\n",
       "      <td>0.539568</td>\n",
       "    </tr>\n",
       "  </tbody>\n",
       "</table>\n",
       "</div>"
      ],
      "text/plain": [
       "   fit_time  score_time  test_accuracy  test_precision  test_recall\n",
       "0  0.008751    0.005586       0.682119        0.454106     0.752000\n",
       "1  0.007182    0.004291       0.632743        0.440741     0.888060\n",
       "2  0.007249    0.004223       0.547461        0.401544     0.675325\n",
       "3  0.006579    0.004065       0.596026        0.392857     0.767442\n",
       "4  0.010848    0.006102       0.632743        0.423729     0.539568"
      ]
     },
     "execution_count": 105,
     "metadata": {},
     "output_type": "execute_result"
    }
   ],
   "source": [
    "Xtrain2, Xtest2, Ytrain2, Ytest2, groups2 = pipeline.five_way_split(data,\n",
    "                                                       year=2018,\n",
    "                                                       features=features,\n",
    "                                                       target='CS_in_2_months',\n",
    "                                                       grouping='ADMIN1',\n",
    "                                                       binary=True,\n",
    "                                                       binary_threshold=2)\n",
    "\n",
    "cv_results2 = cross_validate(naive_pipe,\n",
    "                            Xtrain2,\n",
    "                            Ytrain2,\n",
    "                            cv=gcv,\n",
    "                            scoring=scores,\n",
    "                            groups=groups2\n",
    "                            )\n",
    "\n",
    "pd.DataFrame(cv_results2)"
   ]
  },
  {
   "cell_type": "code",
   "execution_count": 107,
   "metadata": {},
   "outputs": [
    {
     "name": "stdout",
     "output_type": "stream",
     "text": [
      "Accuracy:\t0.5577889447236181\n",
      "Precision:\t0.44866920152091255\n",
      "Recall:\t\t0.7919463087248322\n",
      "F1 Score:\t0.5728155339805825\n",
      "\n"
     ]
    },
    {
     "data": {
      "image/png": "[encoded data removed]",
      "text/plain": [
       "<Figure size 432x288 with 2 Axes>"
      ]
     },
     "metadata": {
      "needs_background": "light"
     },
     "output_type": "display_data"
    },
    {
     "data": {
      "image/png": "[encoded data removed]",
      "text/plain": [
       "<Figure size 432x288 with 1 Axes>"
      ]
     },
     "metadata": {
      "needs_background": "light"
     },
     "output_type": "display_data"
    },
    {
     "data": {
      "image/png": "[encoded data removed]",
      "text/plain": [
       "<Figure size 432x288 with 1 Axes>"
      ]
     },
     "metadata": {
      "needs_background": "light"
     },
     "output_type": "display_data"
    }
   ],
   "source": [
    "naive_pipe.fit(Xtrain2, Ytrain2)\n",
    "pipeline.model_eval(naive_pipe, Xtest2, Ytest2, model_type='classification')"
   ]
  },
  {
   "cell_type": "markdown",
   "metadata": {},
   "source": [
    "## Results\n",
    "The low precision and high recall of our Naive Bayes results are a consistent theme. Considering that for our context recall is the priority, the Naive Bayes model provides some value added for identifying food insecure regions with considerable lead time. More features, better feature engineering, more sophisticated imputation for missing values, and inclusion of the lagged outcome in the feature space are all methods thay may improve upon the current model."
   ]
  }
 ],
 "metadata": {
  "kernelspec": {
   "display_name": "ml30254",
   "language": "python",
   "name": "ml30254"
  },
  "language_info": {
   "codemirror_mode": {
    "name": "ipython",
    "version": 3
   },
   "file_extension": ".py",
   "mimetype": "text/x-python",
   "name": "python",
   "nbconvert_exporter": "python",
   "pygments_lexer": "ipython3",
   "version": "3.8.3"
  }
 },
 "nbformat": 4,
 "nbformat_minor": 2
}
